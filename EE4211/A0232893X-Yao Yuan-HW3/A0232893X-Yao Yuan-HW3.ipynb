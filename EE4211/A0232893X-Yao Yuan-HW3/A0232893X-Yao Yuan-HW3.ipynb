{
 "cells": [
  {
   "cell_type": "markdown",
   "metadata": {},
   "source": [
    "#Question 1"
   ]
  },
  {
   "cell_type": "code",
   "execution_count": 1,
   "metadata": {},
   "outputs": [],
   "source": [
    "%matplotlib inline\n",
    "import numpy as np\n",
    "import matplotlib.pyplot as plt\n",
    "from scipy import stats\n",
    "\n",
    "plt.style.use('seaborn')"
   ]
  },
  {
   "cell_type": "code",
   "execution_count": 2,
   "metadata": {},
   "outputs": [],
   "source": [
    "Xp = np.array([[-1,3],[0,2],[0,1],[0,0]])\n",
    "Xn = np.array([[1,5],[1,6],[3,3]])"
   ]
  },
  {
   "cell_type": "code",
   "execution_count": 3,
   "metadata": {},
   "outputs": [
    {
     "data": {
      "image/png": "[encoded data removed]",
      "text/plain": [
       "<Figure size 576x396 with 1 Axes>"
      ]
     },
     "metadata": {},
     "output_type": "display_data"
    }
   ],
   "source": [
    "plt.scatter(Xp[:, 0], Xp[:, 1], marker='+', c='#1f77b4', s=50);\n",
    "plt.scatter(Xn[:, 0], Xn[:, 1], marker='o', c='#ff7f0e', s=50);"
   ]
  },
  {
   "cell_type": "code",
   "execution_count": 4,
   "metadata": {},
   "outputs": [
    {
     "data": {
      "image/png": "[encoded data removed]",
      "text/plain": [
       "<Figure size 576x396 with 1 Axes>"
      ]
     },
     "metadata": {},
     "output_type": "display_data"
    }
   ],
   "source": [
    "Xp = np.array([[-1,3],[0,2],[0,1],[0,0],[-2,0],[-2,1],[-2,3],[-1, 0],[-1, 1]])\n",
    "plt.scatter(Xp[:, 0], Xp[:, 1], marker='+', c='#1f77b4', s=50);\n",
    "plt.scatter(Xn[:, 0], Xn[:, 1], marker='o', c='#ff7f0e', s=50);"
   ]
  },
  {
   "cell_type": "markdown",
   "metadata": {},
   "source": [
    "#Question 3"
   ]
  },
  {
   "cell_type": "code",
   "execution_count": 7,
   "metadata": {},
   "outputs": [],
   "source": [
    "import pandas as pd\n",
    "import numpy as np\n",
    "import seaborn as sns\n",
    "import matplotlib.pyplot as plt\n",
    "from matplotlib.pyplot import figure\n",
    "from sklearn import preprocessing\n",
    "from sklearn.model_selection import train_test_split\n",
    "from sklearn.svm import SVC  # \"Support Vector Classifier\""
   ]
  },
  {
   "cell_type": "code",
   "execution_count": 8,
   "metadata": {},
   "outputs": [],
   "source": [
    "df = pd.read_csv('wdbc.csv',header = None)\n",
    "X = df.iloc[:,2:32]\n",
    "Y = df.iloc[:,1]"
   ]
  },
  {
   "cell_type": "code",
   "execution_count": 9,
   "metadata": {},
   "outputs": [
    {
     "name": "stdout",
     "output_type": "stream",
     "text": [
      "Average Accuray train is 0.9679648241206034\n",
      "Average Accuray test is 0.9514619883040932\n",
      "Average Precision is 0.9617527987603658\n",
      "Average Recall is 0.9114987073952223\n"
     ]
    }
   ],
   "source": [
    "from sklearn.metrics import recall_score\n",
    "from sklearn.metrics import precision_score\n",
    "\n",
    "clf1 = SVC(kernel='linear',gamma='auto')\n",
    "acc_train_sum = 0.0\n",
    "acc_test_sum = 0.0\n",
    "pre_sum = 0.0\n",
    "rec_sum = 0.0\n",
    "for i in range(0,20):\n",
    "    (X_train,X_test,Y_train,Y_test)=train_test_split(X, Y, test_size=0.3)\n",
    "    clf1.fit(X_train, Y_train)\n",
    "    y_pred = clf1.predict(X_test)\n",
    "    \n",
    "    acc_train_sum += clf1.score(X_train, Y_train)\n",
    "    acc_test_sum += clf1.score(X_test, Y_test)\n",
    "    pre_sum += precision_score(Y_test, y_pred, labels=['M','B'], pos_label='M', average='binary', sample_weight=None)\n",
    "    rec_sum += recall_score(Y_test, y_pred, labels=['M','B'], pos_label='M', average='binary', sample_weight=None)\n",
    "#    print(i, \"time the score is\", clf1.score(X_test, Y_test))\n",
    "print(\"Average Accuray train is\", acc_train_sum/20)\n",
    "print(\"Average Accuray test is\", acc_test_sum/20)\n",
    "print(\"Average Precision is\", pre_sum/20)\n",
    "print(\"Average Recall is\", rec_sum/20)"
   ]
  },
  {
   "cell_type": "code",
   "execution_count": 10,
   "metadata": {},
   "outputs": [],
   "source": [
    "map1 = {'M':0.0,'B':1.0}\n",
    "Y = Y.map(map1)\n",
    "(X_train,X_test,Y_train,Y_test)=train_test_split(X, Y, test_size=0.3)"
   ]
  },
  {
   "cell_type": "code",
   "execution_count": 11,
   "metadata": {},
   "outputs": [
    {
     "name": "stdout",
     "output_type": "stream",
     "text": [
      "Average Accuray train is 0.9149497487437184\n",
      "Average Accuray test is 0.9116959064327487\n",
      "Average Precision is 0.9116959064327487\n",
      "Average Recall is 0.9116959064327487\n"
     ]
    }
   ],
   "source": [
    "acc_train_sum = 0.0\n",
    "acc_test_sum = 0.0\n",
    "pre_sum = 0.0\n",
    "rec_sum = 0.0\n",
    "clf2 = SVC(kernel='rbf',gamma='scale')\n",
    "for i in range(0,20):\n",
    "    (X_train,X_test,Y_train,Y_test)=train_test_split(X, Y, test_size=0.3)\n",
    "    clf2.fit(X_train, Y_train)\n",
    "    y_pred = clf2.predict(X_test)\n",
    "    \n",
    "    acc_train_sum += clf2.score(X_train, Y_train)\n",
    "    acc_test_sum += clf2.score(X_test, Y_test)\n",
    "    pre_sum += precision_score(Y_test, y_pred, labels=[0.,1.], average='micro', sample_weight=None)\n",
    "    rec_sum += recall_score(Y_test, y_pred, labels=[0.,1.], average='micro', sample_weight=None)\n",
    "#    print(i, \"time the score is\", clf1.score(X_test, Y_test))\n",
    "print(\"Average Accuray train is\", acc_train_sum/20)\n",
    "print(\"Average Accuray test is\", acc_test_sum/20)\n",
    "print(\"Average Precision is\", pre_sum/20)\n",
    "print(\"Average Recall is\", rec_sum/20)"
   ]
  },
  {
   "cell_type": "code",
   "execution_count": 12,
   "metadata": {},
   "outputs": [
    {
     "name": "stdout",
     "output_type": "stream",
     "text": [
      "[1. 1. 1. 1. 0. 1. 1. 0. 1. 1. 0. 0. 1. 1. 0. 1. 1. 1. 1. 0. 1. 1. 1. 1.\n",
      " 1. 1. 1. 1. 1. 1. 1. 1. 0. 1. 1. 0. 0. 0. 1. 1. 0. 1. 1. 1. 0. 1. 0. 1.\n",
      " 1. 1. 1. 1. 1. 1. 0. 1. 0. 1. 0. 1. 0. 1. 0. 1. 1. 1. 1. 0. 1. 1. 1. 1.\n",
      " 0. 1. 1. 1. 0. 0. 1. 1. 1. 1. 0. 0. 1. 1. 1. 0. 0. 1. 1. 0. 0. 0. 1. 1.\n",
      " 1. 0. 0. 0. 0. 1. 1. 0. 1. 1. 0. 1. 1. 1. 1. 1. 1. 0. 1. 0. 1. 0. 1. 1.\n",
      " 1. 0. 0. 1. 1. 0. 1. 1. 1. 1. 1. 0. 1. 1. 1. 1. 0. 1. 1. 1. 0. 1. 1. 0.\n",
      " 1. 0. 0. 1. 1. 1. 1. 0. 1. 1. 1. 1. 0. 1. 0. 1. 1. 0. 0. 1. 1. 0. 0. 0.\n",
      " 1. 1. 1.]\n"
     ]
    }
   ],
   "source": [
    "print(y_pred)"
   ]
  },
  {
   "cell_type": "code",
   "execution_count": 17,
   "metadata": {},
   "outputs": [
    {
     "name": "stdout",
     "output_type": "stream",
     "text": [
      "Average Accuray train is 0.9599246231155778\n",
      "Average Accuray test is 0.9464912280701754\n",
      "Average Precision is 0.9464912280701754\n",
      "Average Recall is 0.9464912280701754\n"
     ]
    }
   ],
   "source": [
    "acc_train_sum = 0.0\n",
    "acc_test_sum = 0.0\n",
    "pre_sum = 0.0\n",
    "rec_sum = 0.0\n",
    "clf3 = SVC(kernel='rbf',gamma='scale',C=1000)\n",
    "for i in range(0,20):\n",
    "    (X_train,X_test,Y_train,Y_test)=train_test_split(X, Y, test_size=0.3)\n",
    "    clf3.fit(X_train, Y_train)\n",
    "    y_pred = clf3.predict(X_test)\n",
    "    \n",
    "    acc_train_sum += clf3.score(X_train, Y_train)\n",
    "    acc_test_sum += clf3.score(X_test, Y_test)\n",
    "    pre_sum += precision_score(Y_test, y_pred, labels=[0.,1.], average='micro', sample_weight=None)\n",
    "    rec_sum += recall_score(Y_test, y_pred, labels=[0.,1.], average='micro', sample_weight=None)\n",
    "#    print(i, \"time the score is\", clf1.score(X_test, Y_test))\n",
    "print(\"Average Accuray train is\", acc_train_sum/20)\n",
    "print(\"Average Accuray test is\", acc_test_sum/20)\n",
    "print(\"Average Precision is\", pre_sum/20)\n",
    "print(\"Average Recall is\", rec_sum/20)"
   ]
  },
  {
   "cell_type": "code",
   "execution_count": null,
   "metadata": {},
   "outputs": [],
   "source": []
  }
 ],
 "metadata": {
  "kernelspec": {
   "display_name": "Python 3",
   "language": "python",
   "name": "python3"
  },
  "language_info": {
   "codemirror_mode": {
    "name": "ipython",
    "version": 3
   },
   "file_extension": ".py",
   "mimetype": "text/x-python",
   "name": "python",
   "nbconvert_exporter": "python",
   "pygments_lexer": "ipython3",
   "version": "3.7.0"
  }
 },
 "nbformat": 4,
 "nbformat_minor": 2
}
