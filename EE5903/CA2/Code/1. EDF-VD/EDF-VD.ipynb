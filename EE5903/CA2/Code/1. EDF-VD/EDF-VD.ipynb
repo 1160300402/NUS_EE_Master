{
 "cells": [
  {
   "cell_type": "code",
   "execution_count": 1,
   "metadata": {},
   "outputs": [],
   "source": [
    "import random as r\n",
    "from math import gcd\n",
    "import sys\n",
    "from os import system, name\n",
    "import pandas as pd\n",
    "import random\n",
    "import matplotlib.pyplot as plt\n",
    "import numpy as np"
   ]
  },
  {
   "cell_type": "code",
   "execution_count": 2,
   "metadata": {},
   "outputs": [
    {
     "name": "stdout",
     "output_type": "stream",
     "text": [
      "   task_id  C_LO  C_HI   T   D  Criticality_level  Release_time  \\\n",
      "0        1     2     3  20  20                  1           NaN   \n",
      "1        2     4     6  20  20                  1           NaN   \n",
      "2        3     6     6  20  20                  0           NaN   \n",
      "\n",
      "   Virtual_deadline  \n",
      "0               NaN  \n",
      "1               NaN  \n",
      "2               NaN  \n"
     ]
    }
   ],
   "source": [
    "Task_Set = pd.read_excel('taskset1_EDFVD.xlsx')\n",
    "print(Task_Set.head(5))"
   ]
  },
  {
   "cell_type": "code",
   "execution_count": 3,
   "metadata": {},
   "outputs": [
    {
     "name": "stdout",
     "output_type": "stream",
     "text": [
      "X is : 0.43\n",
      "0.43\n",
      "Hyper Period is:  20\n"
     ]
    }
   ],
   "source": [
    "#Calculating X：Ratio of Virtural deadline and real deadline\n",
    "def calculate_X():\n",
    "    u_lo_lo,u_hi,u_lo_hi,u_lo_total=0,0,0,0\n",
    "    \n",
    "    for index in range(len(Task_Set)):\n",
    "        task = Task_Set.iloc[index]\n",
    "        if task['Criticality_level']==0:\n",
    "            u_lo_lo += task['C_LO']/task['T'];\n",
    "\n",
    "        elif task['Criticality_level']==1:\n",
    "            u_hi += task['C_HI']/task['T'];\n",
    "            u_lo_hi += task['C_LO']/task['T'];\n",
    "    \n",
    "    u_lo_total=u_lo_lo + u_lo_hi;\n",
    "    #ensuring that EDF-VD successfully schedules all LO-criticality behaviors\n",
    "    X = u_lo_hi / (1-u_lo_lo);\n",
    "    #ensuring that EDF-VD successfully schedules all HI -criticality behaviors\n",
    "    chk = X * u_lo_lo + u_hi;\n",
    "    if u_hi >1 or u_lo_total >1:\n",
    "        print(\"Utilization is larger than 1, can't scheduling!!!\");\n",
    "        return -1;\n",
    "    elif chk <=1:\n",
    "        print(\"X is : %s\"%round(X,2));\n",
    "        return round(X,2);\n",
    "    else:\n",
    "        print(\"X is larger than 1, can't scheduling!!!\");\n",
    "        return -2;\n",
    "    print(\"X is : %s\"%round(X,2));\n",
    "x = calculate_X();\n",
    "print(x)\n",
    "\n",
    "#Calculating Hyper Periods as LCM\n",
    "def calculate_LCM():\n",
    "    lcm = 0;\n",
    "    for index in range(len(Task_Set)):\n",
    "        task = Task_Set.iloc[index]\n",
    "        if index == 0:\n",
    "            lcm = int(task['T']);\n",
    "        else:\n",
    "            t = int(task['T']);\n",
    "            lcm = int(lcm * t / gcd(lcm, t));\n",
    "    return lcm\n",
    "lcm = calculate_LCM()\n",
    "print(\"Hyper Period is: \",lcm)"
   ]
  },
  {
   "cell_type": "code",
   "execution_count": 4,
   "metadata": {},
   "outputs": [
    {
     "name": "stdout",
     "output_type": "stream",
     "text": [
      "   task_id  C_LO  C_HI   T   D  Criticality_level  Release_time  \\\n",
      "0        1     2     3  20  20                  1           NaN   \n",
      "1        2     4     6  20  20                  1           NaN   \n",
      "2        3     6     6  20  20                  0           NaN   \n",
      "\n",
      "   Virtual_deadline  \n",
      "0               8.6  \n",
      "1               8.6  \n",
      "2              20.0  \n"
     ]
    }
   ],
   "source": [
    "# set VD\n",
    "for index in range(len(Task_Set)):\n",
    "    D = Task_Set.loc[index, 'D'];\n",
    "    if Task_Set.iloc[index]['Criticality_level']==1:\n",
    "        Task_Set.loc[index,'Virtual_deadline']= D*x;\n",
    "    elif Task_Set.iloc[index]['Criticality_level']==0:\n",
    "        Task_Set.loc[index,'Virtual_deadline'] = D;\n",
    "\n",
    "print(Task_Set.head(5))"
   ]
  },
  {
   "cell_type": "code",
   "execution_count": 5,
   "metadata": {},
   "outputs": [],
   "source": [
    "# 判断是否有新的job生成进入可执行队列\n",
    "# Check whether a new job is generated in this time. If have and move it the executable queue\n",
    "'''\n",
    "input：\n",
    "    time(int): The time of total clock\n",
    "    mode(int): Mode of system. 1 means high critical mode; 0 means low critical mode\n",
    "    ready_que(pd.Dataframe): The ready executable queue of system\n",
    "    fail_pro: Fail probability of high critical task.\n",
    "output:\n",
    "    ready_que(pd.Dataframe): The ready executable queue of system\n",
    "'''\n",
    "def release_job(time, mode, ready_que, fail_pro):\n",
    "    if time==0:\n",
    "        return ready_que;\n",
    "    for index in range(len(Task_Set)):\n",
    "        task = Task_Set.iloc[index]\n",
    "        if (task['Criticality_level'] == mode) or (task['Criticality_level'] == 1):\n",
    "            if time % task['T'] == 0:\n",
    "                a = task.copy();\n",
    "                a['Release_time'] = int(time);\n",
    "                a['Job_id'] = int(time / task['T']);\n",
    "                x = random.random();\n",
    "                if (task['Criticality_level']==1 and x<=fail_pro) or (mode==1): #overrun case\n",
    "                    a['Remain_execute_time'] = task['C_HI'];\n",
    "                    a['Execute_time'] = task['C_HI'];\n",
    "                else:\n",
    "                    a['Remain_execute_time'] = task['C_LO'];\n",
    "                    a['Execute_time'] = task['C_LO'];\n",
    "  \n",
    "                ready_que = ready_que.append(a, ignore_index=True);\n",
    "    return ready_que;"
   ]
  },
  {
   "cell_type": "code",
   "execution_count": 6,
   "metadata": {},
   "outputs": [],
   "source": [
    "#选择Vd最近的任务执行\n",
    "# Choose the latest virtual deadline job to execute 1 unit time. If the job time out, then update the criticality mode to hight criticality.\n",
    "'''\n",
    "input：\n",
    "    time(int): The time of total clock\n",
    "    mode(int): Mode of system. 1 means high critical mode; 0 means low critical mode\n",
    "    ready_que(pd.Dataframe): The ready executable queue of system\n",
    "    histort(pd.Dataframe): The execution history for every unit time\n",
    "    job_num(int): Total finished job of the system\n",
    "output:\n",
    "    ready_que(pd.Dataframe)\n",
    "    mode(int)\n",
    "    histort(pd.Dataframe)\n",
    "    job_num(int)\n",
    "'''\n",
    "def execute_job(time, mode, ready_que, history, job_num):\n",
    "    if(len(ready_que)==0):#如果目前准备队列中没有job, if there is no job in ready queue\n",
    "        history = history.append({\"Time\":time}, ignore_index=True)\n",
    "        return ready_que, mode, history, job_num;\n",
    "    if mode == 0:\n",
    "        Absolute_VD = ready_que['Release_time'] + ready_que['Virtual_deadline'];\n",
    "        minidx = Absolute_VD.idxmin();\n",
    "        ready_que.loc[minidx,'Remain_execute_time'] = ready_que.loc[minidx,'Remain_execute_time'] - 1;\n",
    "        task_id = ready_que.loc[minidx,'task_id'];\n",
    "        Job_id = ready_que.loc[minidx,'Job_id'];\n",
    "        Remain_execute_time = ready_que.loc[minidx,'Remain_execute_time'];\n",
    "        history = history.append({\"Time\":time, \"task_id\":task_id, \"Job_id\":Job_id, 'Remain_execute_time':Remain_execute_time}, ignore_index=True);\n",
    "        if ready_que.loc[minidx,'Remain_execute_time'] == 0: #如果任务完成, if job is finished\n",
    "            job_num = job_num + 1;\n",
    "            if ready_que.loc[minidx,'Execute_time'] > ready_que.loc[minidx,'C_LO']:# 如果执行超时, if execution timeout\n",
    "                mode = 1;\n",
    "                ready_que = ready_que.drop(ready_que[ready_que['Criticality_level']==0].index)# drop low criticality jobs\n",
    "            ready_que = ready_que.drop(minidx);#drop finished job\n",
    "    elif mode == 1:\n",
    "        Absolute_DDL = ready_que['Release_time'] + ready_que['D'];\n",
    "        minidx = Absolute_DDL.idxmin();\n",
    "        ready_que.loc[minidx,'Remain_execute_time'] = ready_que.loc[minidx,'Remain_execute_time'] - 1;\n",
    "        task_id = ready_que.loc[minidx,'task_id'];\n",
    "        Job_id = ready_que.loc[minidx,'Job_id'];\n",
    "        Remain_execute_time = ready_que.loc[minidx,'Remain_execute_time'];\n",
    "        history = history.append({\"Time\":time, \"task_id\":task_id, \"Job_id\":Job_id, 'Remain_execute_time':Remain_execute_time}, ignore_index=True);\n",
    "        if ready_que.loc[minidx,'Remain_execute_time'] == 0: #如果任务完成, if job is finished\n",
    "            job_num = job_num + 1;\n",
    "            ready_que = ready_que.drop(minidx);\n",
    "        \n",
    "    return ready_que, mode, history, job_num;"
   ]
  },
  {
   "cell_type": "code",
   "execution_count": 7,
   "metadata": {},
   "outputs": [],
   "source": [
    "# Main function of the EDV-FD schduling\n",
    "'''\n",
    "input：\n",
    "    Totaltime(int): The Totaltime need to schduling\n",
    "    fail_pro(float): Failure probability of high critical job to execute more than its C(LO)\n",
    "    need_history(Boolean): Print the execution history or not\n",
    "output:\n",
    "    history(pd.Dataframe): Execution history for every unit time\n",
    "    job_num(int): Total finished job of the system\n",
    "'''\n",
    "def EDFVD_Schduling(Totaltime, fail_pro, need_history=False):\n",
    "    mode = 0; #Criticality mode of system\n",
    "    time = 0; #Time clock of the system\n",
    "    job_num = 0; #Total finished job of the system\n",
    "    history = pd.DataFrame(); #History execution record of every unit time\n",
    "    ready_que = Task_Set.copy(); #Initialize the ready job queue\n",
    "    ready_que['Release_time'] = int(0);\n",
    "    ready_que['Remain_execute_time'] = ready_que['C_LO'];\n",
    "    ready_que['Execute_time'] = ready_que['C_LO'];\n",
    "    ready_que['Job_id'] = int(0);\n",
    "    \n",
    "    if x < 0 :\n",
    "        print(\"This dataset can not be scheduling!\")\n",
    "        return history, job_num;\n",
    "    \n",
    "    while time < Totaltime: #For every unit time\n",
    "        #Release new job and random its execution time\n",
    "        ready_que = release_job(time, mode, ready_que, fail_pro);\n",
    "        #Choose the latest virtual deadline job to execute 1 unit time\n",
    "        ready_que, mode, history, job_num = execute_job(time, mode, ready_que, history, job_num)\n",
    "       \n",
    "        time = time + 1;\n",
    "    if need_history:\n",
    "        print(\"Execution history for every unit time:\");\n",
    "        print(history);\n",
    "        print(\"---------------------------------------\");\n",
    "    #print(\"Total task finished：\",job_num);\n",
    "    return history, job_num;"
   ]
  },
  {
   "cell_type": "code",
   "execution_count": 8,
   "metadata": {},
   "outputs": [],
   "source": [
    "import matplotlib.pyplot as plt\n",
    "# Random the fail ratio in [0.05, 0.2]. Get the utilization and average finish job numbers\n",
    "# for different schduling time.\n",
    "def test_schduling():\n",
    "    x = [5, 10, 20, 40, 60, 80, 100]\n",
    "    utilization = []\n",
    "    Avg_jobnum = []\n",
    "    for i in x:\n",
    "        u_sum = 0;\n",
    "        a_sum = 0;\n",
    "        for j in range(3):\n",
    "            fail_pro = random.uniform(0.05,0.2);\n",
    "            Totaltime = i*lcm;\n",
    "            history, finished_task = EDFVD_Schduling(Totaltime, fail_pro)\n",
    "            not_use_time = pd.isna(history[\"task_id\"])\n",
    "            u = (Totaltime - len(history[not_use_time])) / Totaltime\n",
    "            a_jn = finished_task/Totaltime\n",
    "            u_sum = u_sum + u\n",
    "            a_sum = a_sum + a_jn\n",
    "        utilization.append(u_sum/3)\n",
    "        Avg_jobnum.append(a_sum/3)\n",
    "        print(\"Finish\",i)\n",
    "    \n",
    "    fig, ax = plt.subplots()\n",
    "    ax.plot(x, utilization, \"or:\")\n",
    "    ax.set_ylim(ymin = 0, ymax = 1.0)\n",
    "    ax.set_title(\"Utilization of EDF-VD\")\n",
    "    ax.set_xlabel(\"Total schduling time\")\n",
    "    ax.set_ylabel(\"Utilization\")\n",
    "    plt.show()\n",
    "    \n",
    "    fig, ax = plt.subplots()\n",
    "    ax.plot(x, Avg_jobnum, \"og:\")\n",
    "    ax.set_title(\"Average finish job of EDF-VD\")\n",
    "    ax.set_xlabel(\"Total schduling time\")\n",
    "    ax.set_ylabel(\"Avg jobs per unit time\")\n",
    "    ax.set_ylim(ymin = 0, ymax = 0.4)\n",
    "    plt.show()\n",
    "    print(\"Utilization: \", utilization)\n",
    "    print(\"Avg job nums: \", Avg_jobnum)"
   ]
  },
  {
   "cell_type": "code",
   "execution_count": 9,
   "metadata": {},
   "outputs": [
    {
     "name": "stdout",
     "output_type": "stream",
     "text": [
      "Finish 5\n",
      "Finish 10\n",
      "Finish 20\n",
      "Finish 40\n",
      "Finish 60\n",
      "Finish 80\n",
      "Finish 100\n"
     ]
    },
    {
     "data": {
      "image/png": "[encoded data removed]",
      "text/plain": [
       "<Figure size 432x288 with 1 Axes>"
      ]
     },
     "metadata": {
      "needs_background": "light"
     },
     "output_type": "display_data"
    },
    {
     "data": {
      "image/png": "[encoded data removed]",
      "text/plain": [
       "<Figure size 432x288 with 1 Axes>"
      ]
     },
     "metadata": {
      "needs_background": "light"
     },
     "output_type": "display_data"
    },
    {
     "name": "stdout",
     "output_type": "stream",
     "text": [
      "Utilization:  [0.5533333333333333, 0.5116666666666666, 0.46166666666666667, 0.45416666666666666, 0.4511111111111111, 0.45458333333333334, 0.45199999999999996]\n",
      "Avg job nums:  [0.1366666666666667, 0.12333333333333334, 0.105, 0.10208333333333332, 0.10083333333333333, 0.10166666666666667, 0.10100000000000002]\n"
     ]
    }
   ],
   "source": [
    "test_schduling()"
   ]
  }
 ],
 "metadata": {
  "kernelspec": {
   "display_name": "Python 3 (ipykernel)",
   "language": "python",
   "name": "python3"
  },
  "language_info": {
   "codemirror_mode": {
    "name": "ipython",
    "version": 3
   },
   "file_extension": ".py",
   "mimetype": "text/x-python",
   "name": "python",
   "nbconvert_exporter": "python",
   "pygments_lexer": "ipython3",
   "version": "3.9.7"
  }
 },
 "nbformat": 4,
 "nbformat_minor": 4
}
