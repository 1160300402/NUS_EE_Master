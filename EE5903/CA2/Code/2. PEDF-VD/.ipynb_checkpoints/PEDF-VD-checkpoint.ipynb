{
 "cells": [
  {
   "cell_type": "code",
   "execution_count": 1,
   "id": "070c92c8",
   "metadata": {},
   "outputs": [],
   "source": [
    "import random as r\n",
    "from math import gcd\n",
    "import sys\n",
    "from os import system, name\n",
    "import pandas as pd\n",
    "import random\n",
    "import matplotlib.pyplot as plt\n",
    "import numpy as np"
   ]
  },
  {
   "cell_type": "code",
   "execution_count": 2,
   "id": "95617456",
   "metadata": {},
   "outputs": [
    {
     "name": "stdout",
     "output_type": "stream",
     "text": [
      "   task_id  C_LO  C_HI   T   D  Criticality_level  Release_time  \\\n",
      "0        1     4     2  25  25                  0           NaN   \n",
      "1        2     6     4  20  20                  0           NaN   \n",
      "2        3     1     2  10  10                  1           NaN   \n",
      "3        4     2     3  15  15                  1           NaN   \n",
      "4        5     2     4  20  20                  1           NaN   \n",
      "\n",
      "   Virtual_deadline      f  \n",
      "0               NaN    NaN  \n",
      "1               NaN    NaN  \n",
      "2               NaN  0.001  \n",
      "3               NaN  0.003  \n",
      "4               NaN  0.001  \n"
     ]
    }
   ],
   "source": [
    "Task_Set = pd.read_excel('taskset2_PEDFVD.xlsx')\n",
    "print(Task_Set.head(5))"
   ]
  },
  {
   "cell_type": "code",
   "execution_count": 3,
   "id": "a48c0f7a",
   "metadata": {},
   "outputs": [
    {
     "data": {
      "text/plain": [
       "(True, 0.1)"
      ]
     },
     "execution_count": 3,
     "metadata": {},
     "output_type": "execute_result"
    }
   ],
   "source": [
    "# Do the schedulability analysis, check the dataset can be Scheduling by PEDF-VD or not. We will only use clusters\n",
    "# number M equals 1 here.\n",
    "'''\n",
    "input：\n",
    "    Fs(float): The permitted failure probability of the system.\n",
    "output:\n",
    "    schedulability(boolean): Whether the dataset can be scheduling by PEDF-VD\n",
    "    lamda_max(float): Addition utilization of the system\n",
    "'''\n",
    "def Schedulability_analysis(Fs=1e-5):\n",
    "    schedulability = True;\n",
    "    u_lo_lo2,u_hi2,u_lo_hi2=0,0,0\n",
    "    gm, fail0, fail1 =0,1,0\n",
    "    theta = [] # The additionla utilization of every high critical tasks.\n",
    "    \n",
    "    for index in range(len(Task_Set)):\n",
    "        task = Task_Set.iloc[index]\n",
    "        if task['Criticality_level']==1:\n",
    "            fi = task['f']\n",
    "            fail0 = fail0 * (1-fi)\n",
    "            theta.append( (task['C_HI']-task['C_LO']) / task['T'])\n",
    "            u_hi2 += task['C_HI']/task['T'];\n",
    "            u_lo_hi2 += task['C_LO']/task['T'];\n",
    "        elif task['Criticality_level']==0:\n",
    "            u_lo_lo2 += task['C_LO']/task['T'];\n",
    "    for index in range(len(Task_Set)):\n",
    "        task = Task_Set.iloc[index]\n",
    "        if task['Criticality_level']==1:\n",
    "            fi = task['f']\n",
    "            fail1 = fail1 + fi * fail0/(1-fi)\n",
    "            \n",
    "    gm = 1 - fail0 - fail1\n",
    "    if gm>Fs:\n",
    "        schedulability = False;\n",
    "    \n",
    "    lamda_max = max(theta)\n",
    "    \n",
    "    if u_lo_hi2 > (1-lamda_max)*(1-u_lo_lo2):\n",
    "        schedulability = False;\n",
    "    \n",
    "    return schedulability, lamda_max\n",
    "\n",
    "    \n",
    "Schedulability_analysis()"
   ]
  },
  {
   "cell_type": "code",
   "execution_count": 4,
   "id": "2aee9047",
   "metadata": {},
   "outputs": [
    {
     "name": "stdout",
     "output_type": "stream",
     "text": [
      "X is : 0.62\n",
      "0.62\n"
     ]
    }
   ],
   "source": [
    "# Calculating X：Ratio of Virtural deadline and real deadline \n",
    "def calculate_X():\n",
    "    u_lo_lo,u_hi,u_lo_hi,u_lo_total=0,0,0,0\n",
    "    \n",
    "    for index in range(len(Task_Set)):\n",
    "        task = Task_Set.iloc[index]\n",
    "        if task['Criticality_level']==0:\n",
    "            u_lo_lo += task['C_LO']/task['T'];\n",
    "\n",
    "        elif task['Criticality_level']==1:\n",
    "            u_hi += task['C_HI']/task['T'];\n",
    "            u_lo_hi += task['C_LO']/task['T'];\n",
    "    \n",
    "    u_lo_total=u_lo_lo + u_lo_hi;\n",
    "    #ensuring that EDF-VD successfully schedules all LO-criticality behaviors\n",
    "    X = u_lo_hi / (1-u_lo_lo);\n",
    "    #ensuring that EDF-VD successfully schedules all HI -criticality behaviors\n",
    "    chk = X * u_lo_lo + u_hi;\n",
    "    if u_hi >1 or u_lo_total >1:\n",
    "        print(\"Utilization is larger than 1, can't scheduling!!!\");\n",
    "        return -1;\n",
    "    elif chk <=1:\n",
    "        print(\"X is : %s\"%round(X,2));\n",
    "        return round(X,2);\n",
    "    else:\n",
    "        print(\"X is larger than 1, can't scheduling!!!\");\n",
    "        return -2;\n",
    "    print(\"X is : %s\"%round(X,2));\n",
    "x = calculate_X();\n",
    "print(x)"
   ]
  },
  {
   "cell_type": "code",
   "execution_count": 5,
   "id": "06ae7fde",
   "metadata": {},
   "outputs": [
    {
     "name": "stdout",
     "output_type": "stream",
     "text": [
      "Hyper Period is:  300\n"
     ]
    }
   ],
   "source": [
    "#Calculating Hyper Periods as LCM\n",
    "def calculate_LCM():\n",
    "    lcm = 0;\n",
    "    for index in range(len(Task_Set)):\n",
    "        task = Task_Set.iloc[index]\n",
    "        if index == 0:\n",
    "            lcm = int(task['T']);\n",
    "        else:\n",
    "            t = int(task['T']);\n",
    "            lcm = int(lcm * t / gcd(lcm, t));\n",
    "    return lcm\n",
    "lcm = calculate_LCM()\n",
    "print(\"Hyper Period is: \",lcm)"
   ]
  },
  {
   "cell_type": "code",
   "execution_count": 6,
   "id": "dd39ba6b",
   "metadata": {},
   "outputs": [
    {
     "name": "stdout",
     "output_type": "stream",
     "text": [
      "   task_id  C_LO  C_HI   T   D  Criticality_level  Release_time  \\\n",
      "0        1     4     2  25  25                  0           NaN   \n",
      "1        2     6     4  20  20                  0           NaN   \n",
      "2        3     1     2  10  10                  1           NaN   \n",
      "3        4     2     3  15  15                  1           NaN   \n",
      "4        5     2     4  20  20                  1           NaN   \n",
      "\n",
      "   Virtual_deadline      f  \n",
      "0              25.0    NaN  \n",
      "1              20.0    NaN  \n",
      "2               6.2  0.001  \n",
      "3               9.3  0.003  \n",
      "4              12.4  0.001  \n"
     ]
    }
   ],
   "source": [
    "# set VD\n",
    "for index in range(len(Task_Set)):\n",
    "    D = Task_Set.loc[index, 'D'];\n",
    "    if Task_Set.iloc[index]['Criticality_level']==1:\n",
    "        Task_Set.loc[index,'Virtual_deadline']= D*x;\n",
    "    elif Task_Set.iloc[index]['Criticality_level']==0:\n",
    "        Task_Set.loc[index,'Virtual_deadline'] = D;\n",
    "\n",
    "print(Task_Set.head(5))"
   ]
  },
  {
   "cell_type": "code",
   "execution_count": 7,
   "id": "eca2576f",
   "metadata": {},
   "outputs": [],
   "source": [
    "# Check if there is any job not completed before ddl. If has , drop it from ready execution queue\n",
    "'''\n",
    "input：\n",
    "    time(int): The time of total clock\n",
    "    ready_que(pd.Dataframe): The ready executable queue of system\n",
    "output:\n",
    "    result(boolean): \"True\" means has job don't complete on time; \"False\" means hasn't\n",
    "    ready_que(pd.Dataframe)\n",
    "'''\n",
    "def Check_job(time, ready_que):\n",
    "    result = False\n",
    "    if len(ready_que)==0:\n",
    "        return result,ready_que\n",
    "    \n",
    "    for index in range(len(ready_que)):\n",
    "        job = ready_que.iloc[index]\n",
    "        if(job['Release_time'] + job['D'] < time):\n",
    "            ready_que.drop(index)\n",
    "            result = True\n",
    "            if job['Criticality_level']==1 :\n",
    "                print(\"Danger!!!! A high critical job is not finish on time.\")\n",
    "                print(time, job)\n",
    "    return result,ready_que\n"
   ]
  },
  {
   "cell_type": "code",
   "execution_count": 8,
   "id": "b092f4f5",
   "metadata": {},
   "outputs": [],
   "source": [
    "# 判断是否有新的job生成进入可执行队列\n",
    "# Check whether a new job is generated in this time. If have and move it the executable queue\n",
    "'''\n",
    "input：\n",
    "    time(int): The time of total clock\n",
    "    mode(int): Mode of system. 1 means high critical mode; 0 means low critical mode\n",
    "    ready_que(pd.Dataframe): The ready executable queue of system\n",
    "output:\n",
    "    ready_que(pd.Dataframe): The ready executable queue of system\n",
    "'''\n",
    "def Release_job(time, mode, ready_que):\n",
    "    if time==0:\n",
    "        return ready_que;\n",
    "    for index in range(len(Task_Set)):\n",
    "        task = Task_Set.iloc[index]\n",
    "        if (task['Criticality_level'] == mode) or (task['Criticality_level'] == 1):\n",
    "            if time % task['T'] == 0:\n",
    "                a = task.copy();\n",
    "                a['Release_time'] = int(time);\n",
    "                a['Job_id'] = int(time / task['T']);\n",
    "                x = random.random();\n",
    "                if (task['Criticality_level']==1 and x<=task['f']) or (mode==1): #overrun case\n",
    "                    a['Remain_execute_time'] = task['C_HI'];\n",
    "                    a['Execute_time'] = task['C_HI'];\n",
    "                else:\n",
    "                    a['Remain_execute_time'] = task['C_LO'];\n",
    "                    a['Execute_time'] = task['C_LO'];\n",
    "  \n",
    "                ready_que = ready_que.append(a, ignore_index=True);\n",
    "    return ready_que;      "
   ]
  },
  {
   "cell_type": "code",
   "execution_count": 9,
   "id": "32ff674e",
   "metadata": {},
   "outputs": [],
   "source": [
    "#选择Vd最近的任务执行\n",
    "# Choose the latest virtual deadline job to execute 1 unit time. If the job time out, then update the criticality mode to hight criticality.\n",
    "'''\n",
    "input：\n",
    "    time(int): The time of total clock\n",
    "    mode(int): Mode of system. 1 means high critical mode; 0 means low critical mode\n",
    "    ready_que(pd.Dataframe): The ready executable queue of system\n",
    "    histort(pd.Dataframe): The execution history for every unit time\n",
    "    job_num(int): Total finished job of the system\n",
    "output:\n",
    "    ready_que(pd.Dataframe)\n",
    "    mode(int)\n",
    "    histort(pd.Dataframe)\n",
    "    job_num(int)\n",
    "'''\n",
    "def execut_job(time, mode, ready_que, history, job_num):\n",
    "    if(len(ready_que)==0):#如果目前准备队列中没有job\n",
    "        history = history.append({\"Time\":time, \"Mode\":mode}, ignore_index=True)\n",
    "        return ready_que, mode, history, job_num;\n",
    "    if mode == 0:\n",
    "        Absolute_VD = ready_que['Release_time'] + ready_que['Virtual_deadline'];\n",
    "        minidx = Absolute_VD.idxmin();\n",
    "        ready_que.loc[minidx,'Remain_execute_time'] = ready_que.loc[minidx,'Remain_execute_time'] - 1;\n",
    "        task_id = ready_que.loc[minidx,'task_id'];\n",
    "        Job_id = ready_que.loc[minidx,'Job_id'];\n",
    "        Remain_execute_time = ready_que.loc[minidx,'Remain_execute_time'];\n",
    "        history = history.append({\"Time\":time, \"Mode\":mode, \"task_id\":task_id, \"Job_id\":Job_id, 'Remain_execute_time':Remain_execute_time}, ignore_index=True);\n",
    "        if ready_que.loc[minidx,'Remain_execute_time'] == 0: #如果任务完成\n",
    "            job_num = job_num + 1;\n",
    "            if ready_que.loc[minidx,'Execute_time'] > ready_que.loc[minidx,'C_LO']:# 如果执行超时\n",
    "                mode = 1;\n",
    "            ready_que = ready_que.drop(minidx);#drop完成的job\n",
    "    elif mode == 1:\n",
    "        highjob = ready_que[ready_que['Criticality_level']==1]\n",
    "        if len(highjob) > 0:\n",
    "            Absolute_DDL = highjob['Release_time'] + highjob['D'];\n",
    "        else:\n",
    "            Absolute_DDL = ready_que['Release_time'] + ready_que['D'];\n",
    "            \n",
    "        minidx = Absolute_DDL.idxmin();\n",
    "        ready_que.loc[minidx,'Remain_execute_time'] = ready_que.loc[minidx,'Remain_execute_time'] - 1;\n",
    "        task_id = ready_que.loc[minidx,'task_id'];\n",
    "        Job_id = ready_que.loc[minidx,'Job_id'];\n",
    "        Remain_execute_time = ready_que.loc[minidx,'Remain_execute_time'];\n",
    "        history = history.append({\"Time\":time, \"Mode\":mode, \"task_id\":task_id, \"Job_id\":Job_id, 'Remain_execute_time':Remain_execute_time}, ignore_index=True);\n",
    "        if ready_que.loc[minidx,'Remain_execute_time'] == 0: #如果任务完成\n",
    "            job_num = job_num + 1;\n",
    "            ready_que = ready_que.drop(minidx);\n",
    "    \n",
    "    return ready_que, mode, history, job_num;"
   ]
  },
  {
   "cell_type": "code",
   "execution_count": 10,
   "id": "4c3a3182",
   "metadata": {},
   "outputs": [],
   "source": [
    "# Main function of the PEDV-FD schduling\n",
    "'''\n",
    "input：\n",
    "    Totaltime(int): The Totaltime need to schduling\n",
    "    need_history(Boolean): Print the execution history or not\n",
    "    Fs(float): The permitted failure probability of the system.\n",
    "output:\n",
    "    history(pd.Dataframe): Execution history for every unit time\n",
    "    job_num(int): Total finished job of the system\n",
    "'''\n",
    "def PEDFVD_Schduling(Totaltime, need_history=False, Fs=1e-5):\n",
    "    mode = 0; #Criticality mode of system\n",
    "    time = 0; #Time clock of the system\n",
    "    job_num = 0; #Total finished job of the system\n",
    "    history = pd.DataFrame(); #History execution record of every unit time\n",
    "    ready_que = Task_Set.copy(); #Initialize the ready job queue\n",
    "    ready_que['Release_time'] = int(0);\n",
    "    ready_que['Remain_execute_time'] = ready_que['C_LO'].astype(np.float64);\n",
    "    ready_que['Execute_time'] = ready_que['C_LO'];\n",
    "    ready_que['Job_id'] = int(0);\n",
    "    \n",
    "    sche, lamda = Schedulability_analysis(Fs=1e-5);\n",
    "    if sche==False:\n",
    "        print(\"This dataset can't be scheduling by PEDF-VD\");\n",
    "        \n",
    "    while time < Totaltime: #For every unit time\n",
    "        #Check if there is any job exceed its DDL\n",
    "        result, ready_que=Check_job(time, ready_que)\n",
    "        #Release new job and random its execution time\n",
    "        ready_que = Release_job(time, mode, ready_que);\n",
    "        #Choose the latest virtual deadline job to execute 1 unit time\n",
    "        ready_que, mode, history, job_num = execut_job(time, mode, ready_que, history, job_num)\n",
    "       \n",
    "        time = time + 1;\n",
    "    if need_history:\n",
    "        print(\"Execution history for every unit time:\");\n",
    "        print(history);\n",
    "        print(\"---------------------------------------\");\n",
    "    #print(\"Total task finished：\",job_num);\n",
    "    return history, job_num;"
   ]
  },
  {
   "cell_type": "code",
   "execution_count": 13,
   "id": "f89ffbcf",
   "metadata": {},
   "outputs": [],
   "source": [
    "import matplotlib.pyplot as plt\n",
    "# Get the utilization and average finish job numbers for different schduling time.\n",
    "\n",
    "def test_schduling():\n",
    "    x = [5, 10, 20, 40, 60, 80, 100]\n",
    "    utilization = []\n",
    "    Avg_jobnum = []\n",
    "    for i in x:\n",
    "        u_sum = 0;\n",
    "        a_sum = 0;\n",
    "        for j in range(3):\n",
    "            Totaltime = i*lcm;\n",
    "            history, finished_task = PEDFVD_Schduling(Totaltime, need_history=False, Fs=1e-5)\n",
    "            not_use_time = pd.isna(history[\"task_id\"])\n",
    "            u = (Totaltime - len(history[not_use_time])) / Totaltime\n",
    "            a_jn = finished_task/Totaltime\n",
    "            u_sum = u_sum + u\n",
    "            a_sum = a_sum + a_jn\n",
    "        utilization.append(u_sum/3)\n",
    "        Avg_jobnum.append(a_sum/3)\n",
    "        print(\"Finish\",i)\n",
    "    \n",
    "    fig, ax = plt.subplots()\n",
    "    ax.plot(x, utilization, \"or:\")\n",
    "    ax.set_ylim(ymin = 0, ymax = 1.0)\n",
    "    ax.set_title(\"Utilization of PEDF-VD\")\n",
    "    ax.set_xlabel(\"Total schduling time\")\n",
    "    ax.set_ylabel(\"Utilization\")\n",
    "    plt.show()\n",
    "    \n",
    "    fig, ax = plt.subplots()\n",
    "    ax.plot(x, Avg_jobnum, \"og:\")\n",
    "    ax.set_title(\"Average finish job of PEDF-VD\")\n",
    "    ax.set_xlabel(\"Total schduling time\")\n",
    "    ax.set_ylabel(\"Avg jobs per unit time\")\n",
    "    ax.set_ylim(ymin = 0, ymax = 0.4)\n",
    "    plt.show()\n",
    "    print(\"Utilization: \", utilization)\n",
    "    print(\"Avg job nums: \", Avg_jobnum)"
   ]
  },
  {
   "cell_type": "code",
   "execution_count": 14,
   "id": "6d80f870",
   "metadata": {},
   "outputs": [
    {
     "name": "stdout",
     "output_type": "stream",
     "text": [
      "Finish 5\n",
      "Finish 10\n",
      "Finish 20\n",
      "Finish 40\n",
      "Finish 60\n",
      "Finish 80\n",
      "Finish 100\n"
     ]
    },
    {
     "data": {
      "image/png": "[encoded data removed]",
      "text/plain": [
       "<Figure size 432x288 with 1 Axes>"
      ]
     },
     "metadata": {
      "needs_background": "light"
     },
     "output_type": "display_data"
    },
    {
     "data": {
      "image/png": "[encoded data removed]",
      "text/plain": [
       "<Figure size 432x288 with 1 Axes>"
      ]
     },
     "metadata": {
      "needs_background": "light"
     },
     "output_type": "display_data"
    },
    {
     "name": "stdout",
     "output_type": "stream",
     "text": [
      "Utilization:  [0.7933333333333333, 0.7372222222222223, 0.6542777777777778, 0.6269722222222222, 0.6078518518518519, 0.6103055555555555, 0.6116222222222222]\n",
      "Avg job nums:  [0.30666666666666664, 0.2802222222222222, 0.24183333333333334, 0.22911111111111113, 0.2202777777777778, 0.22143055555555557, 0.2220444444444444]\n"
     ]
    }
   ],
   "source": [
    "test_schduling()"
   ]
  },
  {
   "cell_type": "code",
   "execution_count": null,
   "id": "810c8aef",
   "metadata": {},
   "outputs": [],
   "source": []
  }
 ],
 "metadata": {
  "kernelspec": {
   "display_name": "Python 3 (ipykernel)",
   "language": "python",
   "name": "python3"
  },
  "language_info": {
   "codemirror_mode": {
    "name": "ipython",
    "version": 3
   },
   "file_extension": ".py",
   "mimetype": "text/x-python",
   "name": "python",
   "nbconvert_exporter": "python",
   "pygments_lexer": "ipython3",
   "version": "3.9.7"
  }
 },
 "nbformat": 4,
 "nbformat_minor": 5
}
