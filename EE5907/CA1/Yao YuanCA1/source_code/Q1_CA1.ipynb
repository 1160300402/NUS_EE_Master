{
 "cells": [
  {
   "cell_type": "markdown",
   "metadata": {},
   "source": [
    "# import packages and read data"
   ]
  },
  {
   "cell_type": "code",
   "execution_count": 1,
   "metadata": {},
   "outputs": [],
   "source": [
    "import scipy.io as scio\n",
    "import pandas as pd\n",
    "import numpy as np\n",
    "import matplotlib.pyplot as plt"
   ]
  },
  {
   "cell_type": "code",
   "execution_count": 2,
   "metadata": {},
   "outputs": [
    {
     "name": "stdout",
     "output_type": "stream",
     "text": [
      "{'__header__': b'MATLAB 5.0 MAT-file, Platform: GLNXA64, Created on: Mon Aug 16 16:33:53 2021', '__version__': '1.0', '__globals__': [], 'Xtrain': array([[  0.   ,   0.   ,   0.   , ...,   4.5  ,  34.   , 108.   ],\n",
      "       [  0.   ,   0.   ,   0.71 , ...,   1.974,  34.   , 229.   ],\n",
      "       [  0.   ,   0.   ,   0.   , ...,   1.   ,   1.   ,   5.   ],\n",
      "       ...,\n",
      "       [  0.   ,   0.   ,   0.   , ...,   1.884,   9.   ,  98.   ],\n",
      "       [  0.   ,   0.   ,   0.7  , ...,   1.333,   4.   ,  16.   ],\n",
      "       [  0.   ,   0.   ,   0.   , ...,   1.   ,   1.   ,   4.   ]]), 'Xtest': array([[1.500e-01, 0.000e+00, 6.300e-01, ..., 1.111e+00, 7.000e+00,\n",
      "        3.890e+02],\n",
      "       [0.000e+00, 0.000e+00, 7.000e-01, ..., 1.820e+00, 1.800e+01,\n",
      "        3.040e+02],\n",
      "       [5.800e-01, 0.000e+00, 1.900e-01, ..., 3.015e+00, 2.100e+01,\n",
      "        1.900e+02],\n",
      "       ...,\n",
      "       [0.000e+00, 0.000e+00, 0.000e+00, ..., 1.142e+00, 3.000e+00,\n",
      "        4.000e+01],\n",
      "       [0.000e+00, 0.000e+00, 3.100e-01, ..., 1.515e+00, 1.000e+01,\n",
      "        1.440e+02],\n",
      "       [0.000e+00, 0.000e+00, 0.000e+00, ..., 2.080e+00, 1.200e+01,\n",
      "        1.040e+02]]), 'ytrain': array([[1],\n",
      "       [1],\n",
      "       [0],\n",
      "       ...,\n",
      "       [0],\n",
      "       [1],\n",
      "       [1]], dtype=uint8), 'ytest': array([[0],\n",
      "       [0],\n",
      "       [1],\n",
      "       ...,\n",
      "       [0],\n",
      "       [1],\n",
      "       [1]], dtype=uint8)}\n"
     ]
    }
   ],
   "source": [
    "data = scio.loadmat('spamData.mat')\n",
    "print(data)"
   ]
  },
  {
   "cell_type": "code",
   "execution_count": 3,
   "metadata": {},
   "outputs": [],
   "source": [
    "X_train = pd.DataFrame(data['Xtrain'])\n",
    "X_test = pd.DataFrame(data['Xtest'])\n",
    "y_train = pd.DataFrame(data['ytrain'])\n",
    "y_test = pd.DataFrame(data['ytest'])"
   ]
  },
  {
   "cell_type": "code",
   "execution_count": 4,
   "metadata": {},
   "outputs": [
    {
     "name": "stdout",
     "output_type": "stream",
     "text": [
      "(3065, 57)\n",
      "(1536, 57)\n"
     ]
    }
   ],
   "source": [
    "# test the shape of data\n",
    "print(X_train.shape)\n",
    "print(X_test.shape)"
   ]
  },
  {
   "cell_type": "markdown",
   "metadata": {},
   "source": [
    "# data Processing,use binarization:\n",
    "###### binarize features: I(Xij > 0). In other words, if a feature is greater than 0,it’s simply set to 1. If it’s less than or equal to 0, it’s set to 0"
   ]
  },
  {
   "cell_type": "code",
   "execution_count": 5,
   "metadata": {},
   "outputs": [],
   "source": [
    "X_train_b = X_train.applymap(lambda x:1 if x>0 else 0)\n",
    "X_test_b = X_test.applymap(lambda x:1 if x>0 else 0)"
   ]
  },
  {
   "cell_type": "markdown",
   "metadata": {},
   "source": [
    "## We assume y=1 is positive, y=0 is negative：\n",
    "\n",
    "1.We need to compute value of λML. λML = y_train(y=1)/(y_train(y=1) + y_train(x=1))\n",
    "\n",
    "2.According to yi，we need to find the data where y=yi in y_train , the probability of xj=1\n",
    "\n",
    "3.Give a X which need to predict， compute the probability of y=1 and y=0\n"
   ]
  },
  {
   "cell_type": "code",
   "execution_count": 6,
   "metadata": {},
   "outputs": [],
   "source": [
    "class Beta_Binomial_NaiveBayes_Classifier():\n",
    "\n",
    "    '''      \n",
    "        a(int) : firstparameter of Beta\n",
    "        b(int) : second parameter of Beta\n",
    "        X_train(pd.DataFrame) : features of train data\n",
    "        y_train(pd.DataFrame) : label of train data\n",
    "        X_test(pd.DataFrame) : features of test data\n",
    "        y_test(pd.DataFrame) : label of test data\n",
    "    '''\n",
    "    def __init__(self, a, b, X_train, y_train, X_test, y_test):      \n",
    "        self.a = a\n",
    "        self.b = b\n",
    "        self.X_train = X_train\n",
    "        self.y_train = y_train\n",
    "        self.X_test = X_test\n",
    "        self.y_test = y_test\n",
    "    \n",
    "    #calculate the piror probability of y = 1\n",
    "    def calculate_lamdaML(self):\n",
    "        return y_train.sum()[0] / y_train.size\n",
    "    \n",
    "    '''      \n",
    "        pos(int) : positive number of give data\n",
    "        neg(int) : nagative number of give data\n",
    "    '''\n",
    "    #calculate the Beta Posterior Predictive Distribution of positive label\n",
    "    def calculate_Beta_PosteriorPredictiveDistribution(self, pos, neg):\n",
    "        return (pos+self.a)/(pos+neg+self.a+self.b)\n",
    "    \n",
    "    #calculate a 57*4 matrix\n",
    "    #the index i,j means the Beta probability where i-th feature of X equals 'j/2' and label is y='j mod 2'\n",
    "    def calculate_PosteriorPredictiveDistribution(self):\n",
    "        result = np.zeros((57,4))\n",
    "        for i in range(0, X_train.shape[1]):\n",
    "            Xi = self.X_train.iloc[:, i]\n",
    "            num00 = Xi.loc[(Xi==0) & (y_train[0]==0) ].count()\n",
    "            num01 = Xi.loc[(Xi==0) & (y_train[0]==1) ].count()\n",
    "            num10 = Xi.loc[(Xi==1) & (y_train[0]==0) ].count()\n",
    "            num11 = Xi.loc[(Xi==1) & (y_train[0]==1) ].count()\n",
    "            result[i][2] = self.calculate_Beta_PosteriorPredictiveDistribution(num10, num00)\n",
    "            result[i][0] = 1 - result[i][2]\n",
    "            result[i][3] = self.calculate_Beta_PosteriorPredictiveDistribution(num11, num01)\n",
    "            result[i][1] = 1 - result[i][3]\n",
    "        return result\n",
    "    \n",
    "    '''      \n",
    "        X_to_predict(pd.DataFrame) : Data to predict\n",
    "    '''\n",
    "    #input features ,predict the lable.\n",
    "    def predict_label(self ,X_to_predict):\n",
    "        \n",
    "        predict = []\n",
    "        posterior = np.log(self.calculate_PosteriorPredictiveDistribution())\n",
    "        piror_1 = np.log(self.calculate_lamdaML())\n",
    "        piror_0 = np.log(1 - self.calculate_lamdaML())\n",
    "        \n",
    "        # loop through each row\n",
    "        for row_idx in range(0, X_to_predict.shape[0]):\n",
    "            row = X_to_predict.loc[row_idx,:]\n",
    "            p1 = piror_1\n",
    "            p0 = piror_0\n",
    "            # loop through each feature\n",
    "            for col_idx in range(0, X_to_predict.shape[1]):\n",
    "                x_val = row[col_idx]\n",
    "                p1 += posterior[col_idx][x_val*2+1]\n",
    "                p0 += posterior[col_idx][x_val*2]\n",
    "            if p1 > p0:\n",
    "                predict.append(1)\n",
    "            else:\n",
    "                predict.append(0)\n",
    "            \n",
    "        return predict\n",
    "    \n",
    "    '''      \n",
    "        pred(list) : Predict label of data\n",
    "        true(np.ndarray) : True label of data\n",
    "    '''\n",
    "    #calculate the error rate(%) of the predict label and true label\n",
    "    def calculate_error(self, pred, true):\n",
    "        return (pred^true).sum() / len(pred) * 100\n",
    "    \n",
    "    #return the train error rate and test error rate\n",
    "    def run(self):\n",
    "        train_predict = self.predict_label(self.X_train)\n",
    "        test_predict = self.predict_label(self.X_test)\n",
    "        # score and return results\n",
    "        return self.calculate_error(train_predict, self.y_train[0].values), \\\n",
    "               self.calculate_error(test_predict, self.y_test[0].values)"
   ]
  },
  {
   "cell_type": "markdown",
   "metadata": {},
   "source": [
    "## Q1(a)\n",
    "## Plots of training and test error rates versus α,α = {0, 0.5, 1, 1.5, 2, · · · , 100}"
   ]
  },
  {
   "cell_type": "code",
   "execution_count": 7,
   "metadata": {},
   "outputs": [
    {
     "name": "stderr",
     "output_type": "stream",
     "text": [
      "D:\\ana\\lib\\site-packages\\ipykernel_launcher.py:54: RuntimeWarning: divide by zero encountered in log\n"
     ]
    },
    {
     "data": {
      "image/png": "[encoded data removed]",
      "text/plain": [
       "<Figure size 432x288 with 1 Axes>"
      ]
     },
     "metadata": {
      "needs_background": "light"
     },
     "output_type": "display_data"
    }
   ],
   "source": [
    "# initialise empty list for storage\n",
    "alphas = list(np.arange(0, 100.5, 0.5))\n",
    "train_error_list = []\n",
    "test_error_list = []\n",
    "\n",
    "# loop over alpha values\n",
    "for alpha in alphas:\n",
    "    bbn = Beta_Binomial_NaiveBayes_Classifier(alpha, alpha, X_train_b, y_train, X_test_b, y_test)\n",
    "    train_error, test_error = bbn.run()\n",
    "    train_error_list.append(train_error)\n",
    "    test_error_list.append(test_error)\n",
    "\n",
    "# plot chart\n",
    "plt.plot(alphas, train_error_list, label='Train Error')\n",
    "plt.plot(alphas, test_error_list, label='Test Error')\n",
    "plt.ylabel('Error Rate %')\n",
    "plt.xlabel('Alpha Value')\n",
    "plt.title('Training and Testing Data Error Rates vs α')\n",
    "plt.legend()\n",
    "plt.show()"
   ]
  },
  {
   "cell_type": "markdown",
   "metadata": {},
   "source": [
    "## Q1(b)\n",
    "## What do you observe about the training and test errors as α change?\n",
    "In summary, the errors for both train and test increase as α increases. <br>\n",
    "For most of α, the test error rates are always higher than the train error rates. The best α for train data is 0, and the train error rate is about 11.2%. The best α for test data is about 0, and the train error rate is about 11.5%. And when α=70, the errors for both train and test increase the most fastly. "
   ]
  },
  {
   "cell_type": "markdown",
   "metadata": {},
   "source": [
    "## Q1(c)\n",
    "## Training and testing error rates for α = 1, 10 and 100."
   ]
  },
  {
   "cell_type": "code",
   "execution_count": 11,
   "metadata": {},
   "outputs": [
    {
     "name": "stdout",
     "output_type": "stream",
     "text": [
      "When α = 1 :train error rate is 11.549755% , test error rate is 11.588542%\n",
      "When α = 10 :train error rate is 12.006525% , test error rate is 11.914062%\n",
      "When α = 100 :train error rate is 14.192496% , test error rate is 13.671875%\n"
     ]
    }
   ],
   "source": [
    "for alpha in [1, 10, 100]:\n",
    "    index = alphas.index(alpha)\n",
    "    print('When α = %d :train error rate is %f%% , test error rate is %f%%' %(alpha, train_error_list[index], test_error_list[index]))"
   ]
  }
 ],
 "metadata": {
  "kernelspec": {
   "display_name": "Python 3",
   "language": "python",
   "name": "python3"
  },
  "language_info": {
   "codemirror_mode": {
    "name": "ipython",
    "version": 3
   },
   "file_extension": ".py",
   "mimetype": "text/x-python",
   "name": "python",
   "nbconvert_exporter": "python",
   "pygments_lexer": "ipython3",
   "version": "3.7.6"
  }
 },
 "nbformat": 4,
 "nbformat_minor": 4
}
