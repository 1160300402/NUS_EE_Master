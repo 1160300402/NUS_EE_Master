{
 "cells": [
  {
   "cell_type": "markdown",
   "metadata": {},
   "source": [
    "# import packages and read data"
   ]
  },
  {
   "cell_type": "code",
   "execution_count": 1,
   "metadata": {},
   "outputs": [],
   "source": [
    "import scipy.io as scio\n",
    "import pandas as pd\n",
    "import numpy as np\n",
    "import matplotlib.pyplot as plt"
   ]
  },
  {
   "cell_type": "code",
   "execution_count": 2,
   "metadata": {},
   "outputs": [
    {
     "name": "stdout",
     "output_type": "stream",
     "text": [
      "{'__header__': b'MATLAB 5.0 MAT-file, Platform: GLNXA64, Created on: Mon Aug 16 16:33:53 2021', '__version__': '1.0', '__globals__': [], 'Xtrain': array([[  0.   ,   0.   ,   0.   , ...,   4.5  ,  34.   , 108.   ],\n",
      "       [  0.   ,   0.   ,   0.71 , ...,   1.974,  34.   , 229.   ],\n",
      "       [  0.   ,   0.   ,   0.   , ...,   1.   ,   1.   ,   5.   ],\n",
      "       ...,\n",
      "       [  0.   ,   0.   ,   0.   , ...,   1.884,   9.   ,  98.   ],\n",
      "       [  0.   ,   0.   ,   0.7  , ...,   1.333,   4.   ,  16.   ],\n",
      "       [  0.   ,   0.   ,   0.   , ...,   1.   ,   1.   ,   4.   ]]), 'Xtest': array([[1.500e-01, 0.000e+00, 6.300e-01, ..., 1.111e+00, 7.000e+00,\n",
      "        3.890e+02],\n",
      "       [0.000e+00, 0.000e+00, 7.000e-01, ..., 1.820e+00, 1.800e+01,\n",
      "        3.040e+02],\n",
      "       [5.800e-01, 0.000e+00, 1.900e-01, ..., 3.015e+00, 2.100e+01,\n",
      "        1.900e+02],\n",
      "       ...,\n",
      "       [0.000e+00, 0.000e+00, 0.000e+00, ..., 1.142e+00, 3.000e+00,\n",
      "        4.000e+01],\n",
      "       [0.000e+00, 0.000e+00, 3.100e-01, ..., 1.515e+00, 1.000e+01,\n",
      "        1.440e+02],\n",
      "       [0.000e+00, 0.000e+00, 0.000e+00, ..., 2.080e+00, 1.200e+01,\n",
      "        1.040e+02]]), 'ytrain': array([[1],\n",
      "       [1],\n",
      "       [0],\n",
      "       ...,\n",
      "       [0],\n",
      "       [1],\n",
      "       [1]], dtype=uint8), 'ytest': array([[0],\n",
      "       [0],\n",
      "       [1],\n",
      "       ...,\n",
      "       [0],\n",
      "       [1],\n",
      "       [1]], dtype=uint8)}\n"
     ]
    }
   ],
   "source": [
    "data = scio.loadmat('spamData.mat')\n",
    "print(data)"
   ]
  },
  {
   "cell_type": "code",
   "execution_count": 3,
   "metadata": {},
   "outputs": [],
   "source": [
    "X_train = pd.DataFrame(data['Xtrain'])\n",
    "X_test = pd.DataFrame(data['Xtest'])\n",
    "y_train = pd.DataFrame(data['ytrain'])\n",
    "y_test = pd.DataFrame(data['ytest'])"
   ]
  },
  {
   "cell_type": "markdown",
   "metadata": {},
   "source": [
    "# Data Processing:\n",
    "## Use log-transform: transform each feature using log(Xij + 0.1) (assume natural log)"
   ]
  },
  {
   "cell_type": "code",
   "execution_count": 4,
   "metadata": {},
   "outputs": [],
   "source": [
    "X_train_log = np.log(X_train + 0.1)\n",
    "X_test_log = np.log(X_test + 0.1)"
   ]
  },
  {
   "cell_type": "markdown",
   "metadata": {},
   "source": [
    "## We need to use λml to estimate prior like Q1. And use maximum likelihood to estimate the class conditional mean and variance of each feature. Finally, the label of y is predicted by adding the predicted probabilities of y=c and all xi"
   ]
  },
  {
   "cell_type": "code",
   "execution_count": 5,
   "metadata": {},
   "outputs": [],
   "source": [
    "class Gaussian_NaiveBayes_Classifier():\n",
    "\n",
    "    '''      \n",
    "        X_train(pd.DataFrame) : features of train data\n",
    "        y_train(pd.DataFrame) : label of train data\n",
    "        X_test(pd.DataFrame) : features of test data\n",
    "        y_test(pd.DataFrame) : label of test data\n",
    "    '''\n",
    "    def __init__(self, X_train, y_train, X_test, y_test):      \n",
    "        self.X_train = X_train\n",
    "        self.y_train = y_train\n",
    "        self.X_test = X_test\n",
    "        self.y_test = y_test\n",
    "    \n",
    "    #calculate the piror probability of y = 1\n",
    "    def calculate_lamdaML(self):\n",
    "        return self.y_train.sum()[0] / self.y_train.size\n",
    "    \n",
    "    '''\n",
    "        mean(float) : μ of the Gaussian Distribution\n",
    "        variance(float) : σ2 of the Gaussian Distribution\n",
    "        x(float) : input x ,return the p(x)\n",
    "    '''\n",
    "    #calculate the p(x) of Gaussian Distribution \n",
    "    def GaussianDistribution(self, mean, variance, x):\n",
    "        return np.exp((-0.5*((x - mean)**2))/variance)/((2*np.pi*variance)**0.5)\n",
    "    \n",
    "    '''\n",
    "        X(pd.DataFrame) : input X,column numbers = 1\n",
    "    '''\n",
    "    #calculate the mean of X\n",
    "    def estimate_mean_ML(self, X):\n",
    "        return X.sum() / X.size\n",
    "    \n",
    "    '''\n",
    "        X(pd.DataFrame) : input X,column numbers = 1\n",
    "    '''\n",
    "    #calculate the variance of X\n",
    "    def estimate_variance_ML(self, X):\n",
    "        mean = self.estimate_mean_ML(X)\n",
    "        return X.apply(lambda x:(x - mean)**2).sum() / X.size\n",
    "    \n",
    "    \n",
    "    #calculate a matrix,len of row equals feature of X; \n",
    "    #Column means estimate mean when y=1, estimate variance when y=1,estimate mean when y=0, estimate variance when y=0 \n",
    "    def calculate_Parameters_ForALLFeaturesAndClass(self):\n",
    "        result = np.zeros((self.X_train.shape[1],4))\n",
    "        for i in range(0,self.X_train.shape[1]):\n",
    "            result[i][0] = self.estimate_mean_ML(self.X_train.loc[self.y_train[0]==1, i])\n",
    "            result[i][1] = self.estimate_variance_ML(self.X_train.loc[self.y_train[0]==1, i])\n",
    "            result[i][2] = self.estimate_mean_ML(self.X_train.loc[self.y_train[0]==0, i])\n",
    "            result[i][3] = self.estimate_variance_ML(self.X_train.loc[self.y_train[0]==0, i])\n",
    "        return result\n",
    "    \n",
    "    '''      \n",
    "        X_to_predict(pd.DataFrame) : Data to predict\n",
    "    '''\n",
    "    #input features ,predict the lable.\n",
    "    def predict_label(self, X_to_predict):\n",
    "          \n",
    "        predict = []\n",
    "        piror_1 = np.log(self.calculate_lamdaML())\n",
    "        piror_0 = np.log(1 - self.calculate_lamdaML())\n",
    "        parameters_jc = self.calculate_Parameters_ForALLFeaturesAndClass()\n",
    "        \n",
    "        # loop through each row\n",
    "        for row_idx in range(0, X_to_predict.shape[0]):\n",
    "            row = X_to_predict.loc[row_idx,:]\n",
    "            p1 = piror_1\n",
    "            p0 = piror_0\n",
    "            # loop through each feature\n",
    "            for col_idx in range(0, X_to_predict.shape[1]):\n",
    "                Xj = row[col_idx]\n",
    "                p1 += np.log(self.GaussianDistribution(parameters_jc[col_idx][0], parameters_jc[col_idx][1], Xj))\n",
    "                p0 += np.log(self.GaussianDistribution(parameters_jc[col_idx][2], parameters_jc[col_idx][3], Xj))\n",
    "            if p1 > p0:\n",
    "                predict.append(1)\n",
    "            else:\n",
    "                predict.append(0)\n",
    "            \n",
    "        return predict\n",
    "        \n",
    "     \n",
    "    '''      \n",
    "        pred(list) : Predict label of data\n",
    "        true(np.ndarray) : True label of data\n",
    "    '''\n",
    "    #calculate the error rate(%) of the predict label and true label\n",
    "    def calculate_error(self, pred, true):\n",
    "        return (pred^true).sum() / len(pred) * 100\n",
    "    \n",
    "    #return the train error rate and test error rate\n",
    "    def run(self):\n",
    "        train_predict = self.predict_label(self.X_train)\n",
    "        test_predict = self.predict_label(self.X_test)\n",
    "        # score and return results\n",
    "        return self.calculate_error(train_predict, self.y_train[0].values), \\\n",
    "               self.calculate_error(test_predict, self.y_test[0].values)"
   ]
  },
  {
   "cell_type": "markdown",
   "metadata": {},
   "source": [
    "## Q2\n",
    "## Training and testing error rates for the log-transformed data."
   ]
  },
  {
   "cell_type": "code",
   "execution_count": 6,
   "metadata": {},
   "outputs": [
    {
     "name": "stderr",
     "output_type": "stream",
     "text": [
      "D:\\ana\\lib\\site-packages\\ipykernel_launcher.py:74: RuntimeWarning: divide by zero encountered in log\n",
      "D:\\ana\\lib\\site-packages\\ipykernel_launcher.py:75: RuntimeWarning: divide by zero encountered in log\n"
     ]
    },
    {
     "name": "stdout",
     "output_type": "stream",
     "text": [
      "train error rate is 16.574225% , test error rate is 16.015625%\n"
     ]
    }
   ],
   "source": [
    "GNC = Gaussian_NaiveBayes_Classifier( X_train_log, y_train, X_test_log, y_test)\n",
    "GNC.run()\n",
    "print('train error rate is %f%% , test error rate is %f%%' %(GNC.run()[0], GNC.run()[1]))"
   ]
  }
 ],
 "metadata": {
  "kernelspec": {
   "display_name": "Python 3",
   "language": "python",
   "name": "python3"
  },
  "language_info": {
   "codemirror_mode": {
    "name": "ipython",
    "version": 3
   },
   "file_extension": ".py",
   "mimetype": "text/x-python",
   "name": "python",
   "nbconvert_exporter": "python",
   "pygments_lexer": "ipython3",
   "version": "3.7.6"
  }
 },
 "nbformat": 4,
 "nbformat_minor": 4
}
