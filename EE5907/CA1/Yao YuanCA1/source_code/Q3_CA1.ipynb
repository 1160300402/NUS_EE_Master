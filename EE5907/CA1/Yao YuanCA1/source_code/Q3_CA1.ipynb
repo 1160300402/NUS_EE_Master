{
 "cells": [
  {
   "cell_type": "markdown",
   "metadata": {},
   "source": [
    "# import packages and read data"
   ]
  },
  {
   "cell_type": "code",
   "execution_count": 1,
   "metadata": {},
   "outputs": [],
   "source": [
    "import scipy.io as scio\n",
    "import pandas as pd\n",
    "import numpy as np\n",
    "import matplotlib.pyplot as plt"
   ]
  },
  {
   "cell_type": "code",
   "execution_count": 2,
   "metadata": {},
   "outputs": [
    {
     "name": "stdout",
     "output_type": "stream",
     "text": [
      "{'__header__': b'MATLAB 5.0 MAT-file, Platform: GLNXA64, Created on: Mon Aug 16 16:33:53 2021', '__version__': '1.0', '__globals__': [], 'Xtrain': array([[  0.   ,   0.   ,   0.   , ...,   4.5  ,  34.   , 108.   ],\n",
      "       [  0.   ,   0.   ,   0.71 , ...,   1.974,  34.   , 229.   ],\n",
      "       [  0.   ,   0.   ,   0.   , ...,   1.   ,   1.   ,   5.   ],\n",
      "       ...,\n",
      "       [  0.   ,   0.   ,   0.   , ...,   1.884,   9.   ,  98.   ],\n",
      "       [  0.   ,   0.   ,   0.7  , ...,   1.333,   4.   ,  16.   ],\n",
      "       [  0.   ,   0.   ,   0.   , ...,   1.   ,   1.   ,   4.   ]]), 'Xtest': array([[1.500e-01, 0.000e+00, 6.300e-01, ..., 1.111e+00, 7.000e+00,\n",
      "        3.890e+02],\n",
      "       [0.000e+00, 0.000e+00, 7.000e-01, ..., 1.820e+00, 1.800e+01,\n",
      "        3.040e+02],\n",
      "       [5.800e-01, 0.000e+00, 1.900e-01, ..., 3.015e+00, 2.100e+01,\n",
      "        1.900e+02],\n",
      "       ...,\n",
      "       [0.000e+00, 0.000e+00, 0.000e+00, ..., 1.142e+00, 3.000e+00,\n",
      "        4.000e+01],\n",
      "       [0.000e+00, 0.000e+00, 3.100e-01, ..., 1.515e+00, 1.000e+01,\n",
      "        1.440e+02],\n",
      "       [0.000e+00, 0.000e+00, 0.000e+00, ..., 2.080e+00, 1.200e+01,\n",
      "        1.040e+02]]), 'ytrain': array([[1],\n",
      "       [1],\n",
      "       [0],\n",
      "       ...,\n",
      "       [0],\n",
      "       [1],\n",
      "       [1]], dtype=uint8), 'ytest': array([[0],\n",
      "       [0],\n",
      "       [1],\n",
      "       ...,\n",
      "       [0],\n",
      "       [1],\n",
      "       [1]], dtype=uint8)}\n"
     ]
    }
   ],
   "source": [
    "data = scio.loadmat('spamData.mat')\n",
    "print(data)"
   ]
  },
  {
   "cell_type": "code",
   "execution_count": 3,
   "metadata": {},
   "outputs": [],
   "source": [
    "X_train = pd.DataFrame(data['Xtrain'])\n",
    "X_test = pd.DataFrame(data['Xtest'])\n",
    "y_train = pd.DataFrame(data['ytrain'])\n",
    "y_test = pd.DataFrame(data['ytest'])"
   ]
  },
  {
   "cell_type": "markdown",
   "metadata": {},
   "source": [
    "# Data Processing:\n",
    "## Use log-transform: transform each feature using log(Xij + 0.1) (assume natural log)"
   ]
  },
  {
   "cell_type": "code",
   "execution_count": 4,
   "metadata": {},
   "outputs": [],
   "source": [
    "X_train_log = np.log(X_train + 0.1)\n",
    "X_test_log = np.log(X_test + 0.1)"
   ]
  },
  {
   "cell_type": "markdown",
   "metadata": {},
   "source": [
    "## For the log-transformed data, fit a logistic regression model with l2 regularization, value λ as input , fit the logistic regression model on the training data and compute its error rate on the test data."
   ]
  },
  {
   "cell_type": "code",
   "execution_count": 5,
   "metadata": {},
   "outputs": [],
   "source": [
    "class  Logistic_Regression_Classifier():\n",
    "\n",
    "    '''      \n",
    "        X_train(pd.DataFrame) : features of train data, N*D\n",
    "        y_train(pd.DataFrame) : label of train data, N*1  \n",
    "        X_test(pd.DataFrame) : features of test data\n",
    "        y_test(pd.DataFrame) : label of test data\n",
    "        lamda(int) : hyperparameter of l2 regression\n",
    "        K(int) : iteration number of Logistic Regression Classifier\n",
    "    '''\n",
    "    def __init__(self, X_train, y_train, X_test, y_test, lamda, K): \n",
    "        '''\n",
    "        X_train = N * D\n",
    "        y_train = N * 1\n",
    "        '''\n",
    "        self.X_train = X_train\n",
    "        self.y_train = y_train\n",
    "        self.X_test = X_test\n",
    "        self.y_test = y_test\n",
    "        self.lamda = lamda\n",
    "        self.K = K\n",
    "    \n",
    "    '''\n",
    "        x(np.ndarray) : input x ,return the sigmoid of x\n",
    "    '''\n",
    "    #calculate the sigmoid(x)\n",
    "    def sigmoid(self, x):\n",
    "        return 1. / (1+np.exp(-x))\n",
    "    \n",
    "    '''      \n",
    "        W(np.ndarray) : weight of Logistic Regression, D+1 * 1\n",
    "        X(np.ndarray) : train data, N * D+1  \n",
    "        X_t(np.ndarray) : transposition of X, D+1 * N\n",
    "        y(np.ndarray) : label of train data, N * 1\n",
    "    '''\n",
    "    #Calculate the gradient and hessian matrix with l2 regression\n",
    "    def gradient_and_hessian_l2_Regression(self, W, X, X_t, y):\n",
    "\n",
    "        W_t = np.transpose(W)\n",
    "        #miu = N * 1\n",
    "        miu = self.sigmoid(np.dot(X, W))\n",
    "        g = np.dot(X_t, (miu-y))\n",
    "        W_NoBias = W.copy()\n",
    "        W_NoBias[0] = 0\n",
    "        #g_l2reg = D+1 * 1\n",
    "        g_l2reg = g + self.lamda*W_NoBias\n",
    "        \n",
    "        miu_diag = np.array([m*(1-m) for m in miu])\n",
    "        S = np.diag(miu_diag.flatten())\n",
    "        H = np.dot(np.dot(X_t, S), X)\n",
    "        H_NoBias = np.eye(X.shape[1])\n",
    "        H_NoBias[0,0]=0\n",
    "        #H_l2reg = D+1 * D+1\n",
    "        H_l2reg = H + self.lamda*H_NoBias\n",
    "    \n",
    "        return g_l2reg,H_l2reg\n",
    "    \n",
    "    '''      \n",
    "        K(int) : iteration number of Logistic Regression Classifier\n",
    "    '''\n",
    "    # Caculate the weight after iteration of K times\n",
    "    def Train_W(self, K):\n",
    "        X_train = self.X_train.copy()\n",
    "        X_train['bias'] = 1\n",
    "        # X = N * D+1\n",
    "        X = X_train.values\n",
    "        X_t = np.transpose(X)\n",
    "        y = self.y_train.values\n",
    "        W = np.zeros((X_train.shape[1],1))\n",
    "        miu = self.sigmoid(np.dot(X, W))\n",
    "        for k in range(0, K):\n",
    "            g_l2reg,H_l2reg = self.gradient_and_hessian_l2_Regression(W, X, X_t, y)\n",
    "            d = -np.dot(np.linalg.inv(H_l2reg) , g_l2reg)\n",
    "            W = W + d\n",
    "            \n",
    "        return W\n",
    "    \n",
    "    '''      \n",
    "        X_to_predict(pd.DataFrame) : Data to predict\n",
    "    '''\n",
    "    #input features ,predict the lable.\n",
    "    def predict_label(self, X_to_predict, W):\n",
    "          \n",
    "        X_Bias = X_to_predict.copy()\n",
    "        X_Bias['bias'] = 1\n",
    "        X = X_Bias.values\n",
    "        log_odds = np.dot(X,W)\n",
    "        predict = [1 if log>0 else 0 for log in log_odds]\n",
    "            \n",
    "        return predict\n",
    "        \n",
    "     \n",
    "    '''      \n",
    "        pred(list) : Predict label of data\n",
    "        true(np.ndarray) : True label of data\n",
    "    '''\n",
    "    #calculate the error rate(%) of the predict label and true label\n",
    "    def calculate_error(self, pred, true):\n",
    "        return (pred^true).sum() / len(pred) * 100\n",
    "    \n",
    "    #return the train error rate and test error rate\n",
    "    def run(self):\n",
    "        \n",
    "        # get w based on feature values\n",
    "        Trained_W = self.Train_W(self.K)\n",
    "        # get predictions\n",
    "        train_predict = self.predict_label(self.X_train, Trained_W)\n",
    "        test_predict = self.predict_label(self.X_test, Trained_W)\n",
    "        # score and return results\n",
    "        return self.calculate_error(train_predict, self.y_train[0].values), \\\n",
    "               self.calculate_error(test_predict, self.y_test[0].values)"
   ]
  },
  {
   "cell_type": "markdown",
   "metadata": {},
   "source": [
    "## Let λ=1 ， try to find the K can make W convergence"
   ]
  },
  {
   "cell_type": "code",
   "execution_count": 6,
   "metadata": {},
   "outputs": [
    {
     "data": {
      "image/png": "[encoded data removed]",
      "text/plain": [
       "<Figure size 432x288 with 1 Axes>"
      ]
     },
     "metadata": {
      "needs_background": "light"
     },
     "output_type": "display_data"
    }
   ],
   "source": [
    "list_of_K = list(np.arange(1, 100, 10))\n",
    "train_error_list = []\n",
    "test_error_list = []\n",
    "\n",
    "# loop over lambda values\n",
    "for K in list_of_K:\n",
    "    lamda = 1\n",
    "    lgr = Logistic_Regression_Classifier(X_train_log, y_train, X_test_log, y_test, lamda, K)\n",
    "    train_error, test_error = lgr.run()\n",
    "    train_error_list.append(train_error)\n",
    "    test_error_list.append(test_error)\n",
    "    \n",
    "# plot chart\n",
    "plt.plot(list_of_K, train_error_list, label='Train Error')\n",
    "plt.plot(list_of_K, test_error_list, label='Test Error')\n",
    "plt.ylabel('Error Rate %')\n",
    "plt.xlabel('K Value')\n",
    "plt.title('Training and Testing Data Error Rates vs Lambda Values')\n",
    "plt.legend()\n",
    "plt.show()"
   ]
  },
  {
   "cell_type": "markdown",
   "metadata": {},
   "source": [
    "## Make sure it converges for every λ, we can make K=30"
   ]
  },
  {
   "cell_type": "markdown",
   "metadata": {},
   "source": [
    "## Q3(a)\n",
    "## For each regularization parameter value λ = {1, 2, · · · , 9, 10, 15, 20, · · · , 95, 100}"
   ]
  },
  {
   "cell_type": "code",
   "execution_count": 7,
   "metadata": {},
   "outputs": [
    {
     "data": {
      "image/png": "[encoded data removed]",
      "text/plain": [
       "<Figure size 432x288 with 1 Axes>"
      ]
     },
     "metadata": {
      "needs_background": "light"
     },
     "output_type": "display_data"
    }
   ],
   "source": [
    "# initialise empty list for storage\n",
    "lamdas = list(np.arange(1, 10, 1))\n",
    "lamdas.extend(list(np.arange(10, 105, 5)))\n",
    "K = 30\n",
    "train_error_list = []\n",
    "test_error_list = []\n",
    "\n",
    "# loop over lamda values\n",
    "for lamda in lamdas:\n",
    "    lgr = Logistic_Regression_Classifier(X_train_log, y_train, X_test_log, y_test, lamda, K)\n",
    "    train_error, test_error = lgr.run()\n",
    "    train_error_list.append(train_error)\n",
    "    test_error_list.append(test_error)\n",
    "    \n",
    "# plot chart\n",
    "plt.plot(lamdas, train_error_list, label='Train Error')\n",
    "plt.plot(lamdas, test_error_list, label='Test Error')\n",
    "plt.ylabel('Error Rate %')\n",
    "plt.xlabel('Lamda Value')\n",
    "plt.title('Training and Testing Data Error Rates vs λ')\n",
    "plt.legend()\n",
    "plt.show()"
   ]
  },
  {
   "cell_type": "markdown",
   "metadata": {},
   "source": [
    "## Q3(b)\n",
    "## What do you observe about the training and test errors as λ change?\n",
    "In summary, the errors for both train and test increase as λ increases. <br>\n",
    "For every value of λ, the test error rates are always higher than the train error rates. The best λ for train data is about 2, and the train error rate is about 4.9%. The best λ for test data is about 4, and the train error rate is about 5.7%."
   ]
  },
  {
   "cell_type": "markdown",
   "metadata": {},
   "source": [
    "## Q3(c)\n",
    "## Training and testing error rates for λ = 1, 10 and 100."
   ]
  },
  {
   "cell_type": "code",
   "execution_count": 8,
   "metadata": {},
   "outputs": [
    {
     "name": "stdout",
     "output_type": "stream",
     "text": [
      "When λ = 1 :train error rate is 4.991843% , test error rate is 5.989583%\n",
      "When λ = 10 :train error rate is 5.220228% , test error rate is 5.924479%\n",
      "When λ = 100 :train error rate is 6.329527% , test error rate is 6.770833%\n"
     ]
    }
   ],
   "source": [
    "for lamda in [1, 10, 100]:\n",
    "    index = lamdas.index(lamda)\n",
    "    print('When λ = %d :train error rate is %f%% , test error rate is %f%%' %(lamda, train_error_list[index], test_error_list[index]))"
   ]
  }
 ],
 "metadata": {
  "kernelspec": {
   "display_name": "Python 3",
   "language": "python",
   "name": "python3"
  },
  "language_info": {
   "codemirror_mode": {
    "name": "ipython",
    "version": 3
   },
   "file_extension": ".py",
   "mimetype": "text/x-python",
   "name": "python",
   "nbconvert_exporter": "python",
   "pygments_lexer": "ipython3",
   "version": "3.7.6"
  }
 },
 "nbformat": 4,
 "nbformat_minor": 4
}
