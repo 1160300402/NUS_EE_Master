{
 "cells": [
  {
   "cell_type": "markdown",
   "metadata": {},
   "source": [
    "# import packages and read data"
   ]
  },
  {
   "cell_type": "code",
   "execution_count": 1,
   "metadata": {},
   "outputs": [],
   "source": [
    "import scipy.io as scio\n",
    "import pandas as pd\n",
    "import numpy as np\n",
    "import matplotlib.pyplot as plt"
   ]
  },
  {
   "cell_type": "code",
   "execution_count": 2,
   "metadata": {},
   "outputs": [
    {
     "name": "stdout",
     "output_type": "stream",
     "text": [
      "{'__header__': b'MATLAB 5.0 MAT-file, Platform: GLNXA64, Created on: Mon Aug 16 16:33:53 2021', '__version__': '1.0', '__globals__': [], 'Xtrain': array([[  0.   ,   0.   ,   0.   , ...,   4.5  ,  34.   , 108.   ],\n",
      "       [  0.   ,   0.   ,   0.71 , ...,   1.974,  34.   , 229.   ],\n",
      "       [  0.   ,   0.   ,   0.   , ...,   1.   ,   1.   ,   5.   ],\n",
      "       ...,\n",
      "       [  0.   ,   0.   ,   0.   , ...,   1.884,   9.   ,  98.   ],\n",
      "       [  0.   ,   0.   ,   0.7  , ...,   1.333,   4.   ,  16.   ],\n",
      "       [  0.   ,   0.   ,   0.   , ...,   1.   ,   1.   ,   4.   ]]), 'Xtest': array([[1.500e-01, 0.000e+00, 6.300e-01, ..., 1.111e+00, 7.000e+00,\n",
      "        3.890e+02],\n",
      "       [0.000e+00, 0.000e+00, 7.000e-01, ..., 1.820e+00, 1.800e+01,\n",
      "        3.040e+02],\n",
      "       [5.800e-01, 0.000e+00, 1.900e-01, ..., 3.015e+00, 2.100e+01,\n",
      "        1.900e+02],\n",
      "       ...,\n",
      "       [0.000e+00, 0.000e+00, 0.000e+00, ..., 1.142e+00, 3.000e+00,\n",
      "        4.000e+01],\n",
      "       [0.000e+00, 0.000e+00, 3.100e-01, ..., 1.515e+00, 1.000e+01,\n",
      "        1.440e+02],\n",
      "       [0.000e+00, 0.000e+00, 0.000e+00, ..., 2.080e+00, 1.200e+01,\n",
      "        1.040e+02]]), 'ytrain': array([[1],\n",
      "       [1],\n",
      "       [0],\n",
      "       ...,\n",
      "       [0],\n",
      "       [1],\n",
      "       [1]], dtype=uint8), 'ytest': array([[0],\n",
      "       [0],\n",
      "       [1],\n",
      "       ...,\n",
      "       [0],\n",
      "       [1],\n",
      "       [1]], dtype=uint8)}\n"
     ]
    }
   ],
   "source": [
    "data = scio.loadmat('spamData.mat')\n",
    "print(data)"
   ]
  },
  {
   "cell_type": "code",
   "execution_count": 3,
   "metadata": {},
   "outputs": [],
   "source": [
    "X_train = pd.DataFrame(data['Xtrain'])\n",
    "X_test = pd.DataFrame(data['Xtest'])\n",
    "y_train = pd.DataFrame(data['ytrain'])\n",
    "y_test = pd.DataFrame(data['ytest'])"
   ]
  },
  {
   "cell_type": "markdown",
   "metadata": {},
   "source": [
    "# Data Processing:\n",
    "## Use log-transform: transform each feature using log(Xij + 0.1) (assume natural log)"
   ]
  },
  {
   "cell_type": "code",
   "execution_count": 4,
   "metadata": {},
   "outputs": [],
   "source": [
    "X_train_log = np.log(X_train + 0.1)\n",
    "X_test_log = np.log(X_test + 0.1)"
   ]
  },
  {
   "cell_type": "markdown",
   "metadata": {},
   "source": [
    "## For the log-transformed data, implement a KNN classifier. Use the Euclidean distance to measure distance between neighbors. For each value of K = {1, 2, · · · , 9, 10, 15, 20, · · · , 95, 100} , compute the training and test error rates"
   ]
  },
  {
   "cell_type": "code",
   "execution_count": 7,
   "metadata": {},
   "outputs": [],
   "source": [
    "class  K_Nearest_Neighbors_Classifier():\n",
    "\n",
    "    '''\n",
    "        X_train(pd.DataFrame) : features of train data\n",
    "        y_train(pd.DataFrame) : label of train data\n",
    "        X_test(pd.DataFrame) : features of test data\n",
    "        y_test(pd.DataFrame) : label of test data\n",
    "        K(int):the hyperparameter K of KNN\n",
    "    '''   \n",
    "    def __init__(self, X_train, y_train, X_test, y_test, K): \n",
    "        self.X_train = X_train\n",
    "        self.y_train = y_train\n",
    "        self.X_test = X_test\n",
    "        self.y_test = y_test\n",
    "        self.K = K\n",
    "    \n",
    "    '''\n",
    "        X1(np.ndarray) : Vertor X1,size = N * D\n",
    "        X2(np.ndarray) : Vertor X2,size = 1 * D\n",
    "    '''\n",
    "    #calculate the euclidean distance between X1 and X2\n",
    "    def euclidean_distance(self, X1, X2):\n",
    "        return np.sqrt(np.sum((X1 - X2)**2,axis=1))\n",
    "    \n",
    "    '''      \n",
    "        X_to_predict(pd.DataFrame) : Data to predict\n",
    "    '''\n",
    "    #Calculate distance from each row of train data and each row of test data, record the label of train data\n",
    "    #And predict label of input\n",
    "    def caculate_distance_and_predict(self, X_to_predict):\n",
    "        '''\n",
    "        Calculate distance from each row of train data and each row of test data, record the label of train data\n",
    "        '''\n",
    "        predict = []\n",
    "        d_idx_y = self.y_train.copy()\n",
    "        d_idx_y.columns = pd.Series(['y_val'])\n",
    "\n",
    "        for row in range(0, X_to_predict.shape[0]):\n",
    "            dis = []\n",
    "            dis = self.euclidean_distance(self.X_train.values, X_to_predict.iloc[row].values)\n",
    "            d_idx_y['distance'] = dis\n",
    "            d_sort = d_idx_y.sort_values(by='distance',ascending=True)\n",
    "            result = d_sort.head(self.K)[['y_val']].sum()[0]\n",
    "            predict.append(1 if 2*result > self.K else 0)\n",
    "        \n",
    "        return predict\n",
    "    \n",
    "    \n",
    "    '''      \n",
    "        pred(list) : Predict label of data\n",
    "        true(np.ndarray) : True label of data\n",
    "    '''\n",
    "    #calculate the error rate(%) of the predict label and true label\n",
    "    def calculate_error(self, pred, true):\n",
    "        return (pred^true).sum() / len(pred) * 100\n",
    "    \n",
    "    #return the train error rate and test error rate\n",
    "    def run(self):\n",
    "        \n",
    "        # get predictions\n",
    "        train_predict = self.caculate_distance_and_predict(self.X_train)\n",
    "        test_predict = self.caculate_distance_and_predict(self.X_test)\n",
    "        # score and return results\n",
    "        return self.calculate_error(train_predict, self.y_train[0].values), \\\n",
    "               self.calculate_error(test_predict, self.y_test[0].values)"
   ]
  },
  {
   "cell_type": "markdown",
   "metadata": {},
   "source": [
    "## Q4(a)\n",
    "## For each value of K = {1, 2, · · · , 9, 10, 15, 20, · · · , 95, 100}"
   ]
  },
  {
   "cell_type": "code",
   "execution_count": 8,
   "metadata": {},
   "outputs": [
    {
     "data": {
      "image/png": "[encoded data removed]",
      "text/plain": [
       "<Figure size 432x288 with 1 Axes>"
      ]
     },
     "metadata": {
      "needs_background": "light"
     },
     "output_type": "display_data"
    }
   ],
   "source": [
    "# initialise empty list for storage\n",
    "Ks = list(np.arange(1, 10, 1))\n",
    "Ks.extend(list(np.arange(10, 105, 5)))\n",
    "\n",
    "train_error_list = []\n",
    "test_error_list = []\n",
    "\n",
    "# loop over lamda values\n",
    "for K in Ks:\n",
    "    knn = K_Nearest_Neighbors_Classifier(X_train_log, y_train, X_test_log, y_test, K)\n",
    "    train_error, test_error = knn.run()\n",
    "    train_error_list.append(train_error)\n",
    "    test_error_list.append(test_error)\n",
    "    \n",
    "# plot chart\n",
    "plt.plot(Ks, train_error_list, label='Train Error')\n",
    "plt.plot(Ks, test_error_list, label='Test Error')\n",
    "plt.ylabel('Error Rate %')\n",
    "plt.xlabel('K Value')\n",
    "plt.title('Training and Testing Data Error Rates vs K')\n",
    "plt.legend()\n",
    "plt.show()"
   ]
  },
  {
   "cell_type": "markdown",
   "metadata": {},
   "source": [
    "## Q4(b)\n",
    "## What do you observe about the training and test errors as K change?\n",
    "For train error: it increase as K increases. And the best K is when K=1, the error rate is 0.065%.It's easier to think about, because at K=1, its nearest neighbor is itself<br>\n",
    "For train error: In general,it increase as K increases. And the best K is about K=8, the error rate is about 6.2%. We can assume that when K is very small, test data nearest neighbor may contain more outliers that are not in his label.When K is very large, the distance between his neighbors and him will become larger, and their similarity will decrease. <br>\n",
    "Train error is always less than test error.When K<35, the gap between train error and test error decreases as K increases.  When 35<K<50,the gap increases as K increases.When K>50, the gap becomes stable."
   ]
  },
  {
   "cell_type": "markdown",
   "metadata": {},
   "source": [
    "## Q4(c)\n",
    "## Training and testing error rates for K = 1, 10 and 100."
   ]
  },
  {
   "cell_type": "code",
   "execution_count": 9,
   "metadata": {},
   "outputs": [
    {
     "name": "stdout",
     "output_type": "stream",
     "text": [
      "When K = 1 :train error rate is 0.065253% , test error rate is 6.966146%\n",
      "When K = 10 :train error rate is 5.318108% , test error rate is 6.770833%\n",
      "When K = 100 :train error rate is 9.168026% , test error rate is 10.026042%\n"
     ]
    }
   ],
   "source": [
    "for K in [1, 10, 100]:\n",
    "    index = Ks.index(K)\n",
    "    print('When K = %d :train error rate is %f%% , test error rate is %f%%' %(K, train_error_list[index], test_error_list[index]))"
   ]
  }
 ],
 "metadata": {
  "kernelspec": {
   "display_name": "Python 3",
   "language": "python",
   "name": "python3"
  },
  "language_info": {
   "codemirror_mode": {
    "name": "ipython",
    "version": 3
   },
   "file_extension": ".py",
   "mimetype": "text/x-python",
   "name": "python",
   "nbconvert_exporter": "python",
   "pygments_lexer": "ipython3",
   "version": "3.7.6"
  }
 },
 "nbformat": 4,
 "nbformat_minor": 4
}
