{
 "cells": [
  {
   "cell_type": "code",
   "execution_count": 1,
   "metadata": {},
   "outputs": [
    {
     "name": "stderr",
     "output_type": "stream",
     "text": [
      "D:\\ana\\lib\\site-packages\\tensorflow\\python\\framework\\dtypes.py:526: FutureWarning: Passing (type, 1) or '1type' as a synonym of type is deprecated; in a future version of numpy, it will be understood as (type, (1,)) / '(1,)type'.\n",
      "  _np_qint8 = np.dtype([(\"qint8\", np.int8, 1)])\n",
      "D:\\ana\\lib\\site-packages\\tensorflow\\python\\framework\\dtypes.py:527: FutureWarning: Passing (type, 1) or '1type' as a synonym of type is deprecated; in a future version of numpy, it will be understood as (type, (1,)) / '(1,)type'.\n",
      "  _np_quint8 = np.dtype([(\"quint8\", np.uint8, 1)])\n",
      "D:\\ana\\lib\\site-packages\\tensorflow\\python\\framework\\dtypes.py:528: FutureWarning: Passing (type, 1) or '1type' as a synonym of type is deprecated; in a future version of numpy, it will be understood as (type, (1,)) / '(1,)type'.\n",
      "  _np_qint16 = np.dtype([(\"qint16\", np.int16, 1)])\n",
      "D:\\ana\\lib\\site-packages\\tensorflow\\python\\framework\\dtypes.py:529: FutureWarning: Passing (type, 1) or '1type' as a synonym of type is deprecated; in a future version of numpy, it will be understood as (type, (1,)) / '(1,)type'.\n",
      "  _np_quint16 = np.dtype([(\"quint16\", np.uint16, 1)])\n",
      "D:\\ana\\lib\\site-packages\\tensorflow\\python\\framework\\dtypes.py:530: FutureWarning: Passing (type, 1) or '1type' as a synonym of type is deprecated; in a future version of numpy, it will be understood as (type, (1,)) / '(1,)type'.\n",
      "  _np_qint32 = np.dtype([(\"qint32\", np.int32, 1)])\n",
      "D:\\ana\\lib\\site-packages\\tensorflow\\python\\framework\\dtypes.py:535: FutureWarning: Passing (type, 1) or '1type' as a synonym of type is deprecated; in a future version of numpy, it will be understood as (type, (1,)) / '(1,)type'.\n",
      "  np_resource = np.dtype([(\"resource\", np.ubyte, 1)])\n",
      "Using TensorFlow backend.\n"
     ]
    }
   ],
   "source": [
    "import tensorflow as tf\n",
    "import keras\n",
    "import os\n",
    "import numpy as np\n",
    "from PIL import Image\n",
    "from sklearn.decomposition import PCA\n",
    "import matplotlib.pyplot as plt\n",
    "from sklearn.neighbors import KNeighborsClassifier\n",
    "from sklearn.metrics import accuracy_score\n",
    "from sklearn.model_selection import train_test_split\n",
    "from mpl_toolkits.mplot3d import Axes3D"
   ]
  },
  {
   "cell_type": "code",
   "execution_count": 2,
   "metadata": {},
   "outputs": [
    {
     "name": "stdout",
     "output_type": "stream",
     "text": [
      "Choosen index is: [1, 2, 3, 4, 5, 6, 7, 8, 9, 10, 11, 12, 13, 14, 15, 16, 17, 18, 19, 20]\n"
     ]
    }
   ],
   "source": [
    "choosen_index = [i+1 for i in range(20)]\n",
    "print(\"Choosen index is:\", choosen_index)"
   ]
  },
  {
   "cell_type": "code",
   "execution_count": 3,
   "metadata": {},
   "outputs": [
    {
     "name": "stdout",
     "output_type": "stream",
     "text": [
      "(2380, 1, 32, 32)\n"
     ]
    }
   ],
   "source": [
    "X_train = []\n",
    "X_test = []\n",
    "y_train = []\n",
    "y_test = []\n",
    "\n",
    "for i in choosen_index:\n",
    "    dir = os.listdir('PIE'+'/'+ str(i))\n",
    "    Xi = []\n",
    "    yi = []\n",
    "    for idx in dir:\n",
    "        img = np.array(Image.open('PIE'+'/'+ str(i) +'/'+ idx)) / 256\n",
    "        Xi.extend(img.reshape(-1, 32, 32))\n",
    "        yi.append(i)\n",
    "    Xi_train, Xi_test, yi_train, yi_test = train_test_split(Xi, yi, test_size=0.3 )\n",
    "    X_train.extend(Xi_train)\n",
    "    X_test.extend(Xi_test)\n",
    "    y_train.extend(yi_train)\n",
    "    y_test.extend(yi_test)\n",
    "X_train = np.array(X_train)[:,np.newaxis]\n",
    "X_test = np.array(X_test)[:,np.newaxis]\n",
    "y_train = np.array(y_train)\n",
    "y_test = np.array(y_test)\n",
    "print(X_train.shape)"
   ]
  },
  {
   "cell_type": "code",
   "execution_count": 4,
   "metadata": {},
   "outputs": [
    {
     "name": "stdout",
     "output_type": "stream",
     "text": [
      "(7, 1, 32, 32)\n"
     ]
    }
   ],
   "source": [
    "Xm_train = []\n",
    "Xm_test = []\n",
    "ym_train = []\n",
    "ym_test = []\n",
    "\n",
    "# Set my photo label=0\n",
    "dir = os.listdir('MYSELF')\n",
    "Xi = []\n",
    "yi = []\n",
    "for idx in dir:\n",
    "    img = np.array(Image.open('MYSELF'+'/'+ idx)) / 256\n",
    "    Xi.extend(img.reshape(-1, 32, 32))\n",
    "    yi.append(0)\n",
    "Xm_train, Xm_test, ym_train, ym_test = train_test_split(Xi, yi, test_size=0.3, shuffle=False)\n",
    "Xm_train = np.array(Xm_train)[:,np.newaxis]\n",
    "Xm_test = np.array(Xm_test)[:,np.newaxis]\n",
    "ym_train = np.array(ym_train)\n",
    "ym_test = np.array(ym_test)\n",
    "print(Xm_train.shape)"
   ]
  },
  {
   "cell_type": "code",
   "execution_count": 5,
   "metadata": {},
   "outputs": [],
   "source": [
    "from keras.models import Sequential\n",
    "from keras.layers import Dense, Dropout, Activation, Flatten\n",
    "from keras.layers import Conv2D, MaxPooling2D\n",
    "from keras.optimizers import SGD\n",
    "from keras.utils import plot_model"
   ]
  },
  {
   "cell_type": "code",
   "execution_count": 6,
   "metadata": {},
   "outputs": [],
   "source": [
    "input_shape = (1, 32, 32)\n",
    "num_classes = 21\n",
    "def create_CNN(input_shape, num_classes):\n",
    "    model = Sequential()\n",
    "    model.add(Conv2D(20, kernel_size=(5, 5), strides=(1, 1),\n",
    "                 activation='relu', data_format=\"channels_first\",\n",
    "                 input_shape=input_shape))\n",
    "    model.add(MaxPooling2D(pool_size=(2, 2), strides=(2, 2), data_format=\"channels_first\"))\n",
    "    model.add(Conv2D(50, (5, 5), activation='relu', data_format=\"channels_first\"))\n",
    "    model.add(MaxPooling2D(pool_size=(2, 2), strides=(2, 2), data_format=\"channels_first\"))\n",
    "    model.add(Flatten())\n",
    "    model.add(Dense(500, activation='relu'))\n",
    "    model.add(Dense(num_classes, activation='softmax'))\n",
    "    model.compile(loss='categorical_crossentropy',optimizer=SGD(lr=0.01),metrics=['accuracy'])\n",
    "    return model"
   ]
  },
  {
   "cell_type": "code",
   "execution_count": 7,
   "metadata": {
    "scrolled": true
   },
   "outputs": [
    {
     "name": "stdout",
     "output_type": "stream",
     "text": [
      "WARNING:tensorflow:From D:\\ana\\lib\\site-packages\\tensorflow\\python\\framework\\op_def_library.py:263: colocate_with (from tensorflow.python.framework.ops) is deprecated and will be removed in a future version.\n",
      "Instructions for updating:\n",
      "Colocations handled automatically by placer.\n",
      "WARNING:tensorflow:From D:\\ana\\lib\\site-packages\\tensorflow\\python\\ops\\math_ops.py:3066: to_int32 (from tensorflow.python.ops.math_ops) is deprecated and will be removed in a future version.\n",
      "Instructions for updating:\n",
      "Use tf.cast instead.\n",
      "Train on 2380 samples, validate on 1020 samples\n",
      "Epoch 1/10\n",
      "2380/2380 [==============================] - 6s 3ms/step - loss: 2.9420 - acc: 0.0870 - val_loss: 2.7092 - val_acc: 0.1529\n",
      "Epoch 2/10\n",
      "2380/2380 [==============================] - 6s 2ms/step - loss: 1.4193 - acc: 0.5618 - val_loss: 0.7896 - val_acc: 0.7353\n",
      "Epoch 3/10\n",
      "2380/2380 [==============================] - 6s 2ms/step - loss: 0.4420 - acc: 0.8639 - val_loss: 0.2914 - val_acc: 0.9127\n",
      "Epoch 4/10\n",
      "2380/2380 [==============================] - 6s 2ms/step - loss: 0.2468 - acc: 0.9294 - val_loss: 0.2753 - val_acc: 0.9284\n",
      "Epoch 5/10\n",
      "2380/2380 [==============================] - 6s 2ms/step - loss: 0.1685 - acc: 0.9529 - val_loss: 0.1601 - val_acc: 0.9539\n",
      "Epoch 6/10\n",
      "2380/2380 [==============================] - 6s 2ms/step - loss: 0.0700 - acc: 0.9786 - val_loss: 0.1295 - val_acc: 0.9637\n",
      "Epoch 7/10\n",
      "2380/2380 [==============================] - 6s 2ms/step - loss: 0.0920 - acc: 0.9756 - val_loss: 0.1024 - val_acc: 0.9725\n",
      "Epoch 8/10\n",
      "2380/2380 [==============================] - 6s 2ms/step - loss: 0.0467 - acc: 0.9866 - val_loss: 0.2048 - val_acc: 0.9569\n",
      "Epoch 9/10\n",
      "2380/2380 [==============================] - 5s 2ms/step - loss: 0.0274 - acc: 0.9945 - val_loss: 0.0870 - val_acc: 0.9765\n",
      "Epoch 10/10\n",
      "2380/2380 [==============================] - 6s 2ms/step - loss: 0.0097 - acc: 0.9975 - val_loss: 0.0778 - val_acc: 0.9775\n"
     ]
    }
   ],
   "source": [
    "model = create_CNN(input_shape, num_classes)\n",
    "sgd = SGD(lr=0.006, decay=1e-4, momentum=0.9, nesterov=True)\n",
    "model.compile(optimizer=sgd, loss='categorical_crossentropy', metrics=['accuracy'])\n",
    "batch_size = 8  # batch for one time\n",
    "epochs = 10  # epoch size\n",
    "one_hot_labels_train = keras.utils.to_categorical(y_train, num_classes=num_classes)\n",
    "one_hot_labels_test = keras.utils.to_categorical(y_test, num_classes=num_classes)\n",
    "hist = model.fit(X_train, one_hot_labels_train,\n",
    "          batch_size=batch_size,\n",
    "          epochs=epochs,\n",
    "          verbose=1,\n",
    "          validation_data=(X_test, one_hot_labels_test)\n",
    "         )\n",
    "plot_model(model, show_shapes=True, to_file='model.png')"
   ]
  },
  {
   "cell_type": "code",
   "execution_count": 8,
   "metadata": {},
   "outputs": [
    {
     "name": "stdout",
     "output_type": "stream",
     "text": [
      "Test loss: 0.07780753884272759\n",
      "Test accuracy: 0.9774509803921568\n"
     ]
    },
    {
     "data": {
      "image/png": "[encoded data removed]",
      "text/plain": [
       "<Figure size 504x504 with 1 Axes>"
      ]
     },
     "metadata": {
      "needs_background": "light"
     },
     "output_type": "display_data"
    },
    {
     "data": {
      "image/png": "[encoded data removed]",
      "text/plain": [
       "<Figure size 504x504 with 1 Axes>"
      ]
     },
     "metadata": {
      "needs_background": "light"
     },
     "output_type": "display_data"
    }
   ],
   "source": [
    "score = model.evaluate(X_test, one_hot_labels_test, verbose=0)\n",
    "print('Test loss:', score[0])\n",
    "print('Test accuracy:', score[1])\n",
    "\n",
    "# Plot the results\n",
    "train_loss = hist.history['loss']\n",
    "val_loss = hist.history['val_loss']\n",
    "train_acc = hist.history['acc']\n",
    "val_acc = hist.history['val_acc']\n",
    "\n",
    "plt.figure(figsize=(7, 7))\n",
    "plt.grid()\n",
    "plt.plot(train_loss)\n",
    "plt.plot(val_loss)\n",
    "plt.ylabel('Loss')\n",
    "plt.title('train_loss vs val_loss')\n",
    "plt.xlabel('Epochs')\n",
    "plt.legend(['train', 'val'], loc='upper right')\n",
    "plt.show()\n",
    "\n",
    "plt.figure(figsize=(7, 7))\n",
    "plt.grid()\n",
    "plt.plot(train_acc)\n",
    "plt.plot(val_acc)\n",
    "plt.ylabel('Accuracy %')\n",
    "plt.title('train_Accuracy vs val_Accuracy')\n",
    "plt.xlabel('Epochs')\n",
    "plt.legend(['train', 'val'], loc='upper right')\n",
    "plt.show()"
   ]
  },
  {
   "cell_type": "code",
   "execution_count": null,
   "metadata": {},
   "outputs": [],
   "source": []
  }
 ],
 "metadata": {
  "kernelspec": {
   "display_name": "Python 3",
   "language": "python",
   "name": "python3"
  },
  "language_info": {
   "codemirror_mode": {
    "name": "ipython",
    "version": 3
   },
   "file_extension": ".py",
   "mimetype": "text/x-python",
   "name": "python",
   "nbconvert_exporter": "python",
   "pygments_lexer": "ipython3",
   "version": "3.7.6"
  }
 },
 "nbformat": 4,
 "nbformat_minor": 4
}
