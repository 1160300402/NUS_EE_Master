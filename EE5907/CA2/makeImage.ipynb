{
 "cells": [
  {
   "cell_type": "code",
   "execution_count": 1,
   "metadata": {},
   "outputs": [],
   "source": [
    "import os\n",
    "import numpy as np\n",
    "from PIL import Image\n",
    "from sklearn.decomposition import PCA\n",
    "import matplotlib.pyplot as plt\n",
    "from sklearn.neighbors import KNeighborsClassifier\n",
    "from sklearn.metrics import accuracy_score\n",
    "from sklearn.model_selection import train_test_split\n",
    "from mpl_toolkits.mplot3d import Axes3D"
   ]
  },
  {
   "cell_type": "code",
   "execution_count": 4,
   "metadata": {},
   "outputs": [],
   "source": [
    "Xm_train = []\n",
    "Xm_test = []\n",
    "ym_train = []\n",
    "ym_test = []\n",
    "\n",
    "# Set my photo label=0\n",
    "dir = os.listdir('MYSELF')\n",
    "Xi = []\n",
    "yi = []\n",
    "i = 0\n",
    "for idx in dir:\n",
    "    i=i+1\n",
    "    img = Image.open('MYSELF'+'/'+ idx)\n",
    "    img_L = img.convert(\"L\")\n",
    "    img_L = img_L.resize((32, 32), Image.ANTIALIAS)\n",
    "    img_L.save(str(i) + '.jpg')"
   ]
  },
  {
   "cell_type": "code",
   "execution_count": null,
   "metadata": {},
   "outputs": [],
   "source": []
  }
 ],
 "metadata": {
  "kernelspec": {
   "display_name": "Python 3",
   "language": "python",
   "name": "python3"
  },
  "language_info": {
   "codemirror_mode": {
    "name": "ipython",
    "version": 3
   },
   "file_extension": ".py",
   "mimetype": "text/x-python",
   "name": "python",
   "nbconvert_exporter": "python",
   "pygments_lexer": "ipython3",
   "version": "3.7.6"
  }
 },
 "nbformat": 4,
 "nbformat_minor": 4
}
