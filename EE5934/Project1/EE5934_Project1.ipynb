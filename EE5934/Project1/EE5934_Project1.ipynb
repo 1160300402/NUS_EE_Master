{
 "cells": [
  {
   "cell_type": "markdown",
   "metadata": {
    "id": "y2osEUslUGkv"
   },
   "source": [
    "# EE5934 Deep Learning Project 1\n",
    "\n",
    "In this project, you are going to explore Deep Learning and Neural Networks by completing the following three tasks:\n",
    "\n",
    "* Task 1. Network Exploration (30%)\n",
    "* Task 2. Model Interpretation (30%)\n",
    "* Task 3. Adversarial Attack (40%)\n",
    "\n",
    "Before doing the project, please read the instructions carefully (failure to do so will be penalized):\n",
    "\n",
    "1. Implement your codes **within** \"TODO\" and \"END OF YOUR CODE\", do **NOT** modify any codes outside the answer area;\n",
    "2. Make sure your codes **clean**, **easily readable** (add meaningful comments if needed), and **runnable**;\n",
    "3. Write your answers in the given markdown cells, keep your answers clear and concise;\n",
    "4. Do submit your project to \"Files/Project 1/Submissions\" on [LumiNUS](https://luminus.nus.edu.sg/) before the deadline: **5:59 pm (SGT), 6 March, 2022**;\n",
    "5. This is an individual project, do **NOT** share your solutions with others, we have zero tolerance for cheating.\n",
    "\n",
    "If you have any questions regarding this project, please feel free to contact Wu Zhangjie (zhangjiewu@u.nus.edu). "
   ]
  },
  {
   "cell_type": "markdown",
   "metadata": {
    "id": "XyJICDR5tkuj"
   },
   "source": [
    "## Preparation"
   ]
  },
  {
   "cell_type": "markdown",
   "metadata": {
    "id": "_gARuMA7bdk9"
   },
   "source": [
    "### Loading packages\n",
    "\n",
    "Please install the packages listed below if you haven't done so. To avoid unnecessary trouble while reproducing your code, please install the required [PyTorch](https://pytorch.org/) version."
   ]
  },
  {
   "cell_type": "code",
   "execution_count": 1,
   "metadata": {
    "id": "LNFcTvFWg1L1"
   },
   "outputs": [],
   "source": [
    "import os\n",
    "import time\n",
    "import copy\n",
    "import numpy as np\n",
    "import matplotlib.pyplot as plt\n",
    "\n",
    "import matplotlib.cm as mpl_color_map\n",
    "from PIL import Image\n",
    "from random import randint\n",
    "\n",
    "import torch\n",
    "import torch.nn.functional as F\n",
    "import torch.optim as optim\n",
    "import torchvision\n",
    "\n",
    "assert torch.__version__ == '1.9.0', 'Please reinstall pytorch to 1.9.0.'\n",
    "assert torchvision.__version__ == '0.10.0', 'Please reinstall torchvision to 0.10.0.'"
   ]
  },
  {
   "cell_type": "markdown",
   "metadata": {
    "id": "Owj6jKvWraFJ"
   },
   "source": [
    "### Checking the Running Device\n",
    "\n",
    "It is recommended to run this notebook on GPUs since that would be a much faster way to train and evaluate the model. If you have difficulties accessing GPUs with your machine, you can choose to use the free GPUs provided by [Google Colab](https://colab.research.google.com/)."
   ]
  },
  {
   "cell_type": "code",
   "execution_count": 2,
   "metadata": {
    "colab": {
     "base_uri": "https://localhost:8080/"
    },
    "id": "CLovzR7Lk49o",
    "outputId": "4d0bbff5-ff56-4026-fedf-eb99e62610a7"
   },
   "outputs": [
    {
     "name": "stdout",
     "output_type": "stream",
     "text": [
      "cuda:0\n"
     ]
    }
   ],
   "source": [
    "if torch.cuda.is_available():\n",
    "  device = 'cuda:0'\n",
    "else:\n",
    "  device = 'cpu'\n",
    "print(device)"
   ]
  },
  {
   "cell_type": "code",
   "execution_count": 4,
   "metadata": {
    "id": "2y6DiQAhbdlC"
   },
   "outputs": [],
   "source": [
    "# Certificate verification was cancelled globally\n",
    "import ssl\n",
    "ssl._create_default_https_context = ssl._create_unverified_context"
   ]
  },
  {
   "cell_type": "markdown",
   "metadata": {
    "id": "Fb12tK49rDia"
   },
   "source": [
    "### Getting the CIFAR-10 Dataset"
   ]
  },
  {
   "cell_type": "code",
   "execution_count": 3,
   "metadata": {
    "colab": {
     "base_uri": "https://localhost:8080/"
    },
    "id": "EIT2XbCfp2iv",
    "outputId": "3943da7f-9522-4558-f270-b228a8c7cc91"
   },
   "outputs": [
    {
     "name": "stdout",
     "output_type": "stream",
     "text": [
      "Files already downloaded and verified\n",
      "Files already downloaded and verified\n"
     ]
    }
   ],
   "source": [
    "CIFAR_CLASSES = ['Airplane', 'Automobile', 'Bird', 'Cat', 'Deer', 'Dog', 'Frog', 'Horse', 'Ship', 'Truck']\n",
    "CIFAR_MEAN, CIFAR_STD = np.array([0.4914, 0.4822, 0.4465]), np.array([0.247, 0.243, 0.261])\n",
    "\n",
    "# Convert image to pytroch tensor and normalize\n",
    "transform = torchvision.transforms.Compose([\n",
    "    torchvision.transforms.ToTensor(),\n",
    "    torchvision.transforms.Normalize(mean=CIFAR_MEAN.tolist(), std=CIFAR_STD.tolist())\n",
    "])\n",
    "\n",
    "# Inverse operation to regain original image\n",
    "inverse_transform = torchvision.transforms.Compose([ \n",
    "    torchvision.transforms.Normalize(mean=[0, 0, 0], std=(1 / CIFAR_STD).tolist()),\n",
    "    torchvision.transforms.Normalize(mean=(-CIFAR_MEAN).tolist(), std=[1, 1, 1]),\n",
    "    torchvision.transforms.ToPILImage()\n",
    "])\n",
    "\n",
    "# Load dataset\n",
    "train_set = torchvision.datasets.CIFAR10(root=\"data\", train=True, download=True, transform=transform)\n",
    "train_size = len(train_set)\n",
    "test_set = torchvision.datasets.CIFAR10(root=\"data\", train=False, download=True, transform=transform)\n",
    "test_size = len(test_set)"
   ]
  },
  {
   "cell_type": "markdown",
   "metadata": {
    "id": "sYfKpA6TbdlG"
   },
   "source": [
    "### Helper Fuctions"
   ]
  },
  {
   "cell_type": "code",
   "execution_count": 5,
   "metadata": {
    "id": "sG850sC0bdlH"
   },
   "outputs": [],
   "source": [
    "def show_prob_cifar(image, label, p):\n",
    "    \"\"\"\n",
    "        Show image and prediction probability for CIFAR-10 dataset.\n",
    "    Args:\n",
    "    Inputs\n",
    "        image (Tensor): Input image\n",
    "        label (int): The ground truth label of input image\n",
    "        p (Tensor): Class probability of input image\n",
    "    \n",
    "    \"\"\"\n",
    "\n",
    "    ft = 10\n",
    "    width = 0.9\n",
    "    col = 'blue'\n",
    "\n",
    "    p=p.cpu().data.squeeze().numpy()\n",
    "    y_pos = np.arange(len(p))\n",
    "    fig = plt.figure(figsize=(5, 5))\n",
    "\n",
    "    # Plot image\n",
    "    ax1 = plt.subplot(2, 1, 1)\n",
    "    ax1.imshow(image)\n",
    "    ax1.set_axis_off()\n",
    "    ax1.set_title('Ground Truth: ' + CIFAR_CLASSES[label])\n",
    "\n",
    "    # Plot probability\n",
    "    ax2 = plt.subplot(2, 1, 2)\n",
    "    ax2.barh(y_pos, p*0.1, width , align='center', color=col)\n",
    "    ax2.set_yticks(y_pos)\n",
    "    ax2.set_yticklabels(CIFAR_CLASSES, fontsize=ft)\n",
    "    ax2.invert_yaxis()  \n",
    "    ax2.set_xticklabels([])\n",
    "    ax2.set_xticks([])\n",
    "    ax2.spines['right'].set_visible(False)\n",
    "    ax2.spines['top'].set_visible(False)\n",
    "    ax2.spines['bottom'].set_visible(False)\n",
    "    ax2.spines['left'].set_linewidth(4)\n",
    "    for i in range(len(p)):\n",
    "        str_nb=\"{0:.2f}\".format(p[i])\n",
    "        ax2.text(p[i]*0.1 + 0.001, y_pos[i] ,str_nb ,\n",
    "                 horizontalalignment='left', verticalalignment='center',\n",
    "                 transform=ax2.transData, color= col,fontsize=ft)\n",
    "\n",
    "    plt.show()\n",
    "\n",
    "\n",
    "def apply_colormap_on_image(org_im, activation, colormap_name):\n",
    "    \"\"\"\n",
    "        Apply heatmap on image\n",
    "    Args:\n",
    "        org_img (PIL img): Original image\n",
    "        activation_map (numpy arr): Activation map (grayscale) 0-255\n",
    "        colormap_name (str): Name of the colormap\n",
    "    \"\"\"\n",
    "    # Get colormap\n",
    "    color_map = mpl_color_map.get_cmap(colormap_name)\n",
    "    no_trans_heatmap = color_map(activation)\n",
    "    # Change alpha channel in colormap to make sure original image is displayed\n",
    "    heatmap = copy.copy(no_trans_heatmap)\n",
    "    heatmap[:, :, 3] = 0.4\n",
    "    heatmap = Image.fromarray((heatmap*255).astype(np.uint8))\n",
    "    no_trans_heatmap = Image.fromarray((no_trans_heatmap*255).astype(np.uint8))\n",
    "\n",
    "    # Apply heatmap on iamge\n",
    "    heatmap_on_image = Image.new(\"RGBA\", org_im.size)\n",
    "    heatmap_on_image = Image.alpha_composite(heatmap_on_image, org_im.convert('RGBA'))\n",
    "    heatmap_on_image = Image.alpha_composite(heatmap_on_image, heatmap)\n",
    "    return no_trans_heatmap, heatmap_on_image"
   ]
  },
  {
   "cell_type": "markdown",
   "metadata": {
    "id": "UzXv8qM1rPlc"
   },
   "source": [
    "## Task 1: Network Exploration\n",
    "\n",
    "In this task, you are expected to build a convolutional neural network (CNN) for solving a problem of image recognition and explore strategies that could further strengthen its performance.  "
   ]
  },
  {
   "cell_type": "markdown",
   "metadata": {
    "id": "crq1I-VjbdlJ"
   },
   "source": [
    "### Defining the Model\n",
    "\n",
    "In deep learning, a Convolutional Neural Network (CNN, or ConvNet) is one of the most famous deep learning models that have been widely used in the field of computer vision. A simple CNN often consists of three main types of layers:\n",
    "- **Convolutional Layer**, the core building block that takes over the most of computational burdens, contains a set of filters (or kernels) with learnable parameters while training. It receives as input an image (or a feature map), and computes its output volume by stacking the activation maps convolved by every filter along the depth dimension. \n",
    "- **Pooling Layer** is commonly inserted in-between successive Conv layers in a CNN architecture. Its function is to progressively reduce the spatial size of the representation to reduce the amount of parameters and computation in the network, and hence to also control overfitting. \n",
    "- **Fully Connected Layer** have fully connections to all activations in the previous layer and is usually placed before the output layer to form the last few layers of a CNN Architecture.\n",
    "\n",
    "If you are not familiar with CNN architectures, [this blog](https://towardsdatascience.com/a-comprehensive-guide-to-convolutional-neural-networks-the-eli5-way-3bd2b1164a53) may help you get a better understanding of the mechanism of each layer."
   ]
  },
  {
   "cell_type": "markdown",
   "metadata": {
    "id": "hoECBoEtbdlK"
   },
   "source": [
    "Define a naive CNN stacked by the layers mentioned above. While doing so, please follow the TODOs provided below. (Refer to [torch.nn](https://pytorch.org/docs/stable/nn.html) for detailed instructions of building basic blocks with PyTorch.)"
   ]
  },
  {
   "cell_type": "code",
   "execution_count": 6,
   "metadata": {
    "colab": {
     "base_uri": "https://localhost:8080/"
    },
    "id": "LVv2SxOihl6K",
    "outputId": "c6249496-2f63-4796-edf8-38ea3d64d300"
   },
   "outputs": [
    {
     "name": "stdout",
     "output_type": "stream",
     "text": [
      "ConvNet(\n",
      "  (conv1): Conv2d(3, 64, kernel_size=(3, 3), stride=(1, 1), padding=(1, 1))\n",
      "  (conv2): Conv2d(64, 128, kernel_size=(3, 3), stride=(1, 1), padding=(1, 1))\n",
      "  (conv3): Conv2d(128, 256, kernel_size=(3, 3), stride=(1, 1), padding=(1, 1))\n",
      "  (conv4): Conv2d(256, 512, kernel_size=(3, 3), stride=(1, 1), padding=(1, 1))\n",
      "  (fc1): Linear(in_features=2048, out_features=4096, bias=True)\n",
      "  (fc2): Linear(in_features=4096, out_features=4096, bias=True)\n",
      "  (fc3): Linear(in_features=4096, out_features=10, bias=True)\n",
      ")\n"
     ]
    }
   ],
   "source": [
    "class ConvNet(torch.nn.Module):\n",
    "    def __init__(self):\n",
    "        super(ConvNet, self).__init__()\n",
    "        \n",
    "        ##############################################################################\n",
    "        # TODO: Define a simple CNN contraining Conv, Pooling, and FC layers.        #\n",
    "        ##############################################################################\n",
    "        \n",
    "        # Block 1:         3 x 32 x 32 --> 64 x 16 x 16        \n",
    "        self.conv1 = torch.nn.Conv2d(3, 64, kernel_size=(3, 3), stride=1, padding=1)\n",
    "        # Block 2:         64 x 16 x 16 --> 128 x 8 x 8\n",
    "        self.conv2 = torch.nn.Conv2d(64, 128, kernel_size=(3, 3), stride=1, padding=1)\n",
    "        # Block 3:         128 x 8 x 8 --> 256 x 4 x 4        \n",
    "        self.conv3 = torch.nn.Conv2d(128, 256, kernel_size=(3, 3), stride=1, padding=1)\n",
    "        # Block 4:          256 x 4 x 4 --> 512 x 2 x 2\n",
    "        self.conv4 = torch.nn.Conv2d(256, 512, kernel_size=(3, 3), stride=1, padding=1)\n",
    "        \n",
    "        # Linear layers:   512 x 2 x 2 --> 2048 --> 4096 --> 4096 --> 10\n",
    "        self.fc1 = torch.nn.Linear(in_features=512 * 2 * 2, out_features=4096)\n",
    "        self.fc2 = torch.nn.Linear(in_features=4096, out_features=4096)\n",
    "        self.fc3 = torch.nn.Linear(in_features=4096, out_features=10)\n",
    "        ##############################################################################\n",
    "        #                             END OF YOUR CODE                               #\n",
    "        ##############################################################################\n",
    "\n",
    "    def forward(self, x):\n",
    "        \n",
    "        ##############################################################################\n",
    "        # TODO: Implement forward path turning an input image to class probability.  #\n",
    "        # For activation function, please use ReLU.                                  #\n",
    "        ##############################################################################\n",
    "\n",
    "        # Block 1:         3 x 32 x 32 --> 64 x 16 x 16\n",
    "        x = F.relu(self.conv1(x))\n",
    "        x = F.max_pool2d(x, 2) # Max pooling over a (2, 2) window\n",
    "        # Block 2:         64 x 16 x 16 --> 128 x 8 x 8\n",
    "        x = F.relu(self.conv2(x))\n",
    "        x = F.max_pool2d(x, 2) # Max pooling over a (2, 2) window\n",
    "        # Block 3:         128 x 8 x 8 --> 256 x 4 x 4\n",
    "        x = F.relu(self.conv3(x))\n",
    "        x = F.max_pool2d(x, 2) # Max pooling over a (2, 2) window\n",
    "        # Block 4:         256 x 4 x 4 --> 512 x 2 x 2\n",
    "        x = F.relu(self.conv4(x))\n",
    "        x = F.max_pool2d(x, 2) # Max pooling over a (2, 2) window\n",
    "        \n",
    "        # Linear layers:   512 x 2 x 2 --> 2048 --> 4096 --> 4096 --> 10\n",
    "        x = torch.flatten(x, 1)\n",
    "        x = F.relu(self.fc1(x))\n",
    "        x = F.relu(self.fc2(x))\n",
    "        x = self.fc3(x)\n",
    "        ##############################################################################\n",
    "        #                             END OF YOUR CODE                               #\n",
    "        ##############################################################################\n",
    "        \n",
    "        return x\n",
    "\n",
    "model = ConvNet()\n",
    "model.to(device)\n",
    "print(model)"
   ]
  },
  {
   "cell_type": "markdown",
   "metadata": {
    "id": "CT0GtJL3Ag-I"
   },
   "source": [
    "### Training the Model\n",
    "\n",
    "Some default settings for training. "
   ]
  },
  {
   "cell_type": "code",
   "execution_count": 7,
   "metadata": {
    "id": "ac5vPBF4bdlM"
   },
   "outputs": [],
   "source": [
    "# Hyperparameters\n",
    "epochs = 20\n",
    "batch_size = 128\n",
    "learning_rate = 0.25\n",
    "\n",
    "# Set up optimizer\n",
    "optimizer = optim.SGD(model.parameters(), lr=learning_rate)\n",
    "# Define loss function\n",
    "criterion = torch.nn.CrossEntropyLoss()\n",
    "# Build data loaders\n",
    "train_loader = torch.utils.data.DataLoader(train_set, batch_size=batch_size, shuffle=True, num_workers=1)\n",
    "test_loader = torch.utils.data.DataLoader(test_set, batch_size=batch_size, shuffle=False, num_workers=1)\n",
    "data_loaders = {\"train\": train_loader, \"test\": test_loader}\n",
    "dataset_sizes = {\"train\": train_size, \"test\": test_size}"
   ]
  },
  {
   "cell_type": "markdown",
   "metadata": {
    "id": "90D0J7zSbdlM"
   },
   "source": [
    "Here, your job is to implement two functions for training and testing model."
   ]
  },
  {
   "cell_type": "code",
   "execution_count": 8,
   "metadata": {
    "id": "i8ERy2xSuygX"
   },
   "outputs": [],
   "source": [
    "def eval_on_test_set(model):\n",
    "    model.eval()\n",
    "    running_error = 0\n",
    "\n",
    "    for data in test_loader:\n",
    "        pass\n",
    "        ##############################################################################\n",
    "        # TODO: Implement the evaluation process on test set.                        #\n",
    "        ##############################################################################\n",
    "\n",
    "        # Load inputs and labels and deploy to running device\n",
    "        inputs, labels = data\n",
    "        inputs = inputs.to(device)\n",
    "        labels = labels.to(device)\n",
    "        # Forward batch data through the net\n",
    "        outputs = model(inputs)\n",
    "        # Compute the error made on this batch and add it to the running error\n",
    "        batch_error = (outputs.argmax(1) != labels).sum()\n",
    "        running_error = running_error + batch_error\n",
    "        ##############################################################################\n",
    "        #                             END OF YOUR CODE                               #\n",
    "        ##############################################################################\n",
    "        \n",
    "    total_error = running_error / test_size\n",
    "    print('error rate on test set = {:.2f}%'.format(total_error * 100))\n",
    "    model.train()"
   ]
  },
  {
   "cell_type": "code",
   "execution_count": 9,
   "metadata": {
    "id": "iL3QYrp7u1V4"
   },
   "outputs": [],
   "source": [
    "def train_net(model):\n",
    "    start=time.time()\n",
    "    model.train()\n",
    "\n",
    "    for epoch in range(epochs):\n",
    "        # set the running quatities to zero at the beginning of the epoch\n",
    "        running_loss = 0\n",
    "        running_error = 0\n",
    "    \n",
    "        for data in train_loader:\n",
    "            pass\n",
    "            ##############################################################################\n",
    "            # TODO: Implement the training process.                                      #\n",
    "            ##############################################################################\n",
    "\n",
    "            # Load inputs and labels and deploy to running device\n",
    "            inputs, labels = data\n",
    "            inputs = inputs.to(device)\n",
    "            labels = labels.to(device)\n",
    "            # Set the gradients to zeros\n",
    "            optimizer.zero_grad()\n",
    "            # Forward the batch data through the net       \n",
    "            outputs = model(inputs)\n",
    "            # Compute the average of the losses of the data points in the minibatch\n",
    "            loss = criterion(outputs, labels)\n",
    "            # Backward pass to compute gradients\n",
    "            loss.backward()\n",
    "            # Do one step of stochastic gradient descent\n",
    "            optimizer.step()\n",
    "            # Add the loss of this batch to the running loss\n",
    "            running_loss = running_loss + loss.item()\n",
    "            # Compute the error made on this batch and add it to the running error\n",
    "            batch_error = (outputs.argmax(1) != labels).sum()\n",
    "            running_error = running_error + batch_error\n",
    "            ##############################################################################\n",
    "            #                             END OF YOUR CODE                               #\n",
    "            ##############################################################################\n",
    "            \n",
    "        # Compute stats for the full training set\n",
    "        total_loss = running_loss / train_size\n",
    "        total_error = running_error / train_size\n",
    "        elapsed = (time.time()-start) / 60\n",
    "        \n",
    "        print('epoch= {} \\t time= {:.2f} min \\t loss= {:.3f} \\t error= {:.2f}%'.format(epoch, elapsed, total_loss, total_error * 100))\n",
    "        eval_on_test_set(model) "
   ]
  },
  {
   "cell_type": "markdown",
   "metadata": {
    "id": "bERiiuuwbdlN"
   },
   "source": [
    "Run `train_net` and start training. After training, your error on the testing set should be under 30% (if not, please look back and check your codes, there might be something wrong with the network architecture or training process). Once the training phrase is completed, save the trained model on your device so it can be directly loaded in the following tasks."
   ]
  },
  {
   "cell_type": "code",
   "execution_count": 10,
   "metadata": {
    "colab": {
     "base_uri": "https://localhost:8080/"
    },
    "id": "of53Jft7bdlO",
    "outputId": "c021592c-1ec1-4399-960c-885ea77db532"
   },
   "outputs": [
    {
     "name": "stdout",
     "output_type": "stream",
     "text": [
      "epoch= 0 \t time= 0.20 min \t loss= 0.015 \t error= 70.53%\n",
      "error rate on test set = 58.54%\n",
      "epoch= 1 \t time= 0.42 min \t loss= 0.011 \t error= 50.62%\n",
      "error rate on test set = 51.47%\n",
      "epoch= 2 \t time= 0.64 min \t loss= 0.008 \t error= 37.44%\n",
      "error rate on test set = 33.74%\n",
      "epoch= 3 \t time= 0.86 min \t loss= 0.007 \t error= 29.39%\n",
      "error rate on test set = 34.66%\n",
      "epoch= 4 \t time= 1.08 min \t loss= 0.005 \t error= 22.80%\n",
      "error rate on test set = 27.54%\n",
      "epoch= 5 \t time= 1.30 min \t loss= 0.004 \t error= 17.28%\n",
      "error rate on test set = 30.90%\n",
      "epoch= 6 \t time= 1.52 min \t loss= 0.003 \t error= 13.02%\n",
      "error rate on test set = 23.95%\n",
      "epoch= 7 \t time= 1.74 min \t loss= 0.002 \t error= 9.13%\n",
      "error rate on test set = 25.10%\n",
      "epoch= 8 \t time= 1.96 min \t loss= 0.002 \t error= 6.87%\n",
      "error rate on test set = 23.97%\n",
      "epoch= 9 \t time= 2.18 min \t loss= 0.001 \t error= 4.97%\n",
      "error rate on test set = 30.20%\n",
      "epoch= 10 \t time= 2.40 min \t loss= 0.001 \t error= 4.00%\n",
      "error rate on test set = 23.55%\n",
      "epoch= 11 \t time= 2.62 min \t loss= 0.001 \t error= 3.01%\n",
      "error rate on test set = 25.86%\n",
      "epoch= 12 \t time= 2.84 min \t loss= 0.001 \t error= 2.35%\n",
      "error rate on test set = 23.02%\n",
      "epoch= 13 \t time= 3.06 min \t loss= 0.000 \t error= 2.08%\n",
      "error rate on test set = 24.58%\n",
      "epoch= 14 \t time= 3.28 min \t loss= 0.000 \t error= 1.74%\n",
      "error rate on test set = 23.49%\n",
      "epoch= 15 \t time= 3.50 min \t loss= 0.000 \t error= 1.34%\n",
      "error rate on test set = 23.83%\n",
      "epoch= 16 \t time= 3.72 min \t loss= 0.000 \t error= 1.49%\n",
      "error rate on test set = 23.91%\n",
      "epoch= 17 \t time= 3.95 min \t loss= 0.000 \t error= 1.24%\n",
      "error rate on test set = 24.85%\n",
      "epoch= 18 \t time= 4.17 min \t loss= 0.000 \t error= 1.07%\n",
      "error rate on test set = 23.04%\n",
      "epoch= 19 \t time= 4.39 min \t loss= 0.000 \t error= 0.59%\n",
      "error rate on test set = 23.03%\n"
     ]
    }
   ],
   "source": [
    "# Start training\n",
    "train_net(model)\n",
    "# Save the trained model\n",
    "torch.save(model.state_dict(), './model_cnn.pt')"
   ]
  },
  {
   "cell_type": "markdown",
   "metadata": {
    "id": "D94cT95fDn4q"
   },
   "source": [
    "### Ploting the Results\n",
    "\n",
    "Now you have finished model training, let's randomly pick some test images, feed them into your model and see how they turn out. (There is nothing to implement in this section.)"
   ]
  },
  {
   "cell_type": "code",
   "execution_count": 11,
   "metadata": {
    "colab": {
     "base_uri": "https://localhost:8080/"
    },
    "collapsed": true,
    "id": "OAEMjcgax1cK",
    "outputId": "4c597f54-4b77-4ee5-f058-de30031d08e7"
   },
   "outputs": [
    {
     "data": {
      "text/plain": [
       "ConvNet(\n",
       "  (conv1): Conv2d(3, 64, kernel_size=(3, 3), stride=(1, 1), padding=(1, 1))\n",
       "  (conv2): Conv2d(64, 128, kernel_size=(3, 3), stride=(1, 1), padding=(1, 1))\n",
       "  (conv3): Conv2d(128, 256, kernel_size=(3, 3), stride=(1, 1), padding=(1, 1))\n",
       "  (conv4): Conv2d(256, 512, kernel_size=(3, 3), stride=(1, 1), padding=(1, 1))\n",
       "  (fc1): Linear(in_features=2048, out_features=4096, bias=True)\n",
       "  (fc2): Linear(in_features=4096, out_features=4096, bias=True)\n",
       "  (fc3): Linear(in_features=4096, out_features=10, bias=True)\n",
       ")"
      ]
     },
     "execution_count": 11,
     "metadata": {},
     "output_type": "execute_result"
    }
   ],
   "source": [
    "assert os.path.exists('./model_cnn.pt'), 'train the model first'\n",
    "# Load the trained model\n",
    "model.load_state_dict(torch.load('./model_cnn.pt', map_location=torch.device('cpu')))\n",
    "model.to(device)\n",
    "model.eval()"
   ]
  },
  {
   "cell_type": "code",
   "execution_count": 13,
   "metadata": {
    "colab": {
     "base_uri": "https://localhost:8080/",
     "height": 337
    },
    "id": "BiWyCjxO4zqr",
    "outputId": "eddb2efc-37f2-4565-9c97-650fe19e8e51"
   },
   "outputs": [
    {
     "name": "stdout",
     "output_type": "stream",
     "text": [
      "7742\n"
     ]
    },
    {
     "data": {
      "image/png": "[encoded data removed]",
      "text/plain": [
       "<Figure size 360x360 with 2 Axes>"
      ]
     },
     "metadata": {
      "needs_background": "light"
     },
     "output_type": "display_data"
    }
   ],
   "source": [
    "# Choose a picture at random\n",
    "idx = randint(0, test_size-1)\n",
    "print(idx)\n",
    "im, label = test_set[idx]\n",
    "org_im = inverse_transform(im)\n",
    "\n",
    "# Send to device, rescale, and view as a batch of 1 \n",
    "im = im.to(device)\n",
    "im = im.view(1,3,32,32)\n",
    "\n",
    "# Feed it to the net and display the confidence scores\n",
    "scores = model(im) \n",
    "probs = F.softmax(scores, dim=1)\n",
    "show_prob_cifar(org_im, label, probs)"
   ]
  },
  {
   "cell_type": "markdown",
   "metadata": {
    "id": "tHfvgHXwbdlP"
   },
   "source": [
    "### Refining the Model\n",
    "\n",
    "Although the vallina model has achieved fair classification results, the test error is still high remaining huge room for further improvement. There are lots of methods to refine your model, such as **modifying the network architecture** (e.g., making your network deeper), **optimizing the learning strategy** (e.g., optimizer, loss function), and **tuning the hyperparameters** (e.g., learning rate, training iterations), etc. Please try at least **TWO** different methods to improve your model's performance, and discuss why these changes can work. Design and conduct your own experiments using the coding cell below, and present your experimental results and analysis in a decent way (e.g., drawing some neat figures/tables can help to convey your thoughts effectively). "
   ]
  },
  {
   "cell_type": "code",
   "execution_count": 14,
   "metadata": {
    "colab": {
     "base_uri": "https://localhost:8080/"
    },
    "id": "zhzViUd6bdlP",
    "outputId": "33ddfca7-7bf1-49b7-d602-931815b8083a"
   },
   "outputs": [
    {
     "name": "stdout",
     "output_type": "stream",
     "text": [
      "epoch= 0 \t time= 0.19 min \t loss= 0.015 \t error= 72.84%\n",
      "error rate on test set = 67.98%\n",
      "epoch= 1 \t time= 0.47 min \t loss= 0.012 \t error= 55.03%\n",
      "error rate on test set = 48.16%\n",
      "epoch= 2 \t time= 0.77 min \t loss= 0.010 \t error= 45.25%\n",
      "error rate on test set = 41.95%\n",
      "epoch= 3 \t time= 1.00 min \t loss= 0.008 \t error= 37.60%\n",
      "error rate on test set = 35.59%\n",
      "epoch= 4 \t time= 1.22 min \t loss= 0.007 \t error= 31.22%\n",
      "error rate on test set = 29.47%\n",
      "epoch= 5 \t time= 1.45 min \t loss= 0.006 \t error= 26.62%\n",
      "error rate on test set = 27.75%\n",
      "epoch= 6 \t time= 1.67 min \t loss= 0.005 \t error= 22.77%\n",
      "error rate on test set = 25.29%\n",
      "epoch= 7 \t time= 1.90 min \t loss= 0.004 \t error= 19.01%\n",
      "error rate on test set = 25.09%\n",
      "epoch= 8 \t time= 2.13 min \t loss= 0.004 \t error= 15.76%\n",
      "error rate on test set = 27.51%\n",
      "epoch= 9 \t time= 2.35 min \t loss= 0.003 \t error= 12.58%\n",
      "error rate on test set = 25.27%\n",
      "epoch= 10 \t time= 2.59 min \t loss= 0.002 \t error= 9.93%\n",
      "error rate on test set = 24.32%\n",
      "epoch= 11 \t time= 2.82 min \t loss= 0.002 \t error= 7.65%\n",
      "error rate on test set = 25.90%\n",
      "epoch= 12 \t time= 3.04 min \t loss= 0.001 \t error= 5.53%\n",
      "error rate on test set = 24.16%\n",
      "epoch= 13 \t time= 3.27 min \t loss= 0.001 \t error= 4.18%\n",
      "error rate on test set = 23.88%\n",
      "epoch= 14 \t time= 3.49 min \t loss= 0.001 \t error= 3.23%\n",
      "error rate on test set = 24.94%\n",
      "epoch= 15 \t time= 3.72 min \t loss= 0.001 \t error= 2.23%\n",
      "error rate on test set = 22.39%\n",
      "epoch= 16 \t time= 3.94 min \t loss= 0.000 \t error= 1.85%\n",
      "error rate on test set = 22.21%\n",
      "epoch= 17 \t time= 4.17 min \t loss= 0.000 \t error= 1.25%\n",
      "error rate on test set = 25.64%\n",
      "epoch= 18 \t time= 4.40 min \t loss= 0.000 \t error= 1.49%\n",
      "error rate on test set = 22.86%\n",
      "epoch= 19 \t time= 4.63 min \t loss= 0.000 \t error= 0.48%\n",
      "error rate on test set = 22.15%\n"
     ]
    }
   ],
   "source": [
    "##############################################################################\n",
    "# TODO: Conduct experiments to refine your model (e.g., modify the backbone, #\n",
    "# alter the learning strategy, and tuning the hyperparameters, etc.).        #\n",
    "##############################################################################\n",
    "\n",
    "# your code\n",
    "\n",
    "# I add the weight_decay to regularize the model and decrease the learning rate\n",
    "epochs = 20\n",
    "model_1 = ConvNet()\n",
    "model_1.to(device)\n",
    "optimizer = optim.SGD(model_1.parameters(), lr=0.1, weight_decay=0.001)\n",
    "train_net(model_1)\n",
    "\n",
    "##############################################################################\n",
    "#                             END OF YOUR CODE                               #\n",
    "##############################################################################"
   ]
  },
  {
   "cell_type": "markdown",
   "metadata": {
    "id": "TXqp21VPbdlP"
   },
   "source": [
    "\n",
    "---\n",
    "\n",
    "**Write your observations and analysis in this Markdown cell:**\n",
    "\n",
    "We can see the original result is overfitting, which error rate on train set is much smaller than it on test set. So we need to prevent the overfitting. I try add the weight_decay to regularize the optimizer and decrease the learning rate. The refined model has a bit improve on test set, the error rate decrease from 23.03% to 22.15%.\n",
    "\n",
    "---"
   ]
  },
  {
   "cell_type": "markdown",
   "metadata": {
    "id": "-dQFsHMr_8ol"
   },
   "source": [
    "## Task 2: Model Interpretation\n",
    "\n",
    "The model is doing well, eating images and predicting results; however, everything that happens inside is opaque and hard to explain. So, how can we interpret how CNN sees and understands when making a decision? \n",
    "\n",
    "In this section, we are going to explore Grad-CAM, a visual explanation algorithm that generates heatmaps indicating where the network is \"looking\" in the forward pass."
   ]
  },
  {
   "cell_type": "markdown",
   "metadata": {
    "id": "5OVTWiiQbdlQ"
   },
   "source": [
    "#### Grad-CAM\n",
    "\n",
    "Gradient-weighted Class Activation Mapping (Grad-CAM) [1], uses the gradients of any target concept, flowing into the final convolutional layer to produce a coarse localization map highlighting important regions in the image for predicting the concept. An overview of the workflow of Grad-CAM is shown below. Please read the paper [1], understand the algorithm, and implement `generate_cam`.\n",
    "\n",
    "<img src=\"./figures/gradcam_network.png\" width=\"800\"/>\n",
    "\n",
    "[1] [Selvaraju, Ramprasaath R., et al. \"Grad-cam: Visual explanations from deep networks via gradient-based localization.\" ICCV 2017.](https://arxiv.org/abs/1610.02391)"
   ]
  },
  {
   "cell_type": "code",
   "execution_count": 15,
   "metadata": {
    "id": "BnjBLivqVb7d"
   },
   "outputs": [],
   "source": [
    "def get_features_hook(self,input,output):\n",
    "    features.append(output.data.cpu().numpy())\n",
    "\n",
    "def get_grads_hook(self,input_grad, output_grad):\n",
    "    gradients.append(output_grad[0].data.cpu().numpy())\n",
    "\n",
    "features  = []"
   ]
  },
  {
   "cell_type": "code",
   "execution_count": 16,
   "metadata": {
    "collapsed": true,
    "id": "SWWrs4ZqbdlQ"
   },
   "outputs": [],
   "source": [
    "gradients = []  # A gloabl variable used to save the gradient\n",
    "def generate_cam(model, input_image, target_layer='conv4a', target_class=None):\n",
    "    \"\"\"\n",
    "    A function to generate Grad-CAM of specific layer and class on an input image using given model.\n",
    "  \n",
    "    Inputs\n",
    "    - model: A PyTorch model.\n",
    "    - input_image: A PyTorch Tensor of shape (1, C, H, W).\n",
    "    - target_layer: A String indicating the name of targeted convolutional layer being visualized (e.g., 'conv4').\n",
    "                    By default, use the last conv layer of the model.\n",
    "    - target_class: An Integer indicating the lable of targeted class being visualized (e.g., 1). \n",
    "                    If None, use the predicted class as target class.\n",
    "    \n",
    "    Returns: A NumPy Array of shape (N, C, H, W) showing the intended heatmap.\n",
    "    \"\"\"\n",
    "\n",
    "    ##############################################################################\n",
    "    # TODO: Given an input image, generate its Grad-CAM on target conv layer     #\n",
    "    # using the backward gradients from a specific class.                        #\n",
    "    # 1. Forward the input image, when you also need to register the gradient    #\n",
    "    # hook so as to get the gradient in backward pass (hint: register_hook).     #\n",
    "    # 2. Backward pass with specified target class, and get gradients.           #\n",
    "    # 3. Average each gradient, multiply with its conv output, and sum together. #\n",
    "    ##############################################################################\n",
    "    \n",
    "    # your code\n",
    "\n",
    "    # register the gradient hook\n",
    "    handle_feat_conv1 = model.conv1.register_forward_hook(get_features_hook) # conv1\n",
    "    handle_grad_conv1 = model.conv1.register_backward_hook(get_grads_hook)\n",
    "    handle_feat_conv2 = model.conv2.register_forward_hook(get_features_hook) # conv2\n",
    "    handle_grad_conv2 = model.conv2.register_backward_hook(get_grads_hook)\n",
    "    handle_feat_conv3 = model.conv3.register_forward_hook(get_features_hook) # conv3\n",
    "    handle_grad_conv3 = model.conv3.register_backward_hook(get_grads_hook)\n",
    "    handle_feat_conv4 = model.conv4.register_forward_hook(get_features_hook) # conv4\n",
    "    handle_grad_conv4 = model.conv4.register_backward_hook(get_grads_hook)\n",
    "    \n",
    "    outputs = model(input_image) \n",
    "    pred_class = torch.argmax(outputs, dim=1)\n",
    "    if isinstance(target_class,int):\n",
    "        pass\n",
    "    else:\n",
    "        target_class = pred_class\n",
    "    outputs[:,target_class].backward()\n",
    "    \n",
    "    target_layer = int(''.join(num for num in target_layer if num.isdigit()))\n",
    "    grad = gradients[4-target_layer]\n",
    "    feat = features[target_layer-1]\n",
    "    _,c,_,_ = feat.shape\n",
    "    for i in range(c):\n",
    "      feat[:, i, :, :] *= grad[:, i, :, :]\n",
    "    cam = torch.mean(torch.from_numpy(feat), dim=1).squeeze().numpy()\n",
    "    \n",
    "    # remove hook\n",
    "    handle_feat_conv1.remove()\n",
    "    handle_grad_conv1.remove()\n",
    "    handle_feat_conv2.remove()\n",
    "    handle_grad_conv2.remove()\n",
    "    handle_feat_conv3.remove()\n",
    "    handle_grad_conv3.remove()\n",
    "    handle_feat_conv4.remove()\n",
    "    handle_grad_conv4.remove()\n",
    "    \n",
    "    ##############################################################################\n",
    "    #                             END OF YOUR CODE                               #\n",
    "    ##############################################################################\n",
    "\n",
    "    # Post processing\n",
    "    cam = np.maximum(cam, 0)\n",
    "    cam = (cam - np.min(cam)) / (np.max(cam) - np.min(cam))  # Normalize between 0-1\n",
    "    cam = np.uint8(cam * 255)  # Scale between 0-255 to visualize\n",
    "    cam = np.uint8(Image.fromarray(cam).resize((input_image.shape[2],\n",
    "                    input_image.shape[3]), Image.ANTIALIAS))\n",
    "\n",
    "    return cam"
   ]
  },
  {
   "cell_type": "code",
   "execution_count": 18,
   "metadata": {
    "colab": {
     "base_uri": "https://localhost:8080/",
     "height": 256
    },
    "id": "J9BRkHalbdlQ",
    "outputId": "36d34e0f-fb5d-41c7-9e20-307be0184558"
   },
   "outputs": [
    {
     "name": "stderr",
     "output_type": "stream",
     "text": [
      "/usr/local/lib/python3.7/dist-packages/torch/nn/modules/module.py:1025: UserWarning: Using a non-full backward hook when the forward contains multiple autograd Nodes is deprecated and will be removed in future versions. This hook will be missing some grad_input. Please use register_full_backward_hook to get the documented behavior.\n",
      "  warnings.warn(\"Using a non-full backward hook when the forward contains multiple autograd Nodes \"\n"
     ]
    },
    {
     "data": {
      "image/png": "[encoded data removed]",
      "text/plain": [
       "<Figure size 432x288 with 2 Axes>"
      ]
     },
     "metadata": {
      "needs_background": "light"
     },
     "output_type": "display_data"
    }
   ],
   "source": [
    "idx = randint(0, test_size-1)\n",
    "im, label = test_set[idx]\n",
    "org_im = inverse_transform(im)\n",
    "\n",
    "im = im.to(device)\n",
    "im = im.view(1,3,32,32)\n",
    "\n",
    "ax = plt.subplot(1, 2, 1)\n",
    "ax.imshow(org_im)\n",
    "ax.set_title('Original Image')\n",
    "ax.set_axis_off()\n",
    "\n",
    "cam = generate_cam(model, im)\n",
    "heatmap, heatmap_on_image = apply_colormap_on_image(org_im, cam, 'hsv')\n",
    "\n",
    "ax = plt.subplot(1, 2, 2)\n",
    "ax.imshow(heatmap_on_image)\n",
    "ax.set_title('Grad-CAM')\n",
    "ax.set_axis_off()"
   ]
  },
  {
   "cell_type": "markdown",
   "metadata": {
    "id": "vcd3je-2bdlQ"
   },
   "source": [
    "### Performing Visual Explanation\n",
    "\n",
    "Now you have successfully built a powerful tool (i.e., Grad-CAM) that can assist you to visualize and understand the CNN models. Try to make full use of `generate_cam` and design at least **TWO** experiments that can further explain how CNN sees and understands the images. For example, apply Grad-CAM on different layers and compare their differences. Please quantitatively show some evidence (e.g., plotting some examplar images clearly and elegantly) with necessary code snippets, write down your observations and briefly explain each. "
   ]
  },
  {
   "cell_type": "code",
   "execution_count": 19,
   "metadata": {
    "colab": {
     "base_uri": "https://localhost:8080/",
     "height": 295
    },
    "id": "aQGNh0PgbdlR",
    "outputId": "cbbbbeb1-2a8a-4ebd-93c0-bc8cd9adbc27"
   },
   "outputs": [
    {
     "name": "stderr",
     "output_type": "stream",
     "text": [
      "/usr/local/lib/python3.7/dist-packages/torch/nn/modules/module.py:1025: UserWarning: Using a non-full backward hook when the forward contains multiple autograd Nodes is deprecated and will be removed in future versions. This hook will be missing some grad_input. Please use register_full_backward_hook to get the documented behavior.\n",
      "  warnings.warn(\"Using a non-full backward hook when the forward contains multiple autograd Nodes \"\n"
     ]
    },
    {
     "data": {
      "image/png": "[encoded data removed]",
      "text/plain": [
       "<Figure size 432x288 with 7 Axes>"
      ]
     },
     "metadata": {
      "needs_background": "light"
     },
     "output_type": "display_data"
    }
   ],
   "source": [
    "##############################################################################\n",
    "# TODO: Write code snippets to present your experiments (hint: if you want   #\n",
    "# to plot multiple images in one single figure, plt.subplot should help).    #\n",
    "##############################################################################\n",
    "\n",
    "# your code\n",
    "\n",
    "# experiment1:try different layers\n",
    "idx = randint(0, test_size-1)\n",
    "im, label = test_set[idx]\n",
    "org_im = inverse_transform(im)\n",
    "\n",
    "im = im.to(device)\n",
    "im = im.view(1,3,32,32)\n",
    "\n",
    "ax = plt.subplot(2, 4, 1)\n",
    "ax.imshow(org_im)\n",
    "ax.set_title('Original Image')\n",
    "ax.set_axis_off()\n",
    "\n",
    "cam = generate_cam(model, im, target_layer='conv1a')\n",
    "heatmap, heatmap_on_image = apply_colormap_on_image(org_im, cam, 'hsv')\n",
    "ax = plt.subplot(2, 4, 2)\n",
    "ax.imshow(heatmap_on_image)\n",
    "ax.set_title('layer1')\n",
    "ax.set_axis_off()\n",
    "\n",
    "cam = generate_cam(model, im, target_layer='conv2a')\n",
    "heatmap, heatmap_on_image = apply_colormap_on_image(org_im, cam, 'hsv')\n",
    "ax = plt.subplot(2, 4, 3)\n",
    "ax.imshow(heatmap_on_image)\n",
    "ax.set_title('layer2')\n",
    "ax.set_axis_off()\n",
    "\n",
    "cam = generate_cam(model, im, target_layer='conv3a')\n",
    "heatmap, heatmap_on_image = apply_colormap_on_image(org_im, cam, 'hsv')\n",
    "ax = plt.subplot(2, 4, 4)\n",
    "ax.imshow(heatmap_on_image)\n",
    "ax.set_title('layer3')\n",
    "ax.set_axis_off()\n",
    "\n",
    "# experiment1:try different target_classes\n",
    "\n",
    "cam = generate_cam(model, im, target_layer='conv2a')\n",
    "heatmap, heatmap_on_image = apply_colormap_on_image(org_im, cam, 'hsv')\n",
    "ax = plt.subplot(2, 4, 5)\n",
    "ax.imshow(heatmap_on_image)\n",
    "ax.set_title('predicted class')\n",
    "ax.set_axis_off()\n",
    "\n",
    "cam = generate_cam(model, im, target_layer='conv2a', target_class=1)\n",
    "heatmap, heatmap_on_image = apply_colormap_on_image(org_im, cam, 'hsv')\n",
    "ax = plt.subplot(2, 4, 6)\n",
    "ax.imshow(heatmap_on_image)\n",
    "ax.set_title('class2')\n",
    "ax.set_axis_off()\n",
    "\n",
    "cam = generate_cam(model, im, target_layer='conv2a', target_class=2)\n",
    "heatmap, heatmap_on_image = apply_colormap_on_image(org_im, cam, 'hsv')\n",
    "ax = plt.subplot(2, 4, 7)\n",
    "ax.imshow(heatmap_on_image)\n",
    "ax.set_title('class3')\n",
    "ax.set_axis_off()\n",
    "\n",
    "##############################################################################\n",
    "#                             END OF YOUR CODE                               #\n",
    "##############################################################################"
   ]
  },
  {
   "cell_type": "markdown",
   "metadata": {
    "id": "V7dYsGC-bdlR"
   },
   "source": [
    "---\n",
    "\n",
    "**Write your observations and analysis in this Markdown cell:**\n",
    "\n",
    "From experiment1, we can see that different layer of CNN has different understands of the images. With the deepening of network layers, the height and width of features become smaller and smaller, Grad-CAM starts as a point of dispersion became a point of concentration. At the same time, feature region of deeper layer is larger, indicating the gradual increase of local receptive field.\n",
    "\n",
    "From experiment2, we can see that different lable of targeted classes being visualized have different understand of focus on images. \n",
    "                    \n",
    "---"
   ]
  },
  {
   "cell_type": "markdown",
   "metadata": {
    "id": "-HdsDUNRBZUO"
   },
   "source": [
    "## Task 3: Adversarial Attack\n",
    "\n",
    "After going through some testing results in Task 1, you might think in most cases the model performs pretty well, predicting the correct classes with high confidence, and rarely making mistakes. However, the network is not as strong as you think. The network can be vulnerable and easily fooled by simply adding some very small distributions on input images. In this section, we are going to attack our previously trained model by generating adversarial images that visually look alike but crush the model without striking a blowing."
   ]
  },
  {
   "cell_type": "markdown",
   "metadata": {
    "id": "Tw9HGnzObdlR"
   },
   "source": [
    "### Adversarial Examples\n",
    "\n",
    "Adversarial examples are specialised inputs created with the purpose of confusing a neural network, resulting in the misclassification of a given input. These examples are usually generated by adding imperceptible non-random perturbations to the image, which are indistinguishable to human eye, but can cause the network to fail to identify the contents of the image. There are many kinds of such attack strategies, here we focus on the **Fast Gradient Sign Method (FGSM)** [2]. FGSM is a white box attack where the attacker has complete access to the model being attacked. The method uses the gradients of the loss with respect to the input image to create a new image that maximises the loss. Below shows a famous exmaple taken from the paper [2], where the classification of image showing \"panda\" is changed to \"gibbon\" after adding an imperceptibly small vector: $\\text{sign}(\\nabla_xJ(\\theta, x, y))$.\n",
    "\n",
    "<img src=\"./figures/adversarial_example.png\" width=\"800\"/>\n",
    "\n",
    "Read the paper [2] for more details, and then implement the following function `generate_adv_image`, which generates \"fooling images\" of target class to attack your network. \n",
    "\n",
    "[2] [Goodfellow, Ian J., Jonathon Shlens, and Christian Szegedy. \"Explaining and harnessing adversarial examples.\" ICLR 2015.](https://arxiv.org/abs/1412.6572)"
   ]
  },
  {
   "cell_type": "code",
   "execution_count": 20,
   "metadata": {
    "collapsed": true,
    "id": "rKDwZXE8bdlS"
   },
   "outputs": [],
   "source": [
    "def generate_adv_image(model, inputs, labels, targets=None, eps=0.07):\n",
    "    \"\"\"\n",
    "    A function to generate adversarial examples.\n",
    "  \n",
    "    Inputs\n",
    "    - model: A PyTorch model.\n",
    "    - inputs: Input images, a PyTorch Tensor of shape (N, C, H, W).\n",
    "    - labels: Ground truth labels of input images, a PyTorch Tensor of shape (N,).\n",
    "    - targets: The target classes you want the model to misclassify, a PyTorch Tensor of shape (N,).\n",
    "    \n",
    "    Returns: The adversarial examples of given images.\n",
    "    \"\"\"\n",
    "\n",
    "\n",
    "    ##############################################################################\n",
    "    # TODO: Implement Fast Gradient Sign Method to generate an adversarial image #\n",
    "    # that fools the model to predict incorrect class.                           #   \n",
    "    # 1. Get the gradients of the loss w.r.t to the input image.                 #\n",
    "    # 2. Get the sign of the gradients to create the perturbation.               #\n",
    "    # 3. Add the perturbation to the input image.                                #\n",
    "    ##############################################################################\n",
    "    \n",
    "    # your code\n",
    "    \n",
    "    if isinstance(labels,int):\n",
    "      labels = torch.LongTensor([labels])\n",
    "    inputs = inputs.to(device)\n",
    "    labels = labels.to(device)\n",
    "    inputs.requires_grad = True\n",
    "            \n",
    "    outputs = model(inputs)\n",
    "    \n",
    "    model.zero_grad()\n",
    "    criterion = torch.nn.CrossEntropyLoss()\n",
    "    loss = criterion(outputs, labels).to(device)\n",
    "    loss.backward()\n",
    "    \n",
    "    adv_inputs = inputs + eps*inputs.grad.sign()\n",
    "    ##############################################################################\n",
    "    #                             END OF YOUR CODE                               #\n",
    "    ##############################################################################\n",
    "\n",
    "    return adv_inputs.detach()"
   ]
  },
  {
   "cell_type": "markdown",
   "metadata": {
    "id": "tmKCJ81bbdlS"
   },
   "source": [
    "### Attacking the Model"
   ]
  },
  {
   "cell_type": "markdown",
   "metadata": {
    "id": "gRoea9LnbdlS"
   },
   "source": [
    "Randomly pick up some images from test set, and attack the model using adversarial examples generated by `generate_adv_image`."
   ]
  },
  {
   "cell_type": "code",
   "execution_count": 21,
   "metadata": {
    "colab": {
     "base_uri": "https://localhost:8080/",
     "height": 658
    },
    "id": "dqKEW_6DbdlS",
    "outputId": "768dcf8e-2a2f-4131-80f5-4bf5394f64a7"
   },
   "outputs": [
    {
     "name": "stdout",
     "output_type": "stream",
     "text": [
      "Before attack:\n"
     ]
    },
    {
     "data": {
      "image/png": "[encoded data removed]",
      "text/plain": [
       "<Figure size 360x360 with 2 Axes>"
      ]
     },
     "metadata": {
      "needs_background": "light"
     },
     "output_type": "display_data"
    },
    {
     "name": "stdout",
     "output_type": "stream",
     "text": [
      "After attack:\n"
     ]
    },
    {
     "data": {
      "image/png": "[encoded data removed]",
      "text/plain": [
       "<Figure size 360x360 with 2 Axes>"
      ]
     },
     "metadata": {
      "needs_background": "light"
     },
     "output_type": "display_data"
    }
   ],
   "source": [
    "idx = randint(0, len(test_set)-1)\n",
    "im, label = test_set[idx]\n",
    "org_im = inverse_transform(im)\n",
    "\n",
    "im = im.to(device)\n",
    "im = im.view(1,3,32,32)\n",
    "\n",
    "print('Before attack:')\n",
    "scores = model(im) \n",
    "probs = F.softmax(scores, dim=1)\n",
    "show_prob_cifar(org_im, label, probs)\n",
    "\n",
    "adv_im = generate_adv_image(model, im, label)\n",
    "\n",
    "print('After attack:')\n",
    "scores = model(adv_im) \n",
    "probs = F.softmax(scores, dim=1)\n",
    "show_prob_cifar(inverse_transform(adv_im[0]), label, probs)"
   ]
  },
  {
   "cell_type": "markdown",
   "metadata": {
    "id": "NoDXqK77bdlT"
   },
   "source": [
    "Run evaluation on the testing set to see how the model performs on the generated adversarial examples, and compare with results before attacks. Try different parameters (e.g., `targets`, `eps`), describe your observations with a brief explanation in the below cell. "
   ]
  },
  {
   "cell_type": "code",
   "execution_count": 22,
   "metadata": {
    "colab": {
     "base_uri": "https://localhost:8080/"
    },
    "id": "5ef5DoIXbdlT",
    "outputId": "5b3b8e89-884c-4e9c-f4dc-e1b030bbe274"
   },
   "outputs": [
    {
     "name": "stdout",
     "output_type": "stream",
     "text": [
      "Eps = 0.007, error rate on test set = 32.73%\n",
      "Eps = 0.010, error rate on test set = 36.75%\n",
      "Eps = 0.070, error rate on test set = 70.92%\n",
      "Eps = 0.100, error rate on test set = 73.85%\n",
      "Eps = 0.700, error rate on test set = 82.92%\n",
      "Eps = 1.000, error rate on test set = 84.29%\n",
      "Eps = 7.000, error rate on test set = 88.92%\n"
     ]
    }
   ],
   "source": [
    "##############################################################################\n",
    "# TODO: Evaluate error rate on adversarial images generated from testing set #\n",
    "# with different parameter settings.                                         #\n",
    "##############################################################################\n",
    "\n",
    "# your code\n",
    "def adversarial_eval_on_test_set(model, eps):\n",
    "  model.eval()\n",
    "  running_error = 0\n",
    "\n",
    "  for data in test_loader:\n",
    "    # Load inputs and labels and deploy to running device\n",
    "    inputs, labels = data\n",
    "    inputs = inputs.to(device)\n",
    "    labels = labels.to(device)\n",
    "    # Forward batch data through the net\n",
    "    adv_im = generate_adv_image(model, inputs, labels, eps=eps)\n",
    "    outputs = model(adv_im)\n",
    "    # Compute the error made on this batch and add it to the running error\n",
    "    batch_error = (outputs.argmax(1) != labels).sum()\n",
    "    running_error = running_error + batch_error\n",
    "\n",
    "  total_error = running_error / test_size\n",
    "  print('Eps = {:.3f}, error rate on test set = {:.2f}%'.format(eps, total_error * 100))\n",
    "\n",
    "for eps in [0.007, 0.01, 0.07, 0.1, 0.7, 1, 7]:\n",
    "  adversarial_eval_on_test_set(model, eps)\n",
    "\n",
    "##############################################################################\n",
    "#                             END OF YOUR CODE                               #\n",
    "##############################################################################"
   ]
  },
  {
   "cell_type": "markdown",
   "metadata": {
    "id": "oh93IzC9bdlT"
   },
   "source": [
    "---\n",
    "\n",
    "**Write your observations and analysis in this Markdown cell:**\n",
    "\n",
    "We can see from the result, with the increasing of eps, the error rate on test set is larger. That's show that because of the eps get larger, attacked images are more distorted, make original model harder to classify.\n",
    "\n",
    "---"
   ]
  }
 ],
 "metadata": {
  "accelerator": "GPU",
  "colab": {
   "collapsed_sections": [],
   "name": "EE5934_Project1.ipynb",
   "provenance": [],
   "toc_visible": true
  },
  "kernelspec": {
   "display_name": "Python 3 (ipykernel)",
   "language": "python",
   "name": "python3"
  },
  "language_info": {
   "codemirror_mode": {
    "name": "ipython",
    "version": 3
   },
   "file_extension": ".py",
   "mimetype": "text/x-python",
   "name": "python",
   "nbconvert_exporter": "python",
   "pygments_lexer": "ipython3",
   "version": "3.9.7"
  }
 },
 "nbformat": 4,
 "nbformat_minor": 1
}
