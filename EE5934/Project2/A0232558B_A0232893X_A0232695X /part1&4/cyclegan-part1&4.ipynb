{
 "cells": [
  {
   "cell_type": "code",
   "execution_count": 1,
   "id": "eed5f0e1",
   "metadata": {
    "_cell_guid": "b1076dfc-b9ad-4769-8c92-a6c4dae69d19",
    "_uuid": "8f2839f25d086af736a60e9eeb907d3b93b6e0e5",
    "execution": {
     "iopub.execute_input": "2022-04-22T12:22:27.911918Z",
     "iopub.status.busy": "2022-04-22T12:22:27.911057Z",
     "iopub.status.idle": "2022-04-22T12:22:32.862360Z",
     "shell.execute_reply": "2022-04-22T12:22:32.862936Z",
     "shell.execute_reply.started": "2022-04-17T15:43:16.608124Z"
    },
    "papermill": {
     "duration": 4.983299,
     "end_time": "2022-04-22T12:22:32.863271",
     "exception": false,
     "start_time": "2022-04-22T12:22:27.879972",
     "status": "completed"
    },
    "tags": []
   },
   "outputs": [
    {
     "name": "stdout",
     "output_type": "stream",
     "text": [
      "Please provide a TPU Name to connect to.\n"
     ]
    }
   ],
   "source": [
    "# This Python 3 environment comes with many helpful analytics libraries installed\n",
    "# It is defined by the kaggle/python Docker image: https://github.com/kaggle/docker-python\n",
    "# For example, here's several helpful packages to load\n",
    "import numpy as np # linear algebra\n",
    "import pandas as pd # data processing, CSV file I/O (e.g. pd.read_csv)\n",
    "import random\n",
    "from kaggle_datasets import KaggleDatasets\n",
    "import matplotlib.pyplot as plt\n",
    "from tqdm import tqdm\n",
    "import tensorflow as tf\n",
    "from tensorflow import keras\n",
    "from tensorflow.keras import layers\n",
    "import tensorflow_addons as tfa\n",
    "# Input data files are available in the read-only \"../input/\" directory\n",
    "# For example, running this (by clicking run or pressing Shift+Enter) will list all files under the input directory\n",
    "import os\n",
    "#for dirname, _, filenames in os.walk('/kaggle/input'):\n",
    "#    for filename in filenames:\n",
    "#        print(os.path.join(dirname, filename))\n",
    "try:\n",
    "    tpu = tf.distribute.cluster_resolver.TPUClusterResolver()\n",
    "    print('Device:', tpu.master())\n",
    "    tf.config.experimental_connect_to_cluster(tpu)\n",
    "    tf.tpu.experimental.initialize_tpu_system(tpu)\n",
    "    strategy = tf.distribute.experimental.TPUStrategy(tpu)\n",
    "except Exception as e:\n",
    "    print(e)\n",
    "    strategy = tf.distribute.get_strategy()\n",
    "AUTOTUNE = tf.data.experimental.AUTOTUNE\n",
    "# You can write up to 20GB to the current directory (/kaggle/working/) that gets preserved as output when you create a version using \"Save & Run All\" \n",
    "# You can also write temporary files to /kaggle/temp/, but they won't be saved outside of the current session"
   ]
  },
  {
   "cell_type": "markdown",
   "id": "7ac90c24",
   "metadata": {
    "papermill": {
     "duration": 0.018385,
     "end_time": "2022-04-22T12:22:32.901196",
     "exception": false,
     "start_time": "2022-04-22T12:22:32.882811",
     "status": "completed"
    },
    "tags": []
   },
   "source": [
    "# Load the data\n",
    "\n",
    "First, let's load in the filenames of the TFRecords."
   ]
  },
  {
   "cell_type": "code",
   "execution_count": 2,
   "id": "f1df3c73",
   "metadata": {
    "execution": {
     "iopub.execute_input": "2022-04-22T12:22:32.949187Z",
     "iopub.status.busy": "2022-04-22T12:22:32.948597Z",
     "iopub.status.idle": "2022-04-22T12:22:34.033316Z",
     "shell.execute_reply": "2022-04-22T12:22:34.032800Z",
     "shell.execute_reply.started": "2022-04-17T15:43:32.084633Z"
    },
    "papermill": {
     "duration": 1.114328,
     "end_time": "2022-04-22T12:22:34.033466",
     "exception": false,
     "start_time": "2022-04-22T12:22:32.919138",
     "status": "completed"
    },
    "tags": []
   },
   "outputs": [],
   "source": [
    "# run in kaggle\n",
    "GCS_PATH =  KaggleDatasets().get_gcs_path()\n",
    "# GCS_PATH = './dataset'\n",
    "\n",
    "# load monet images\n",
    "MONET_FILENAMES = tf.io.gfile.glob(str(GCS_PATH + '/monet_tfrec/*.tfrec'))\n",
    "# load photo images\n",
    "PHOTO_FILENAMES = tf.io.gfile.glob(str(GCS_PATH + '/photo_tfrec/*.tfrec'))"
   ]
  },
  {
   "cell_type": "markdown",
   "id": "bb1e7287",
   "metadata": {
    "papermill": {
     "duration": 0.017528,
     "end_time": "2022-04-22T12:22:34.069352",
     "exception": false,
     "start_time": "2022-04-22T12:22:34.051824",
     "status": "completed"
    },
    "tags": []
   },
   "source": [
    "# Set hyperparameters\n",
    "\n",
    "epoches, batch_size, image_size"
   ]
  },
  {
   "cell_type": "code",
   "execution_count": 3,
   "id": "d07eac7e",
   "metadata": {
    "execution": {
     "iopub.execute_input": "2022-04-22T12:22:34.110423Z",
     "iopub.status.busy": "2022-04-22T12:22:34.109702Z",
     "iopub.status.idle": "2022-04-22T12:22:34.112528Z",
     "shell.execute_reply": "2022-04-22T12:22:34.112111Z",
     "shell.execute_reply.started": "2022-04-17T15:43:37.275208Z"
    },
    "papermill": {
     "duration": 0.025473,
     "end_time": "2022-04-22T12:22:34.112635",
     "exception": false,
     "start_time": "2022-04-22T12:22:34.087162",
     "status": "completed"
    },
    "tags": []
   },
   "outputs": [],
   "source": [
    "epochs = 50\n",
    "BATCH_SIZE = 16\n",
    "SIZE = [256, 256]\n",
    "# Weights initializer for the layers.\n",
    "kernel_init = keras.initializers.RandomNormal(mean=0.0, stddev=0.02)\n",
    "# Gamma initializer for instance normalization.\n",
    "gamma_init = keras.initializers.RandomNormal(mean=0.0, stddev=0.02)"
   ]
  },
  {
   "cell_type": "markdown",
   "id": "d87deccb",
   "metadata": {
    "papermill": {
     "duration": 0.019086,
     "end_time": "2022-04-22T12:22:34.149803",
     "exception": false,
     "start_time": "2022-04-22T12:22:34.130717",
     "status": "completed"
    },
    "tags": []
   },
   "source": [
    "# Decode files\n",
    "Images have been sized to 256x256. The channel for RGB images is 3. Besides, scale the images to a [-1, 1] scale. Throw away the labels."
   ]
  },
  {
   "cell_type": "code",
   "execution_count": 4,
   "id": "e285bcb2",
   "metadata": {
    "execution": {
     "iopub.execute_input": "2022-04-22T12:22:34.193717Z",
     "iopub.status.busy": "2022-04-22T12:22:34.192987Z",
     "iopub.status.idle": "2022-04-22T12:22:34.195351Z",
     "shell.execute_reply": "2022-04-22T12:22:34.195719Z",
     "shell.execute_reply.started": "2022-04-17T15:43:39.140246Z"
    },
    "papermill": {
     "duration": 0.027232,
     "end_time": "2022-04-22T12:22:34.195833",
     "exception": false,
     "start_time": "2022-04-22T12:22:34.168601",
     "status": "completed"
    },
    "tags": []
   },
   "outputs": [],
   "source": [
    "def decode(data):\n",
    "    image = tf.image.decode_jpeg(data, channels=3,ratio=1,\n",
    "                                 fancy_upscaling=True,\n",
    "                                 try_recover_truncated=False,\n",
    "                                 acceptable_fraction=1)\n",
    "    image = (tf.cast(image, tf.float32) / 127.5) - 1\n",
    "    return tf.reshape(image, [*SIZE, 3])\n",
    "\n",
    "def read_tfrecord(data):\n",
    "    tfrecord_format = {\n",
    "        \"image_name\": tf.io.FixedLenFeature([], tf.string),\n",
    "        \"image\": tf.io.FixedLenFeature([], tf.string),\n",
    "        \"target\": tf.io.FixedLenFeature([], tf.string)\n",
    "    }\n",
    "    example = tf.io.parse_single_example(data, tfrecord_format)\n",
    "    return decode(example['image'])"
   ]
  },
  {
   "cell_type": "markdown",
   "id": "5c122349",
   "metadata": {
    "papermill": {
     "duration": 0.017716,
     "end_time": "2022-04-22T12:22:34.231963",
     "exception": false,
     "start_time": "2022-04-22T12:22:34.214247",
     "status": "completed"
    },
    "tags": []
   },
   "source": [
    "# Load own dataset\n",
    "Extract images from files and load in our own dataset. \n",
    "\n",
    "Do data augmentation (crop,mirror,rotate,transpose) as in https://www.tensorflow.org/tutorials/images/data_augmentation. \n",
    "\n",
    "Visualize some samples."
   ]
  },
  {
   "cell_type": "code",
   "execution_count": 5,
   "id": "da55d359",
   "metadata": {
    "execution": {
     "iopub.execute_input": "2022-04-22T12:22:34.277372Z",
     "iopub.status.busy": "2022-04-22T12:22:34.276680Z",
     "iopub.status.idle": "2022-04-22T12:22:34.279278Z",
     "shell.execute_reply": "2022-04-22T12:22:34.278873Z",
     "shell.execute_reply.started": "2022-04-17T15:44:20.649051Z"
    },
    "papermill": {
     "duration": 0.028739,
     "end_time": "2022-04-22T12:22:34.279379",
     "exception": false,
     "start_time": "2022-04-22T12:22:34.250640",
     "status": "completed"
    },
    "tags": []
   },
   "outputs": [],
   "source": [
    "def mirror(image):\n",
    "    image = tf.image.random_flip_left_right(image)\n",
    "    return image\n",
    "\n",
    "def crop(image):\n",
    "    image = tf.image.resize(image,[286,286])\n",
    "    image = tf.image.random_crop(image, size = [256,256,3])\n",
    "    return image\n",
    "\n",
    "def transpose(image):\n",
    "    image = tf.image.transpose(image)\n",
    "    return image\n",
    "\n",
    "def augment_image(image):\n",
    "    num = random.randint(1,3)\n",
    "    if num == 1:\n",
    "        return mirror(image)\n",
    "    elif num == 2:\n",
    "        return crop(image)\n",
    "    else:\n",
    "        return transpose(image)\n",
    "\n",
    "def load_dataset(filenames, labeled=True, ordered=False):\n",
    "    dataset = tf.data.TFRecordDataset(filenames)\n",
    "    dataset = dataset.map(read_tfrecord, num_parallel_calls=AUTOTUNE)\n",
    "    dataset = dataset.map(augment_image, num_parallel_calls=AUTOTUNE)\n",
    "    dataset = dataset.repeat(count = 2)\n",
    "    return dataset\n",
    "\n",
    "def loadtrue_dataset(filenames, labeled=True, ordered=False):\n",
    "    dataset = tf.data.TFRecordDataset(filenames)\n",
    "    dataset = dataset.map(read_tfrecord, num_parallel_calls=AUTOTUNE)\n",
    "    return dataset"
   ]
  },
  {
   "cell_type": "code",
   "execution_count": 6,
   "id": "95aa629b",
   "metadata": {
    "execution": {
     "iopub.execute_input": "2022-04-22T12:22:34.468237Z",
     "iopub.status.busy": "2022-04-22T12:22:34.466540Z",
     "iopub.status.idle": "2022-04-22T12:22:36.941387Z",
     "shell.execute_reply": "2022-04-22T12:22:36.942055Z",
     "shell.execute_reply.started": "2022-04-17T15:44:22.814307Z"
    },
    "papermill": {
     "duration": 2.644779,
     "end_time": "2022-04-22T12:22:36.942298",
     "exception": false,
     "start_time": "2022-04-22T12:22:34.297519",
     "status": "completed"
    },
    "tags": []
   },
   "outputs": [],
   "source": [
    "monet = load_dataset(MONET_FILENAMES, labeled=True).batch(1)\n",
    "photo = load_dataset(PHOTO_FILENAMES, labeled=True).batch(1)\n",
    "photo_test = loadtrue_dataset(PHOTO_FILENAMES, labeled=True).batch(1)"
   ]
  },
  {
   "cell_type": "code",
   "execution_count": 7,
   "id": "13b5ae3f",
   "metadata": {
    "execution": {
     "iopub.execute_input": "2022-04-22T12:22:36.983335Z",
     "iopub.status.busy": "2022-04-22T12:22:36.982472Z",
     "iopub.status.idle": "2022-04-22T12:22:36.984957Z",
     "shell.execute_reply": "2022-04-22T12:22:36.984542Z",
     "shell.execute_reply.started": "2022-04-17T15:44:27.105786Z"
    },
    "papermill": {
     "duration": 0.024592,
     "end_time": "2022-04-22T12:22:36.985082",
     "exception": false,
     "start_time": "2022-04-22T12:22:36.960490",
     "status": "completed"
    },
    "tags": []
   },
   "outputs": [],
   "source": [
    "dataset = tf.data.Dataset.zip((monet, photo))"
   ]
  },
  {
   "cell_type": "markdown",
   "id": "b9cf06bb",
   "metadata": {
    "papermill": {
     "duration": 0.017974,
     "end_time": "2022-04-22T12:22:37.020579",
     "exception": false,
     "start_time": "2022-04-22T12:22:37.002605",
     "status": "completed"
    },
    "tags": []
   },
   "source": [
    "# Build the generator\n",
    "\n",
    "To build our generator, let's first define our `downsample` and `upsample` methods."
   ]
  },
  {
   "cell_type": "code",
   "execution_count": 8,
   "id": "d0ae04ed",
   "metadata": {
    "execution": {
     "iopub.execute_input": "2022-04-22T12:22:37.064995Z",
     "iopub.status.busy": "2022-04-22T12:22:37.064137Z",
     "iopub.status.idle": "2022-04-22T12:22:37.066847Z",
     "shell.execute_reply": "2022-04-22T12:22:37.066423Z",
     "shell.execute_reply.started": "2022-04-17T15:44:28.976975Z"
    },
    "papermill": {
     "duration": 0.028161,
     "end_time": "2022-04-22T12:22:37.066969",
     "exception": false,
     "start_time": "2022-04-22T12:22:37.038808",
     "status": "completed"
    },
    "tags": []
   },
   "outputs": [],
   "source": [
    "def downsample(filters, size, apply_instancenorm=True):\n",
    "    result = keras.Sequential()\n",
    "    result.add(layers.Conv2D(filters, size, strides=2, padding='same',\n",
    "                             kernel_initializer=kernel_init, use_bias=False))\n",
    "    if apply_instancenorm:\n",
    "        result.add(tfa.layers.InstanceNormalization(gamma_initializer=gamma_init))\n",
    "    result.add(layers.LeakyReLU())\n",
    "    return result\n",
    "\n",
    "def upsample(filters, size, apply_dropout=False):\n",
    "    result = keras.Sequential()\n",
    "    result.add(layers.Conv2DTranspose(filters, size, strides=2,padding='same',\n",
    "                                      kernel_initializer=kernel_init,use_bias=False))\n",
    "    result.add(tfa.layers.InstanceNormalization(gamma_initializer=gamma_init))\n",
    "    if apply_dropout:\n",
    "        result.add(layers.Dropout(0.4))\n",
    "    result.add(layers.ReLU())\n",
    "    return result"
   ]
  },
  {
   "cell_type": "markdown",
   "id": "94404135",
   "metadata": {
    "papermill": {
     "duration": 0.017538,
     "end_time": "2022-04-22T12:22:37.102802",
     "exception": false,
     "start_time": "2022-04-22T12:22:37.085264",
     "status": "completed"
    },
    "tags": []
   },
   "source": [
    "Build a generator."
   ]
  },
  {
   "cell_type": "code",
   "execution_count": 9,
   "id": "35d04d15",
   "metadata": {
    "execution": {
     "iopub.execute_input": "2022-04-22T12:22:37.147474Z",
     "iopub.status.busy": "2022-04-22T12:22:37.146746Z",
     "iopub.status.idle": "2022-04-22T12:22:37.149036Z",
     "shell.execute_reply": "2022-04-22T12:22:37.149443Z",
     "shell.execute_reply.started": "2022-04-17T15:44:30.854015Z"
    },
    "papermill": {
     "duration": 0.028979,
     "end_time": "2022-04-22T12:22:37.149581",
     "exception": false,
     "start_time": "2022-04-22T12:22:37.120602",
     "status": "completed"
    },
    "tags": []
   },
   "outputs": [],
   "source": [
    "def Generator():\n",
    "    \n",
    "    filters = 64\n",
    "    inputs = layers.Input(shape=[256,256,3])\n",
    "    x = inputs\n",
    "    \n",
    "    # Downsampling through the model\n",
    "    skips = []\n",
    "    x = downsample(64, 4, apply_instancenorm=False)(x)\n",
    "    skips.append(x)\n",
    "    for i in range(7):\n",
    "        if i <= 2:\n",
    "            filters *= 2\n",
    "        x = downsample(filters, 4)(x)\n",
    "        skips.append(x)\n",
    "        \n",
    "    # Upsampling\n",
    "    skips = reversed(skips[:-1])\n",
    "    i = 0\n",
    "    for skip in skips:\n",
    "        if i <= 2:\n",
    "            x = upsample(filters, 4, apply_dropout=True)(x)\n",
    "        else:\n",
    "            if i > 3:\n",
    "                filters //= 2\n",
    "            x = upsample(filters, 4)(x)\n",
    "        x = layers.Concatenate()([x, skip])\n",
    "        i += 1\n",
    "\n",
    "    last = layers.Conv2DTranspose(3, 4,\n",
    "                                  strides=2,\n",
    "                                  padding='same',\n",
    "                                  kernel_initializer=kernel_init,\n",
    "                                  activation='tanh') \n",
    "    return keras.Model(inputs=inputs, outputs=last(x))"
   ]
  },
  {
   "cell_type": "code",
   "execution_count": 10,
   "id": "422c4eee",
   "metadata": {
    "execution": {
     "iopub.execute_input": "2022-04-22T12:22:37.192824Z",
     "iopub.status.busy": "2022-04-22T12:22:37.192086Z",
     "iopub.status.idle": "2022-04-22T12:22:37.194904Z",
     "shell.execute_reply": "2022-04-22T12:22:37.194457Z",
     "shell.execute_reply.started": "2022-04-17T15:44:32.715125Z"
    },
    "papermill": {
     "duration": 0.027434,
     "end_time": "2022-04-22T12:22:37.195032",
     "exception": false,
     "start_time": "2022-04-22T12:22:37.167598",
     "status": "completed"
    },
    "tags": []
   },
   "outputs": [],
   "source": [
    "def Discriminator():\n",
    "    \n",
    "    filters = 64\n",
    "    inputs = layers.Input(shape=[256, 256, 3], name='input_image')\n",
    "    x = inputs\n",
    "    for i in range(3):\n",
    "        if i == 0:\n",
    "            x = downsample(filters, 4, False)(x)\n",
    "        else:\n",
    "            filters *= 2\n",
    "            x = downsample(filters, 4)(x)\n",
    "    conv = layers.Conv2D(filters*2, 4, strides=1,\n",
    "                         kernel_initializer=kernel_init,\n",
    "                         use_bias=False)(layers.ZeroPadding2D()(x))\n",
    "\n",
    "    layer1 = layers.LeakyReLU()(tfa.layers.InstanceNormalization(gamma_initializer=gamma_init)(conv))\n",
    "    last = layers.Conv2D(1, 4, strides=1,\n",
    "                         kernel_initializer=kernel_init)(layers.ZeroPadding2D()(layer1))\n",
    "    return tf.keras.Model(inputs=inputs, outputs=last)"
   ]
  },
  {
   "cell_type": "code",
   "execution_count": 11,
   "id": "e3874457",
   "metadata": {
    "execution": {
     "iopub.execute_input": "2022-04-22T12:22:37.234646Z",
     "iopub.status.busy": "2022-04-22T12:22:37.234023Z",
     "iopub.status.idle": "2022-04-22T12:22:39.974928Z",
     "shell.execute_reply": "2022-04-22T12:22:39.974095Z",
     "shell.execute_reply.started": "2022-04-17T15:44:34.906308Z"
    },
    "papermill": {
     "duration": 2.762332,
     "end_time": "2022-04-22T12:22:39.975093",
     "exception": false,
     "start_time": "2022-04-22T12:22:37.212761",
     "status": "completed"
    },
    "tags": []
   },
   "outputs": [],
   "source": [
    "with strategy.scope():\n",
    "    Mt_generator = Generator() # transforms photos to Monet paintings\n",
    "    Pt_generator = Generator() # transforms Monet paintings to be like photos\n",
    "    Mt_discriminator = Discriminator() # differentiates real Monet paintings and generated Monet paintings\n",
    "    Pt_discriminator = Discriminator() # differentiates real photos and generated photos"
   ]
  },
  {
   "cell_type": "markdown",
   "id": "a9710c88",
   "metadata": {
    "papermill": {
     "duration": 0.017505,
     "end_time": "2022-04-22T12:22:40.011228",
     "exception": false,
     "start_time": "2022-04-22T12:22:39.993723",
     "status": "completed"
    },
    "tags": []
   },
   "source": [
    "# Build CycleGAN model\n",
    "\n",
    "During the training step, the model transforms a photo to a Monet painting and then back to a photo. The difference between the original photo and the twice-transformed photo is the cycle-consistency loss. \n",
    "The losses are defined in the next section."
   ]
  },
  {
   "cell_type": "code",
   "execution_count": 12,
   "id": "fd57d918",
   "metadata": {
    "execution": {
     "iopub.execute_input": "2022-04-22T12:22:40.050274Z",
     "iopub.status.busy": "2022-04-22T12:22:40.049381Z",
     "iopub.status.idle": "2022-04-22T12:22:40.065320Z",
     "shell.execute_reply": "2022-04-22T12:22:40.064809Z",
     "shell.execute_reply.started": "2022-04-17T15:44:41.156927Z"
    },
    "papermill": {
     "duration": 0.036519,
     "end_time": "2022-04-22T12:22:40.065447",
     "exception": false,
     "start_time": "2022-04-22T12:22:40.028928",
     "status": "completed"
    },
    "tags": []
   },
   "outputs": [],
   "source": [
    "class CycleGan(keras.Model):\n",
    "    def __init__(\n",
    "        self,\n",
    "        Mt_generator,\n",
    "        Pt_generator,\n",
    "        Mt_discriminator,\n",
    "        Pt_discriminator,\n",
    "        lambda_cycle=10,\n",
    "    ):\n",
    "        super(CycleGan, self).__init__()\n",
    "        self.m_gen = Mt_generator\n",
    "        self.p_gen = Pt_generator\n",
    "        self.m_disc = Mt_discriminator\n",
    "        self.p_disc = Pt_discriminator\n",
    "        self.lambda_cycle = lambda_cycle\n",
    "        \n",
    "    def compile(\n",
    "        self,\n",
    "        m_gen_optimizer,\n",
    "        p_gen_optimizer,\n",
    "        m_disc_optimizer,\n",
    "        p_disc_optimizer,\n",
    "        gen_loss_fn,\n",
    "        disc_loss_fn,\n",
    "        cycle_loss_fn,\n",
    "        identity_loss_fn\n",
    "    ):\n",
    "        super(CycleGan, self).compile()\n",
    "        self.m_gen_optimizer = m_gen_optimizer\n",
    "        self.p_gen_optimizer = p_gen_optimizer\n",
    "        self.m_disc_optimizer = m_disc_optimizer\n",
    "        self.p_disc_optimizer = p_disc_optimizer\n",
    "        self.gen_loss_fn = gen_loss_fn\n",
    "        self.disc_loss_fn = disc_loss_fn\n",
    "        self.cycle_loss_fn = cycle_loss_fn\n",
    "        self.identity_loss_fn = identity_loss_fn\n",
    "        \n",
    "    def train_step(self, batch_data):\n",
    "        real_monet, real_photo = batch_data\n",
    "        \n",
    "        with tf.GradientTape(persistent=True) as tape:\n",
    "            # photo to monet\n",
    "            fake_monet = self.m_gen(real_photo, training=True)\n",
    "            # monet back to photo\n",
    "            cycled_photo = self.p_gen(fake_monet, training=True)\n",
    "\n",
    "            # monet to photo\n",
    "            fake_photo = self.p_gen(real_monet, training=True)\n",
    "            # photo back to monet\n",
    "            cycled_monet = self.m_gen(fake_photo, training=True)\n",
    "\n",
    "            # generating itself\n",
    "            same_monet = self.m_gen(real_monet, training=True)\n",
    "            same_photo = self.p_gen(real_photo, training=True)\n",
    "\n",
    "            # discriminator\n",
    "            disc_real_monet = self.m_disc(real_monet, training=True)\n",
    "            disc_real_photo = self.p_disc(real_photo, training=True)\n",
    "\n",
    "            disc_fake_monet = self.m_disc(fake_monet, training=True)\n",
    "            disc_fake_photo = self.p_disc(fake_photo, training=True)\n",
    "\n",
    "            # generator loss\n",
    "            monet_gen_loss = self.gen_loss_fn(disc_fake_monet)\n",
    "            photo_gen_loss = self.gen_loss_fn(disc_fake_photo)\n",
    "\n",
    "            # cycle loss\n",
    "            total_cycle_loss = self.cycle_loss_fn(real_monet, cycled_monet, self.lambda_cycle) + self.cycle_loss_fn(real_photo, cycled_photo, self.lambda_cycle)\n",
    "\n",
    "            # total generator loss\n",
    "            total_monet_gen_loss = monet_gen_loss + total_cycle_loss + self.identity_loss_fn(real_monet, same_monet, self.lambda_cycle)\n",
    "            total_photo_gen_loss = photo_gen_loss + total_cycle_loss + self.identity_loss_fn(real_photo, same_photo, self.lambda_cycle)\n",
    "\n",
    "            # discriminator loss\n",
    "            monet_disc_loss = self.disc_loss_fn(disc_real_monet, disc_fake_monet)\n",
    "            photo_disc_loss = self.disc_loss_fn(disc_real_photo, disc_fake_photo)\n",
    "\n",
    "        # gradients for generator and discriminator\n",
    "        monet_generator_gradients = tape.gradient(total_monet_gen_loss,\n",
    "                                                  self.m_gen.trainable_variables)\n",
    "        photo_generator_gradients = tape.gradient(total_photo_gen_loss,\n",
    "                                                  self.p_gen.trainable_variables)\n",
    "\n",
    "        monet_discriminator_gradients = tape.gradient(monet_disc_loss,\n",
    "                                                      self.m_disc.trainable_variables)\n",
    "        photo_discriminator_gradients = tape.gradient(photo_disc_loss,\n",
    "                                                      self.p_disc.trainable_variables)\n",
    "\n",
    "        # Apply the gradients to the optimizer\n",
    "        self.m_gen_optimizer.apply_gradients(zip(monet_generator_gradients,\n",
    "                                                 self.m_gen.trainable_variables))\n",
    "\n",
    "        self.p_gen_optimizer.apply_gradients(zip(photo_generator_gradients,\n",
    "                                                 self.p_gen.trainable_variables))\n",
    "\n",
    "        self.m_disc_optimizer.apply_gradients(zip(monet_discriminator_gradients,\n",
    "                                                  self.m_disc.trainable_variables))\n",
    "\n",
    "        self.p_disc_optimizer.apply_gradients(zip(photo_discriminator_gradients,\n",
    "                                                  self.p_disc.trainable_variables))\n",
    "        \n",
    "        return {\n",
    "            \"monet_gen_loss\": total_monet_gen_loss,\n",
    "            \"photo_gen_loss\": total_photo_gen_loss,\n",
    "            \"monet_disc_loss\": monet_disc_loss,\n",
    "            \"photo_disc_loss\": photo_disc_loss\n",
    "        }"
   ]
  },
  {
   "cell_type": "markdown",
   "id": "7343bfa8",
   "metadata": {
    "papermill": {
     "duration": 0.017778,
     "end_time": "2022-04-22T12:22:40.100893",
     "exception": false,
     "start_time": "2022-04-22T12:22:40.083115",
     "status": "completed"
    },
    "tags": []
   },
   "source": [
    "# Define loss functions"
   ]
  },
  {
   "cell_type": "markdown",
   "id": "6890806a",
   "metadata": {
    "papermill": {
     "duration": 0.017406,
     "end_time": "2022-04-22T12:22:40.136287",
     "exception": false,
     "start_time": "2022-04-22T12:22:40.118881",
     "status": "completed"
    },
    "tags": []
   },
   "source": [
    "The perfect discriminator will output all 1s for real images and all 0s for fake images. The discriminator loss outputs the average of the real and generated loss.\n",
    "\n",
    "The perfect generator will have the discriminator output only 1s. Thus, it compares the generated image to a matrix of 1s to find the loss."
   ]
  },
  {
   "cell_type": "code",
   "execution_count": 13,
   "id": "9e79a681",
   "metadata": {
    "execution": {
     "iopub.execute_input": "2022-04-22T12:22:40.178133Z",
     "iopub.status.busy": "2022-04-22T12:22:40.177470Z",
     "iopub.status.idle": "2022-04-22T12:22:40.180236Z",
     "shell.execute_reply": "2022-04-22T12:22:40.179809Z"
    },
    "papermill": {
     "duration": 0.026058,
     "end_time": "2022-04-22T12:22:40.180342",
     "exception": false,
     "start_time": "2022-04-22T12:22:40.154284",
     "status": "completed"
    },
    "tags": []
   },
   "outputs": [],
   "source": [
    "# define the discriminator loss\n",
    "with strategy.scope():\n",
    "    def discriminator_loss(real, generated):\n",
    "        real_loss = tf.keras.losses.BinaryCrossentropy(from_logits=True, reduction=tf.keras.losses.Reduction.NONE)(tf.ones_like(real), real)\n",
    "        generated_loss = tf.keras.losses.BinaryCrossentropy(from_logits=True, reduction=tf.keras.losses.Reduction.NONE)(tf.zeros_like(generated), generated)\n",
    "        return (real_loss + generated_loss) * 0.5\n",
    "# define the generator loss\n",
    "with strategy.scope():\n",
    "    def generator_loss(generated):\n",
    "        return tf.keras.losses.BinaryCrossentropy(from_logits=True, reduction=tf.keras.losses.Reduction.NONE)(tf.ones_like(generated), generated)"
   ]
  },
  {
   "cell_type": "markdown",
   "id": "e62fb1cc",
   "metadata": {
    "papermill": {
     "duration": 0.017961,
     "end_time": "2022-04-22T12:22:40.216174",
     "exception": false,
     "start_time": "2022-04-22T12:22:40.198213",
     "status": "completed"
    },
    "tags": []
   },
   "source": [
    "Want original photo and the transformed-back photo to be as similar as possible. Cycle consistency loss can be find the average difference among them."
   ]
  },
  {
   "cell_type": "code",
   "execution_count": 14,
   "id": "0203ea63",
   "metadata": {
    "execution": {
     "iopub.execute_input": "2022-04-22T12:22:40.258075Z",
     "iopub.status.busy": "2022-04-22T12:22:40.257123Z",
     "iopub.status.idle": "2022-04-22T12:22:40.259745Z",
     "shell.execute_reply": "2022-04-22T12:22:40.259337Z"
    },
    "papermill": {
     "duration": 0.025717,
     "end_time": "2022-04-22T12:22:40.259863",
     "exception": false,
     "start_time": "2022-04-22T12:22:40.234146",
     "status": "completed"
    },
    "tags": []
   },
   "outputs": [],
   "source": [
    "with strategy.scope():\n",
    "    def calc_cycle_loss(real_image, cycled_image, LAMBDA):\n",
    "        return LAMBDA * tf.reduce_mean(tf.abs(real_image - cycled_image))"
   ]
  },
  {
   "cell_type": "markdown",
   "id": "0f6987a0",
   "metadata": {
    "papermill": {
     "duration": 0.017992,
     "end_time": "2022-04-22T12:22:40.296213",
     "exception": false,
     "start_time": "2022-04-22T12:22:40.278221",
     "status": "completed"
    },
    "tags": []
   },
   "source": [
    "The identity loss compares the input with the output of the generator."
   ]
  },
  {
   "cell_type": "code",
   "execution_count": 15,
   "id": "4fa23e7b",
   "metadata": {
    "execution": {
     "iopub.execute_input": "2022-04-22T12:22:40.337161Z",
     "iopub.status.busy": "2022-04-22T12:22:40.336370Z",
     "iopub.status.idle": "2022-04-22T12:22:40.338709Z",
     "shell.execute_reply": "2022-04-22T12:22:40.339128Z"
    },
    "papermill": {
     "duration": 0.025113,
     "end_time": "2022-04-22T12:22:40.339255",
     "exception": false,
     "start_time": "2022-04-22T12:22:40.314142",
     "status": "completed"
    },
    "tags": []
   },
   "outputs": [],
   "source": [
    "with strategy.scope():\n",
    "    def identity_loss(real_image, same_image, LAMBDA):\n",
    "        return LAMBDA * 0.5 * tf.reduce_mean(tf.abs(real_image - same_image))"
   ]
  },
  {
   "cell_type": "markdown",
   "id": "84004df6",
   "metadata": {
    "papermill": {
     "duration": 0.018367,
     "end_time": "2022-04-22T12:22:40.375663",
     "exception": false,
     "start_time": "2022-04-22T12:22:40.357296",
     "status": "completed"
    },
    "tags": []
   },
   "source": [
    "# Train the CycleGAN\n"
   ]
  },
  {
   "cell_type": "code",
   "execution_count": 16,
   "id": "338c0c09",
   "metadata": {
    "execution": {
     "iopub.execute_input": "2022-04-22T12:22:40.419971Z",
     "iopub.status.busy": "2022-04-22T12:22:40.419183Z",
     "iopub.status.idle": "2022-04-22T14:27:07.831792Z",
     "shell.execute_reply": "2022-04-22T14:27:07.832227Z"
    },
    "papermill": {
     "duration": 7467.438612,
     "end_time": "2022-04-22T14:27:07.832408",
     "exception": false,
     "start_time": "2022-04-22T12:22:40.393796",
     "status": "completed"
    },
    "tags": []
   },
   "outputs": [
    {
     "name": "stdout",
     "output_type": "stream",
     "text": [
      "Epoch 1/50\n",
      "600/600 [==============================] - 195s 246ms/step - monet_gen_loss: 4.2367 - photo_gen_loss: 4.4175 - monet_disc_loss: 0.6382 - photo_disc_loss: 0.6121\n",
      "Epoch 2/50\n",
      "600/600 [==============================] - 148s 245ms/step - monet_gen_loss: 3.2303 - photo_gen_loss: 3.4291 - monet_disc_loss: 0.6460 - photo_disc_loss: 0.6129\n",
      "Epoch 3/50\n",
      "600/600 [==============================] - 148s 246ms/step - monet_gen_loss: 2.9726 - photo_gen_loss: 3.1607 - monet_disc_loss: 0.6304 - photo_disc_loss: 0.6111\n",
      "Epoch 4/50\n",
      "600/600 [==============================] - 148s 245ms/step - monet_gen_loss: 2.8917 - photo_gen_loss: 3.0477 - monet_disc_loss: 0.6250 - photo_disc_loss: 0.6175\n",
      "Epoch 5/50\n",
      "600/600 [==============================] - 148s 246ms/step - monet_gen_loss: 2.8535 - photo_gen_loss: 2.9811 - monet_disc_loss: 0.6179 - photo_disc_loss: 0.6163\n",
      "Epoch 6/50\n",
      "600/600 [==============================] - 148s 245ms/step - monet_gen_loss: 2.7952 - photo_gen_loss: 2.9084 - monet_disc_loss: 0.6176 - photo_disc_loss: 0.6214\n",
      "Epoch 7/50\n",
      "600/600 [==============================] - 148s 246ms/step - monet_gen_loss: 2.7271 - photo_gen_loss: 2.8376 - monet_disc_loss: 0.6197 - photo_disc_loss: 0.6210\n",
      "Epoch 8/50\n",
      "600/600 [==============================] - 148s 246ms/step - monet_gen_loss: 2.6837 - photo_gen_loss: 2.7968 - monet_disc_loss: 0.6200 - photo_disc_loss: 0.6197\n",
      "Epoch 9/50\n",
      "600/600 [==============================] - 148s 246ms/step - monet_gen_loss: 2.6512 - photo_gen_loss: 2.7696 - monet_disc_loss: 0.6211 - photo_disc_loss: 0.6181\n",
      "Epoch 10/50\n",
      "600/600 [==============================] - 147s 245ms/step - monet_gen_loss: 2.6231 - photo_gen_loss: 2.7370 - monet_disc_loss: 0.6254 - photo_disc_loss: 0.6178\n",
      "Epoch 11/50\n",
      "600/600 [==============================] - 147s 245ms/step - monet_gen_loss: 2.5979 - photo_gen_loss: 2.7203 - monet_disc_loss: 0.6297 - photo_disc_loss: 0.6187\n",
      "Epoch 12/50\n",
      "600/600 [==============================] - 147s 245ms/step - monet_gen_loss: 2.5486 - photo_gen_loss: 2.6866 - monet_disc_loss: 0.6351 - photo_disc_loss: 0.6207\n",
      "Epoch 13/50\n",
      "600/600 [==============================] - 147s 245ms/step - monet_gen_loss: 2.5458 - photo_gen_loss: 2.6990 - monet_disc_loss: 0.6352 - photo_disc_loss: 0.6169\n",
      "Epoch 14/50\n",
      "600/600 [==============================] - 148s 246ms/step - monet_gen_loss: 2.5075 - photo_gen_loss: 2.6681 - monet_disc_loss: 0.6418 - photo_disc_loss: 0.6229\n",
      "Epoch 15/50\n",
      "600/600 [==============================] - 148s 246ms/step - monet_gen_loss: 2.4763 - photo_gen_loss: 2.6725 - monet_disc_loss: 0.6434 - photo_disc_loss: 0.6155\n",
      "Epoch 16/50\n",
      "600/600 [==============================] - 148s 246ms/step - monet_gen_loss: 2.4566 - photo_gen_loss: 2.6540 - monet_disc_loss: 0.6441 - photo_disc_loss: 0.6162\n",
      "Epoch 17/50\n",
      "600/600 [==============================] - 149s 247ms/step - monet_gen_loss: 2.4385 - photo_gen_loss: 2.6540 - monet_disc_loss: 0.6489 - photo_disc_loss: 0.6150\n",
      "Epoch 18/50\n",
      "600/600 [==============================] - 148s 246ms/step - monet_gen_loss: 2.4734 - photo_gen_loss: 2.7299 - monet_disc_loss: 0.6451 - photo_disc_loss: 0.5968\n",
      "Epoch 19/50\n",
      "600/600 [==============================] - 149s 247ms/step - monet_gen_loss: 2.4779 - photo_gen_loss: 2.6814 - monet_disc_loss: 0.6434 - photo_disc_loss: 0.6055\n",
      "Epoch 20/50\n",
      "600/600 [==============================] - 149s 247ms/step - monet_gen_loss: 2.5095 - photo_gen_loss: 2.7099 - monet_disc_loss: 0.6388 - photo_disc_loss: 0.5906\n",
      "Epoch 21/50\n",
      "600/600 [==============================] - 148s 246ms/step - monet_gen_loss: 2.4302 - photo_gen_loss: 2.6851 - monet_disc_loss: 0.6441 - photo_disc_loss: 0.5890\n",
      "Epoch 22/50\n",
      "600/600 [==============================] - 149s 247ms/step - monet_gen_loss: 2.5092 - photo_gen_loss: 2.7756 - monet_disc_loss: 0.6327 - photo_disc_loss: 0.5879\n",
      "Epoch 23/50\n",
      "600/600 [==============================] - 149s 247ms/step - monet_gen_loss: 2.4525 - photo_gen_loss: 2.6734 - monet_disc_loss: 0.6413 - photo_disc_loss: 0.5993\n",
      "Epoch 24/50\n",
      "600/600 [==============================] - 149s 247ms/step - monet_gen_loss: 2.4417 - photo_gen_loss: 2.6916 - monet_disc_loss: 0.6421 - photo_disc_loss: 0.5918\n",
      "Epoch 25/50\n",
      "600/600 [==============================] - 148s 246ms/step - monet_gen_loss: 2.3924 - photo_gen_loss: 2.6266 - monet_disc_loss: 0.6485 - photo_disc_loss: 0.5985\n",
      "Epoch 26/50\n",
      "600/600 [==============================] - 148s 246ms/step - monet_gen_loss: 2.4554 - photo_gen_loss: 2.7047 - monet_disc_loss: 0.6413 - photo_disc_loss: 0.5817\n",
      "Epoch 27/50\n",
      "600/600 [==============================] - 148s 246ms/step - monet_gen_loss: 2.4572 - photo_gen_loss: 2.7152 - monet_disc_loss: 0.6333 - photo_disc_loss: 0.5708\n",
      "Epoch 28/50\n",
      "600/600 [==============================] - 148s 246ms/step - monet_gen_loss: 2.4276 - photo_gen_loss: 2.6934 - monet_disc_loss: 0.6411 - photo_disc_loss: 0.5827\n",
      "Epoch 29/50\n",
      "600/600 [==============================] - 148s 246ms/step - monet_gen_loss: 2.4469 - photo_gen_loss: 2.6835 - monet_disc_loss: 0.6405 - photo_disc_loss: 0.5791\n",
      "Epoch 30/50\n",
      "600/600 [==============================] - 148s 246ms/step - monet_gen_loss: 2.4588 - photo_gen_loss: 2.6833 - monet_disc_loss: 0.6279 - photo_disc_loss: 0.5703\n",
      "Epoch 31/50\n",
      "600/600 [==============================] - 148s 246ms/step - monet_gen_loss: 2.5277 - photo_gen_loss: 2.7505 - monet_disc_loss: 0.6212 - photo_disc_loss: 0.5657\n",
      "Epoch 32/50\n",
      "600/600 [==============================] - 149s 247ms/step - monet_gen_loss: 2.4534 - photo_gen_loss: 2.7176 - monet_disc_loss: 0.6337 - photo_disc_loss: 0.5719\n",
      "Epoch 33/50\n",
      "600/600 [==============================] - 149s 247ms/step - monet_gen_loss: 2.4310 - photo_gen_loss: 2.7666 - monet_disc_loss: 0.6383 - photo_disc_loss: 0.5513\n",
      "Epoch 34/50\n",
      "600/600 [==============================] - 148s 247ms/step - monet_gen_loss: 2.4434 - photo_gen_loss: 2.7922 - monet_disc_loss: 0.6382 - photo_disc_loss: 0.5499\n",
      "Epoch 35/50\n",
      "600/600 [==============================] - 148s 247ms/step - monet_gen_loss: 2.4457 - photo_gen_loss: 2.7870 - monet_disc_loss: 0.6348 - photo_disc_loss: 0.5453\n",
      "Epoch 36/50\n",
      "600/600 [==============================] - 149s 247ms/step - monet_gen_loss: 2.4743 - photo_gen_loss: 2.8169 - monet_disc_loss: 0.6347 - photo_disc_loss: 0.5539\n",
      "Epoch 37/50\n",
      "600/600 [==============================] - 148s 247ms/step - monet_gen_loss: 2.4910 - photo_gen_loss: 2.8326 - monet_disc_loss: 0.6218 - photo_disc_loss: 0.5380\n",
      "Epoch 38/50\n",
      "600/600 [==============================] - 149s 247ms/step - monet_gen_loss: 2.5121 - photo_gen_loss: 2.9017 - monet_disc_loss: 0.6277 - photo_disc_loss: 0.5268\n",
      "Epoch 39/50\n",
      "600/600 [==============================] - 149s 247ms/step - monet_gen_loss: 2.5026 - photo_gen_loss: 2.8622 - monet_disc_loss: 0.6296 - photo_disc_loss: 0.5503\n",
      "Epoch 40/50\n",
      "600/600 [==============================] - 149s 247ms/step - monet_gen_loss: 2.4769 - photo_gen_loss: 2.8136 - monet_disc_loss: 0.6280 - photo_disc_loss: 0.5436\n",
      "Epoch 41/50\n",
      "600/600 [==============================] - 149s 247ms/step - monet_gen_loss: 2.5272 - photo_gen_loss: 2.8538 - monet_disc_loss: 0.6112 - photo_disc_loss: 0.5406\n",
      "Epoch 42/50\n",
      "600/600 [==============================] - 149s 247ms/step - monet_gen_loss: 2.5407 - photo_gen_loss: 2.8179 - monet_disc_loss: 0.6199 - photo_disc_loss: 0.5471\n",
      "Epoch 43/50\n",
      "600/600 [==============================] - 149s 247ms/step - monet_gen_loss: 2.5100 - photo_gen_loss: 2.8055 - monet_disc_loss: 0.6195 - photo_disc_loss: 0.5509\n",
      "Epoch 44/50\n",
      "600/600 [==============================] - 149s 248ms/step - monet_gen_loss: 2.5614 - photo_gen_loss: 2.8021 - monet_disc_loss: 0.5967 - photo_disc_loss: 0.5466\n",
      "Epoch 45/50\n",
      "600/600 [==============================] - 149s 247ms/step - monet_gen_loss: 2.5219 - photo_gen_loss: 2.7973 - monet_disc_loss: 0.6210 - photo_disc_loss: 0.5594\n",
      "Epoch 46/50\n",
      "600/600 [==============================] - 149s 248ms/step - monet_gen_loss: 2.5428 - photo_gen_loss: 2.8014 - monet_disc_loss: 0.6109 - photo_disc_loss: 0.5561\n",
      "Epoch 47/50\n",
      "600/600 [==============================] - 149s 247ms/step - monet_gen_loss: 2.4753 - photo_gen_loss: 2.7352 - monet_disc_loss: 0.6200 - photo_disc_loss: 0.5605\n",
      "Epoch 48/50\n",
      "600/600 [==============================] - 149s 247ms/step - monet_gen_loss: 2.5230 - photo_gen_loss: 2.8125 - monet_disc_loss: 0.6112 - photo_disc_loss: 0.5400\n",
      "Epoch 49/50\n",
      "600/600 [==============================] - 149s 247ms/step - monet_gen_loss: 2.5117 - photo_gen_loss: 2.7901 - monet_disc_loss: 0.6149 - photo_disc_loss: 0.5533\n",
      "Epoch 50/50\n",
      "600/600 [==============================] - 149s 248ms/step - monet_gen_loss: 2.5124 - photo_gen_loss: 2.7572 - monet_disc_loss: 0.6062 - photo_disc_loss: 0.5540\n"
     ]
    },
    {
     "data": {
      "text/plain": [
       "<tensorflow.python.keras.callbacks.History at 0x7f8f1388c690>"
      ]
     },
     "execution_count": 16,
     "metadata": {},
     "output_type": "execute_result"
    }
   ],
   "source": [
    "with strategy.scope():\n",
    "    cycle_gan_model = CycleGan(\n",
    "        Mt_generator, Pt_generator, Mt_discriminator, Pt_discriminator\n",
    "    )\n",
    "\n",
    "    cycle_gan_model.compile(\n",
    "        m_gen_optimizer = tf.keras.optimizers.Adam(2e-4, beta_1=0.5),\n",
    "        p_gen_optimizer = tf.keras.optimizers.Adam(2e-4, beta_1=0.5),\n",
    "        m_disc_optimizer = tf.keras.optimizers.Adam(1e-4, beta_1=0.5),\n",
    "        p_disc_optimizer =  tf.keras.optimizers.Adam(1e-4, beta_1=0.5),\n",
    "        gen_loss_fn = generator_loss,\n",
    "        disc_loss_fn = discriminator_loss,\n",
    "        cycle_loss_fn = calc_cycle_loss,\n",
    "        identity_loss_fn = identity_loss\n",
    "    )\n",
    "cycle_gan_model.fit(dataset,\n",
    "    epochs=epochs\n",
    ")"
   ]
  },
  {
   "cell_type": "markdown",
   "id": "25f9417f",
   "metadata": {
    "papermill": {
     "duration": 8.211496,
     "end_time": "2022-04-22T14:27:24.146645",
     "exception": false,
     "start_time": "2022-04-22T14:27:15.935149",
     "status": "completed"
    },
    "tags": []
   },
   "source": [
    "# Visualize our Monet-esque photos"
   ]
  },
  {
   "cell_type": "code",
   "execution_count": 17,
   "id": "1cb1e16d",
   "metadata": {
    "execution": {
     "iopub.execute_input": "2022-04-22T14:27:40.895940Z",
     "iopub.status.busy": "2022-04-22T14:27:40.895090Z",
     "iopub.status.idle": "2022-04-22T14:27:42.268311Z",
     "shell.execute_reply": "2022-04-22T14:27:42.267514Z"
    },
    "papermill": {
     "duration": 9.645237,
     "end_time": "2022-04-22T14:27:42.268438",
     "exception": false,
     "start_time": "2022-04-22T14:27:32.623201",
     "status": "completed"
    },
    "tags": []
   },
   "outputs": [
    {
     "data": {
      "image/png": "[encoded data removed]",
      "text/plain": [
       "<Figure size 432x288 with 6 Axes>"
      ]
     },
     "metadata": {
      "needs_background": "light"
     },
     "output_type": "display_data"
    }
   ],
   "source": [
    "for i, img in enumerate(photo.take(3)):\n",
    "    prediction = Mt_generator(img, training=False)[0].numpy()\n",
    "    prediction = (prediction * 127.5 + 127.5).astype(np.uint8)\n",
    "    img = (img[0] * 127.5 + 127.5).numpy().astype(np.uint8)\n",
    "    \n",
    "    plt.subplot(3,2,2*i+1)\n",
    "    plt.title('Photo')\n",
    "    plt.imshow(img)\n",
    "    plt.subplot(3,2,2*i+2)\n",
    "    plt.title('Photo Transferred')\n",
    "    plt.imshow(prediction)"
   ]
  },
  {
   "cell_type": "markdown",
   "id": "84d7b221",
   "metadata": {
    "papermill": {
     "duration": 8.518753,
     "end_time": "2022-04-22T14:27:58.921732",
     "exception": false,
     "start_time": "2022-04-22T14:27:50.402979",
     "status": "completed"
    },
    "tags": []
   },
   "source": [
    "# Create submission file"
   ]
  },
  {
   "cell_type": "code",
   "execution_count": 18,
   "id": "9eb17a08",
   "metadata": {
    "execution": {
     "iopub.execute_input": "2022-04-22T14:28:15.441437Z",
     "iopub.status.busy": "2022-04-22T14:28:15.410757Z",
     "iopub.status.idle": "2022-04-22T14:32:48.902421Z",
     "shell.execute_reply": "2022-04-22T14:32:48.903230Z"
    },
    "papermill": {
     "duration": 281.497006,
     "end_time": "2022-04-22T14:32:48.903458",
     "exception": false,
     "start_time": "2022-04-22T14:28:07.406452",
     "status": "completed"
    },
    "tags": []
   },
   "outputs": [
    {
     "data": {
      "text/plain": [
       "'/kaggle/working/images.zip'"
      ]
     },
     "execution_count": 18,
     "metadata": {},
     "output_type": "execute_result"
    }
   ],
   "source": [
    "import PIL\n",
    "! mkdir ../images\n",
    "i = 1\n",
    "for img in photo_test:\n",
    "    prediction = Mt_generator(img, training=False)[0].numpy()\n",
    "    im = PIL.Image.fromarray((prediction * 127.5 + 127.5).astype(np.uint8))\n",
    "    im.save(\"../images/\" + str(i) + \".jpg\")\n",
    "    i += 1\n",
    "import shutil\n",
    "shutil.make_archive(\"/kaggle/working/images\", 'zip', \"/kaggle/images\")"
   ]
  }
 ],
 "metadata": {
  "kernelspec": {
   "display_name": "Python 3 (ipykernel)",
   "language": "python",
   "name": "python3"
  },
  "language_info": {
   "codemirror_mode": {
    "name": "ipython",
    "version": 3
   },
   "file_extension": ".py",
   "mimetype": "text/x-python",
   "name": "python",
   "nbconvert_exporter": "python",
   "pygments_lexer": "ipython3",
   "version": "3.9.7"
  },
  "papermill": {
   "default_parameters": {},
   "duration": 7839.584289,
   "end_time": "2022-04-22T14:33:00.845983",
   "environment_variables": {},
   "exception": null,
   "input_path": "__notebook__.ipynb",
   "output_path": "__notebook__.ipynb",
   "parameters": {},
   "start_time": "2022-04-22T12:22:21.261694",
   "version": "2.3.3"
  }
 },
 "nbformat": 4,
 "nbformat_minor": 5
}
