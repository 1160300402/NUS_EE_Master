{
 "cells": [
  {
   "cell_type": "code",
   "execution_count": 38,
   "id": "ed9e371e",
   "metadata": {},
   "outputs": [],
   "source": [
    "import cv2 as cv\n",
    "import numpy as np"
   ]
  },
  {
   "cell_type": "code",
   "execution_count": 65,
   "id": "d7a4b915",
   "metadata": {},
   "outputs": [],
   "source": [
    "org = cv.imread(\"./picture_part2/857_originSal.jpg\")"
   ]
  },
  {
   "cell_type": "code",
   "execution_count": 66,
   "id": "bf89053f",
   "metadata": {},
   "outputs": [],
   "source": [
    "h,w = org.shape[0],org.shape[1]\n",
    "mask = np.zeros((h,w),dtype=np.uint8)"
   ]
  },
  {
   "cell_type": "code",
   "execution_count": 67,
   "id": "b12500d9",
   "metadata": {},
   "outputs": [],
   "source": [
    "def get_rect(images):\n",
    "    x_list = []\n",
    "    y_list = []\n",
    "    def on_EVENT_LBUTTONDOWN(event, x, y, flags, param):\n",
    "        if event == cv.EVENT_LBUTTONDOWN:\n",
    "            x_list.append(x)\n",
    "            y_list.append(y)\n",
    "            print(x,y)\n",
    "        return x,y\n",
    "    cv.namedWindow(\"image\")\n",
    "    cv.setMouseCallback(\"image\", on_EVENT_LBUTTONDOWN)\n",
    "    cv.imshow(\"image\", org)\n",
    "    cv.waitKey(0)\n",
    "    cv.destroyAllWindows()\n",
    "    rect = (x_list[0],y_list[0],x_list[1],y_list[1])\n",
    "    return rect"
   ]
  },
  {
   "cell_type": "code",
   "execution_count": 68,
   "id": "b4d47bff",
   "metadata": {},
   "outputs": [
    {
     "name": "stdout",
     "output_type": "stream",
     "text": [
      "65 5\n",
      "178 214\n"
     ]
    }
   ],
   "source": [
    "rect = get_rect(org)\n",
    "bgdmodel = np.zeros((1,65),dtype=\"float\")\n",
    "fgdmodel = np.zeros((1,65),dtype=\"float\")"
   ]
  },
  {
   "cell_type": "code",
   "execution_count": 69,
   "id": "7bed656e",
   "metadata": {},
   "outputs": [],
   "source": [
    "grabcut = cv.grabCut(org,mask,rect,bgdmodel,fgdmodel,5,mode=cv.GC_INIT_WITH_RECT)"
   ]
  },
  {
   "cell_type": "code",
   "execution_count": 70,
   "id": "654256ef",
   "metadata": {},
   "outputs": [],
   "source": [
    "mask_values = ((\"Predicted Background\", cv.GC_PR_BGD),(\"Predicted Foreground\", cv.GC_PR_FGD))\n",
    "# loop over the possible GrabCut mask values\n",
    "for (name, value) in mask_values:\n",
    "    valueMask = (mask == value).astype(\"uint8\") * 255\n",
    "    # display the mask so we can visualize it\n",
    "    cv.imshow(name, valueMask)\n",
    "    cv.waitKey(0)\n",
    "    cv.destroyAllWindows()"
   ]
  },
  {
   "cell_type": "code",
   "execution_count": 71,
   "id": "dbbbf9a2",
   "metadata": {},
   "outputs": [],
   "source": [
    "outputMask = np.where((mask == cv.GC_BGD) | (mask == cv.GC_PR_BGD),0, 1)\n",
    "outputMask = (outputMask * 255).astype(\"uint8\")# scale the mask from the range to [0, 255]\n",
    "output = cv.bitwise_and(org, org, mask=outputMask)\n",
    "cv.imshow('output', output)\n",
    "cv.waitKey(0)\n",
    "cv.destroyAllWindows()"
   ]
  }
 ],
 "metadata": {
  "kernelspec": {
   "display_name": "Python 3 (ipykernel)",
   "language": "python",
   "name": "python3"
  },
  "language_info": {
   "codemirror_mode": {
    "name": "ipython",
    "version": 3
   },
   "file_extension": ".py",
   "mimetype": "text/x-python",
   "name": "python",
   "nbconvert_exporter": "python",
   "pygments_lexer": "ipython3",
   "version": "3.9.7"
  }
 },
 "nbformat": 4,
 "nbformat_minor": 5
}
